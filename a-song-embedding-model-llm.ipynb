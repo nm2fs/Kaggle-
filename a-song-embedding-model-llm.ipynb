{
 "cells": [
  {
   "cell_type": "markdown",
   "id": "8d353474",
   "metadata": {
    "papermill": {
     "duration": 0.004352,
     "end_time": "2024-12-22T20:01:45.043932",
     "exception": false,
     "start_time": "2024-12-22T20:01:45.039580",
     "status": "completed"
    },
    "tags": []
   },
   "source": [
    "# Training a Song Embedding Model to Find Similar Songs in Playlists:"
   ]
  },
  {
   "cell_type": "markdown",
   "id": "41d59ce4",
   "metadata": {
    "papermill": {
     "duration": 0.002978,
     "end_time": "2024-12-22T20:01:45.050669",
     "exception": false,
     "start_time": "2024-12-22T20:01:45.047691",
     "status": "completed"
    },
    "tags": []
   },
   "source": [
    "In this notebook, a song embedding model Word2Vec is trained to find an example song in multiple playlists. "
   ]
  },
  {
   "cell_type": "code",
   "execution_count": 1,
   "id": "13f6069d",
   "metadata": {
    "_cell_guid": "b1076dfc-b9ad-4769-8c92-a6c4dae69d19",
    "_uuid": "8f2839f25d086af736a60e9eeb907d3b93b6e0e5",
    "execution": {
     "iopub.execute_input": "2024-12-22T20:01:45.058537Z",
     "iopub.status.busy": "2024-12-22T20:01:45.058161Z",
     "iopub.status.idle": "2024-12-22T20:01:45.452898Z",
     "shell.execute_reply": "2024-12-22T20:01:45.451886Z"
    },
    "papermill": {
     "duration": 0.400966,
     "end_time": "2024-12-22T20:01:45.454772",
     "exception": false,
     "start_time": "2024-12-22T20:01:45.053806",
     "status": "completed"
    },
    "tags": []
   },
   "outputs": [],
   "source": [
    "import pandas as pd\n",
    "from urllib import request"
   ]
  },
  {
   "cell_type": "code",
   "execution_count": 2,
   "id": "09aa31de",
   "metadata": {
    "execution": {
     "iopub.execute_input": "2024-12-22T20:01:45.465666Z",
     "iopub.status.busy": "2024-12-22T20:01:45.464928Z",
     "iopub.status.idle": "2024-12-22T20:01:45.639694Z",
     "shell.execute_reply": "2024-12-22T20:01:45.638591Z"
    },
    "papermill": {
     "duration": 0.182408,
     "end_time": "2024-12-22T20:01:45.641492",
     "exception": false,
     "start_time": "2024-12-22T20:01:45.459084",
     "status": "completed"
    },
    "tags": []
   },
   "outputs": [
    {
     "data": {
      "text/plain": [
       "<http.client.HTTPResponse at 0x78040717cac0>"
      ]
     },
     "execution_count": 2,
     "metadata": {},
     "output_type": "execute_result"
    }
   ],
   "source": [
    "# Load the playlist dataset \n",
    "df = request.urlopen('https://storage.googleapis.com/maps-premium/dataset/yes_complete/train.txt')\n",
    "df"
   ]
  },
  {
   "cell_type": "code",
   "execution_count": 3,
   "id": "260ac751",
   "metadata": {
    "execution": {
     "iopub.execute_input": "2024-12-22T20:01:45.649607Z",
     "iopub.status.busy": "2024-12-22T20:01:45.649279Z",
     "iopub.status.idle": "2024-12-22T20:01:45.809293Z",
     "shell.execute_reply": "2024-12-22T20:01:45.808237Z"
    },
    "papermill": {
     "duration": 0.166091,
     "end_time": "2024-12-22T20:01:45.811079",
     "exception": false,
     "start_time": "2024-12-22T20:01:45.644988",
     "status": "completed"
    },
    "tags": []
   },
   "outputs": [],
   "source": [
    "# Parse the playlist dataset file and skip the first 2 lines. The first 2 lines contain metadata\n",
    "lines = df.read().decode(\"utf-8\").split(\"\\n\")[2:]"
   ]
  },
  {
   "cell_type": "code",
   "execution_count": 4,
   "id": "4f582c30",
   "metadata": {
    "execution": {
     "iopub.execute_input": "2024-12-22T20:01:45.818988Z",
     "iopub.status.busy": "2024-12-22T20:01:45.818650Z",
     "iopub.status.idle": "2024-12-22T20:01:46.164900Z",
     "shell.execute_reply": "2024-12-22T20:01:46.163639Z"
    },
    "papermill": {
     "duration": 0.352644,
     "end_time": "2024-12-22T20:01:46.167195",
     "exception": false,
     "start_time": "2024-12-22T20:01:45.814551",
     "status": "completed"
    },
    "tags": []
   },
   "outputs": [],
   "source": [
    "# Remove the playlists including just one song\n",
    "playlists_clean = [s.rstrip().split() for s in lines if len(s.split()) > 1]"
   ]
  },
  {
   "cell_type": "code",
   "execution_count": 5,
   "id": "39a1a67e",
   "metadata": {
    "execution": {
     "iopub.execute_input": "2024-12-22T20:01:46.175905Z",
     "iopub.status.busy": "2024-12-22T20:01:46.175548Z",
     "iopub.status.idle": "2024-12-22T20:01:46.559078Z",
     "shell.execute_reply": "2024-12-22T20:01:46.557943Z"
    },
    "papermill": {
     "duration": 0.390253,
     "end_time": "2024-12-22T20:01:46.561102",
     "exception": false,
     "start_time": "2024-12-22T20:01:46.170849",
     "status": "completed"
    },
    "tags": []
   },
   "outputs": [],
   "source": [
    "# Load song metadata\n",
    "songs_file = request.urlopen('https://storage.googleapis.com/maps-premium/dataset/yes_complete/song_hash.txt')\n",
    "songs_file = songs_file.read().decode('utf_8').split('\\n')\n",
    "songs = [s.rstrip().split('\\t') for s in songs_file]\n",
    "songs_df = pd.DataFrame(data=songs, columns = ['id', 'title', 'artist'])\n",
    "songs_df = songs_df.set_index('id')"
   ]
  },
  {
   "cell_type": "code",
   "execution_count": 6,
   "id": "43cd3c27",
   "metadata": {
    "execution": {
     "iopub.execute_input": "2024-12-22T20:01:46.569532Z",
     "iopub.status.busy": "2024-12-22T20:01:46.569178Z",
     "iopub.status.idle": "2024-12-22T20:01:46.575320Z",
     "shell.execute_reply": "2024-12-22T20:01:46.573863Z"
    },
    "papermill": {
     "duration": 0.012619,
     "end_time": "2024-12-22T20:01:46.577384",
     "exception": false,
     "start_time": "2024-12-22T20:01:46.564765",
     "status": "completed"
    },
    "tags": []
   },
   "outputs": [
    {
     "name": "stdout",
     "output_type": "stream",
     "text": [
      "Playlist #1:\n",
      " ['0', '1', '2', '3', '4', '5', '6', '7', '8', '9', '10', '11', '12', '13', '14', '15', '16', '17', '18', '19', '20', '21', '22', '23', '24', '25', '26', '27', '28', '29', '30', '31', '32', '33', '34', '35', '36', '37', '38', '39', '40', '41', '2', '42', '43', '44', '45', '46', '47', '48', '20', '49', '8', '50', '51', '52', '53', '54', '55', '56', '57', '25', '58', '59', '60', '61', '62', '3', '63', '64', '65', '66', '46', '47', '67', '2', '48', '68', '69', '70', '57', '50', '71', '72', '53', '73', '25', '74', '59', '20', '46', '75', '76', '77', '59', '20', '43'] \n",
      "\n",
      "Playlist #2:\n",
      " ['78', '79', '80', '3', '62', '81', '14', '82', '48', '83', '84', '17', '85', '86', '87', '88', '74', '89', '90', '91', '4', '73', '62', '92', '17', '53', '59', '93', '94', '51', '50', '27', '95', '48', '96', '97', '98', '99', '100', '57', '101', '102', '25', '103', '3', '104', '105', '106', '107', '47', '108', '109', '110', '111', '112', '113', '25', '63', '62', '114', '115', '84', '116', '117', '118', '119', '120', '121', '122', '123', '50', '70', '71', '124', '17', '85', '14', '82', '48', '125', '47', '46', '72', '53', '25', '73', '4', '126', '59', '74', '20', '43', '127', '128', '129', '13', '82', '48', '130', '131', '132', '133', '134', '135', '136', '137', '59', '46', '138', '43', '20', '139', '140', '73', '57', '70', '141', '3', '1', '74', '142', '143', '144', '145', '48', '13', '25', '146', '50', '147', '126', '59', '20', '148', '149', '150', '151', '152', '56', '153', '154', '155', '156', '157', '158', '159', '160', '161', '162', '163', '164', '165', '166', '167', '168', '169', '170', '171', '172', '173', '174', '175', '60', '176', '51', '177', '178', '179', '180', '181', '182', '183', '184', '185', '57', '186', '187', '188', '189', '190', '191', '46', '192', '193', '194', '195', '196', '197', '198', '25', '199', '200', '49', '201', '100', '202', '203', '204', '205', '206', '207', '32', '208', '209', '210']\n"
     ]
    }
   ],
   "source": [
    "print('Playlist #1:\\n', playlists_clean[0], \"\\n\")\n",
    "print('Playlist #2:\\n', playlists_clean[1])"
   ]
  },
  {
   "cell_type": "code",
   "execution_count": 7,
   "id": "db3ac289",
   "metadata": {
    "execution": {
     "iopub.execute_input": "2024-12-22T20:01:46.586068Z",
     "iopub.status.busy": "2024-12-22T20:01:46.585658Z",
     "iopub.status.idle": "2024-12-22T20:02:37.107566Z",
     "shell.execute_reply": "2024-12-22T20:02:37.106395Z"
    },
    "papermill": {
     "duration": 50.528409,
     "end_time": "2024-12-22T20:02:37.109693",
     "exception": false,
     "start_time": "2024-12-22T20:01:46.581284",
     "status": "completed"
    },
    "tags": []
   },
   "outputs": [],
   "source": [
    "# Training the model\n",
    "from gensim.models import Word2Vec\n",
    "\n",
    "#Train the Word2Vec model\n",
    "model = Word2Vec(playlists_clean, vector_size = 32, window = 20, negative = 50, min_count = 1, workers = 4) # The window size sliding for 20 tokens. Then added 50 unrelated tokens that are not in the sliding window so that every 2 tokens are similary compared and predicted."
   ]
  },
  {
   "cell_type": "code",
   "execution_count": 8,
   "id": "87c012ff",
   "metadata": {
    "execution": {
     "iopub.execute_input": "2024-12-22T20:02:37.118713Z",
     "iopub.status.busy": "2024-12-22T20:02:37.118152Z",
     "iopub.status.idle": "2024-12-22T20:02:37.145409Z",
     "shell.execute_reply": "2024-12-22T20:02:37.144113Z"
    },
    "papermill": {
     "duration": 0.035316,
     "end_time": "2024-12-22T20:02:37.148991",
     "exception": false,
     "start_time": "2024-12-22T20:02:37.113675",
     "status": "completed"
    },
    "tags": []
   },
   "outputs": [
    {
     "data": {
      "text/plain": [
       "[('5878', 0.9962319135665894),\n",
       " ('35723', 0.9959354996681213),\n",
       " ('21108', 0.995265543460846),\n",
       " ('387', 0.9952342510223389),\n",
       " ('1143', 0.9950798153877258),\n",
       " ('346', 0.9950380325317383),\n",
       " ('126', 0.9945993423461914),\n",
       " ('269', 0.9944682121276855),\n",
       " ('442', 0.9943040013313293),\n",
       " ('28', 0.9942772388458252)]"
      ]
     },
     "execution_count": 8,
     "metadata": {},
     "output_type": "execute_result"
    }
   ],
   "source": [
    "# Ask the model for songs similar to song #21\n",
    "\n",
    "song_id = 21\n",
    "\n",
    "model.wv.most_similar(positive=str(song_id))"
   ]
  },
  {
   "cell_type": "code",
   "execution_count": 9,
   "id": "9730200e",
   "metadata": {
    "execution": {
     "iopub.execute_input": "2024-12-22T20:02:37.171304Z",
     "iopub.status.busy": "2024-12-22T20:02:37.170691Z",
     "iopub.status.idle": "2024-12-22T20:02:37.185226Z",
     "shell.execute_reply": "2024-12-22T20:02:37.183654Z"
    },
    "papermill": {
     "duration": 0.029824,
     "end_time": "2024-12-22T20:02:37.188684",
     "exception": false,
     "start_time": "2024-12-22T20:02:37.158860",
     "status": "completed"
    },
    "tags": []
   },
   "outputs": [
    {
     "name": "stdout",
     "output_type": "stream",
     "text": [
      "title     Do For Love\n",
      "artist           2Pac\n",
      "Name: 21 , dtype: object\n"
     ]
    }
   ],
   "source": [
    "# Name and information of song 21\n",
    "\n",
    "print(songs_df.iloc[21])"
   ]
  },
  {
   "cell_type": "code",
   "execution_count": 10,
   "id": "efdf2aa3",
   "metadata": {
    "execution": {
     "iopub.execute_input": "2024-12-22T20:02:37.211531Z",
     "iopub.status.busy": "2024-12-22T20:02:37.210881Z",
     "iopub.status.idle": "2024-12-22T20:02:37.250704Z",
     "shell.execute_reply": "2024-12-22T20:02:37.249199Z"
    },
    "papermill": {
     "duration": 0.054795,
     "end_time": "2024-12-22T20:02:37.254565",
     "exception": false,
     "start_time": "2024-12-22T20:02:37.199770",
     "status": "completed"
    },
    "tags": []
   },
   "outputs": [
    {
     "data": {
      "text/html": [
       "<div>\n",
       "<style scoped>\n",
       "    .dataframe tbody tr th:only-of-type {\n",
       "        vertical-align: middle;\n",
       "    }\n",
       "\n",
       "    .dataframe tbody tr th {\n",
       "        vertical-align: top;\n",
       "    }\n",
       "\n",
       "    .dataframe thead th {\n",
       "        text-align: right;\n",
       "    }\n",
       "</style>\n",
       "<table border=\"1\" class=\"dataframe\">\n",
       "  <thead>\n",
       "    <tr style=\"text-align: right;\">\n",
       "      <th></th>\n",
       "      <th>title</th>\n",
       "      <th>artist</th>\n",
       "    </tr>\n",
       "    <tr>\n",
       "      <th>id</th>\n",
       "      <th></th>\n",
       "      <th></th>\n",
       "    </tr>\n",
       "  </thead>\n",
       "  <tbody>\n",
       "    <tr>\n",
       "      <th>5878</th>\n",
       "      <td>Invented Sex (w\\/ Drake)</td>\n",
       "      <td>Trey Songz</td>\n",
       "    </tr>\n",
       "    <tr>\n",
       "      <th>35723</th>\n",
       "      <td>I Won't Tell (w\\/ J. Holiday)</td>\n",
       "      <td>Fat Joe</td>\n",
       "    </tr>\n",
       "    <tr>\n",
       "      <th>21108</th>\n",
       "      <td>Playaz Club</td>\n",
       "      <td>Rappin' 4-Tay</td>\n",
       "    </tr>\n",
       "    <tr>\n",
       "      <th>387</th>\n",
       "      <td>Say Something (w\\/ Drake)</td>\n",
       "      <td>Timbaland</td>\n",
       "    </tr>\n",
       "    <tr>\n",
       "      <th>1143</th>\n",
       "      <td>Mad</td>\n",
       "      <td>Ne-Yo</td>\n",
       "    </tr>\n",
       "  </tbody>\n",
       "</table>\n",
       "</div>"
      ],
      "text/plain": [
       "                                title         artist\n",
       "id                                                  \n",
       "5878         Invented Sex (w\\/ Drake)     Trey Songz\n",
       "35723   I Won't Tell (w\\/ J. Holiday)        Fat Joe\n",
       "21108                     Playaz Club  Rappin' 4-Tay\n",
       "387         Say Something (w\\/ Drake)      Timbaland\n",
       "1143                              Mad          Ne-Yo"
      ]
     },
     "execution_count": 10,
     "metadata": {},
     "output_type": "execute_result"
    }
   ],
   "source": [
    "# The results in recommendations in the same heavy metal and hard rock genre\n",
    "import numpy as np\n",
    "\n",
    "def print_recommendations(song_id):\n",
    "    similar_songs = np.array(\n",
    "        model.wv.most_similar(positive=str(song_id),topn=5))[:,0]\n",
    "    return songs_df.iloc[similar_songs]\n",
    "\n",
    "print_recommendations(21)"
   ]
  },
  {
   "cell_type": "code",
   "execution_count": null,
   "id": "908a9116",
   "metadata": {
    "papermill": {
     "duration": 0.009549,
     "end_time": "2024-12-22T20:02:37.274199",
     "exception": false,
     "start_time": "2024-12-22T20:02:37.264650",
     "status": "completed"
    },
    "tags": []
   },
   "outputs": [],
   "source": []
  }
 ],
 "metadata": {
  "kaggle": {
   "accelerator": "none",
   "dataSources": [],
   "dockerImageVersionId": 30822,
   "isGpuEnabled": false,
   "isInternetEnabled": true,
   "language": "python",
   "sourceType": "notebook"
  },
  "kernelspec": {
   "display_name": "Python 3",
   "language": "python",
   "name": "python3"
  },
  "language_info": {
   "codemirror_mode": {
    "name": "ipython",
    "version": 3
   },
   "file_extension": ".py",
   "mimetype": "text/x-python",
   "name": "python",
   "nbconvert_exporter": "python",
   "pygments_lexer": "ipython3",
   "version": "3.10.12"
  },
  "papermill": {
   "default_parameters": {},
   "duration": 55.972606,
   "end_time": "2024-12-22T20:02:38.714490",
   "environment_variables": {},
   "exception": null,
   "input_path": "__notebook__.ipynb",
   "output_path": "__notebook__.ipynb",
   "parameters": {},
   "start_time": "2024-12-22T20:01:42.741884",
   "version": "2.6.0"
  }
 },
 "nbformat": 4,
 "nbformat_minor": 5
}
