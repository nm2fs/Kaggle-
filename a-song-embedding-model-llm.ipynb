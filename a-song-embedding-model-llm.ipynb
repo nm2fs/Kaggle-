{
 "cells": [
  {
   "cell_type": "markdown",
   "id": "1ddccbbf",
   "metadata": {
    "papermill": {
     "duration": 0.006322,
     "end_time": "2024-12-22T20:50:15.368761",
     "exception": false,
     "start_time": "2024-12-22T20:50:15.362439",
     "status": "completed"
    },
    "tags": []
   },
   "source": [
    "# Training a Song Embedding Model to Find Similar Songs in Playlists:"
   ]
  },
  {
   "cell_type": "markdown",
   "id": "9cd5bc5e",
   "metadata": {
    "papermill": {
     "duration": 0.002965,
     "end_time": "2024-12-22T20:50:15.377962",
     "exception": false,
     "start_time": "2024-12-22T20:50:15.374997",
     "status": "completed"
    },
    "tags": []
   },
   "source": [
    "In this notebook, a song embedding model Word2Vec is trained to find an example song in multiple playlists. "
   ]
  },
  {
   "cell_type": "code",
   "execution_count": 1,
   "id": "0b8b090c",
   "metadata": {
    "_cell_guid": "b1076dfc-b9ad-4769-8c92-a6c4dae69d19",
    "_uuid": "8f2839f25d086af736a60e9eeb907d3b93b6e0e5",
    "execution": {
     "iopub.execute_input": "2024-12-22T20:50:15.385996Z",
     "iopub.status.busy": "2024-12-22T20:50:15.385552Z",
     "iopub.status.idle": "2024-12-22T20:50:15.804423Z",
     "shell.execute_reply": "2024-12-22T20:50:15.803408Z"
    },
    "papermill": {
     "duration": 0.425164,
     "end_time": "2024-12-22T20:50:15.806223",
     "exception": false,
     "start_time": "2024-12-22T20:50:15.381059",
     "status": "completed"
    },
    "tags": []
   },
   "outputs": [],
   "source": [
    "import pandas as pd\n",
    "from urllib import request"
   ]
  },
  {
   "cell_type": "code",
   "execution_count": 2,
   "id": "e0b9a12e",
   "metadata": {
    "execution": {
     "iopub.execute_input": "2024-12-22T20:50:15.813891Z",
     "iopub.status.busy": "2024-12-22T20:50:15.813446Z",
     "iopub.status.idle": "2024-12-22T20:50:16.042387Z",
     "shell.execute_reply": "2024-12-22T20:50:16.040571Z"
    },
    "papermill": {
     "duration": 0.235017,
     "end_time": "2024-12-22T20:50:16.044526",
     "exception": false,
     "start_time": "2024-12-22T20:50:15.809509",
     "status": "completed"
    },
    "tags": []
   },
   "outputs": [
    {
     "data": {
      "text/plain": [
       "<http.client.HTTPResponse at 0x7a6fdb274d60>"
      ]
     },
     "execution_count": 2,
     "metadata": {},
     "output_type": "execute_result"
    }
   ],
   "source": [
    "# Load the playlist dataset \n",
    "df = request.urlopen('https://storage.googleapis.com/maps-premium/dataset/yes_complete/train.txt')\n",
    "df"
   ]
  },
  {
   "cell_type": "code",
   "execution_count": 3,
   "id": "333f19f8",
   "metadata": {
    "execution": {
     "iopub.execute_input": "2024-12-22T20:50:16.052541Z",
     "iopub.status.busy": "2024-12-22T20:50:16.052155Z",
     "iopub.status.idle": "2024-12-22T20:50:16.917937Z",
     "shell.execute_reply": "2024-12-22T20:50:16.917014Z"
    },
    "papermill": {
     "duration": 0.871728,
     "end_time": "2024-12-22T20:50:16.919677",
     "exception": false,
     "start_time": "2024-12-22T20:50:16.047949",
     "status": "completed"
    },
    "tags": []
   },
   "outputs": [],
   "source": [
    "# Parse the playlist dataset file and skip the first 2 lines. The first 2 lines contain metadata\n",
    "lines = df.read().decode(\"utf-8\").split(\"\\n\")[2:]"
   ]
  },
  {
   "cell_type": "code",
   "execution_count": 4,
   "id": "7f25c9ac",
   "metadata": {
    "execution": {
     "iopub.execute_input": "2024-12-22T20:50:16.927359Z",
     "iopub.status.busy": "2024-12-22T20:50:16.926986Z",
     "iopub.status.idle": "2024-12-22T20:50:17.250242Z",
     "shell.execute_reply": "2024-12-22T20:50:17.249291Z"
    },
    "papermill": {
     "duration": 0.328851,
     "end_time": "2024-12-22T20:50:17.251953",
     "exception": false,
     "start_time": "2024-12-22T20:50:16.923102",
     "status": "completed"
    },
    "tags": []
   },
   "outputs": [],
   "source": [
    "# Remove the playlists including just one song\n",
    "playlists_clean = [s.rstrip().split() for s in lines if len(s.split()) > 1]"
   ]
  },
  {
   "cell_type": "code",
   "execution_count": 5,
   "id": "114313cf",
   "metadata": {
    "execution": {
     "iopub.execute_input": "2024-12-22T20:50:17.259598Z",
     "iopub.status.busy": "2024-12-22T20:50:17.259261Z",
     "iopub.status.idle": "2024-12-22T20:50:18.342431Z",
     "shell.execute_reply": "2024-12-22T20:50:18.341289Z"
    },
    "papermill": {
     "duration": 1.08903,
     "end_time": "2024-12-22T20:50:18.344349",
     "exception": false,
     "start_time": "2024-12-22T20:50:17.255319",
     "status": "completed"
    },
    "tags": []
   },
   "outputs": [],
   "source": [
    "# Load song metadata\n",
    "songs_file = request.urlopen('https://storage.googleapis.com/maps-premium/dataset/yes_complete/song_hash.txt')\n",
    "songs_file = songs_file.read().decode('utf_8').split('\\n')\n",
    "songs = [s.rstrip().split('\\t') for s in songs_file]\n",
    "songs_df = pd.DataFrame(data=songs, columns = ['id', 'title', 'artist'])\n",
    "songs_df = songs_df.set_index('id')"
   ]
  },
  {
   "cell_type": "code",
   "execution_count": 6,
   "id": "e598c22f",
   "metadata": {
    "execution": {
     "iopub.execute_input": "2024-12-22T20:50:18.352219Z",
     "iopub.status.busy": "2024-12-22T20:50:18.351871Z",
     "iopub.status.idle": "2024-12-22T20:50:18.358139Z",
     "shell.execute_reply": "2024-12-22T20:50:18.356344Z"
    },
    "papermill": {
     "duration": 0.012303,
     "end_time": "2024-12-22T20:50:18.360133",
     "exception": false,
     "start_time": "2024-12-22T20:50:18.347830",
     "status": "completed"
    },
    "tags": []
   },
   "outputs": [
    {
     "name": "stdout",
     "output_type": "stream",
     "text": [
      "Playlist #1:\n",
      " ['0', '1', '2', '3', '4', '5', '6', '7', '8', '9', '10', '11', '12', '13', '14', '15', '16', '17', '18', '19', '20', '21', '22', '23', '24', '25', '26', '27', '28', '29', '30', '31', '32', '33', '34', '35', '36', '37', '38', '39', '40', '41', '2', '42', '43', '44', '45', '46', '47', '48', '20', '49', '8', '50', '51', '52', '53', '54', '55', '56', '57', '25', '58', '59', '60', '61', '62', '3', '63', '64', '65', '66', '46', '47', '67', '2', '48', '68', '69', '70', '57', '50', '71', '72', '53', '73', '25', '74', '59', '20', '46', '75', '76', '77', '59', '20', '43'] \n",
      "\n",
      "Playlist #2:\n",
      " ['78', '79', '80', '3', '62', '81', '14', '82', '48', '83', '84', '17', '85', '86', '87', '88', '74', '89', '90', '91', '4', '73', '62', '92', '17', '53', '59', '93', '94', '51', '50', '27', '95', '48', '96', '97', '98', '99', '100', '57', '101', '102', '25', '103', '3', '104', '105', '106', '107', '47', '108', '109', '110', '111', '112', '113', '25', '63', '62', '114', '115', '84', '116', '117', '118', '119', '120', '121', '122', '123', '50', '70', '71', '124', '17', '85', '14', '82', '48', '125', '47', '46', '72', '53', '25', '73', '4', '126', '59', '74', '20', '43', '127', '128', '129', '13', '82', '48', '130', '131', '132', '133', '134', '135', '136', '137', '59', '46', '138', '43', '20', '139', '140', '73', '57', '70', '141', '3', '1', '74', '142', '143', '144', '145', '48', '13', '25', '146', '50', '147', '126', '59', '20', '148', '149', '150', '151', '152', '56', '153', '154', '155', '156', '157', '158', '159', '160', '161', '162', '163', '164', '165', '166', '167', '168', '169', '170', '171', '172', '173', '174', '175', '60', '176', '51', '177', '178', '179', '180', '181', '182', '183', '184', '185', '57', '186', '187', '188', '189', '190', '191', '46', '192', '193', '194', '195', '196', '197', '198', '25', '199', '200', '49', '201', '100', '202', '203', '204', '205', '206', '207', '32', '208', '209', '210']\n"
     ]
    }
   ],
   "source": [
    "print('Playlist #1:\\n', playlists_clean[0], \"\\n\")\n",
    "print('Playlist #2:\\n', playlists_clean[1])"
   ]
  },
  {
   "cell_type": "code",
   "execution_count": 7,
   "id": "0b70d9ac",
   "metadata": {
    "execution": {
     "iopub.execute_input": "2024-12-22T20:50:18.368352Z",
     "iopub.status.busy": "2024-12-22T20:50:18.367921Z",
     "iopub.status.idle": "2024-12-22T20:51:06.127321Z",
     "shell.execute_reply": "2024-12-22T20:51:06.125718Z"
    },
    "papermill": {
     "duration": 47.765648,
     "end_time": "2024-12-22T20:51:06.129384",
     "exception": false,
     "start_time": "2024-12-22T20:50:18.363736",
     "status": "completed"
    },
    "tags": []
   },
   "outputs": [],
   "source": [
    "# Training the model\n",
    "from gensim.models import Word2Vec\n",
    "\n",
    "#Train the Word2Vec model\n",
    "model = Word2Vec(playlists_clean, vector_size = 32, window = 20, negative = 50, min_count = 1, workers = 4) # The window size sliding for 20 tokens. Then added 50 unrelated tokens that are not in the sliding window so that every 2 tokens are similary compared and predicted."
   ]
  },
  {
   "cell_type": "code",
   "execution_count": 8,
   "id": "82271b64",
   "metadata": {
    "execution": {
     "iopub.execute_input": "2024-12-22T20:51:06.138120Z",
     "iopub.status.busy": "2024-12-22T20:51:06.137527Z",
     "iopub.status.idle": "2024-12-22T20:51:06.164359Z",
     "shell.execute_reply": "2024-12-22T20:51:06.162474Z"
    },
    "papermill": {
     "duration": 0.033742,
     "end_time": "2024-12-22T20:51:06.166841",
     "exception": false,
     "start_time": "2024-12-22T20:51:06.133099",
     "status": "completed"
    },
    "tags": []
   },
   "outputs": [
    {
     "data": {
      "text/plain": [
       "[('387', 0.9964921474456787),\n",
       " ('21108', 0.996441125869751),\n",
       " ('181', 0.9960564970970154),\n",
       " ('15632', 0.9954250454902649),\n",
       " ('478', 0.9953992962837219),\n",
       " ('269', 0.9953906536102295),\n",
       " ('35723', 0.995377242565155),\n",
       " ('9467', 0.9951581954956055),\n",
       " ('6708', 0.9951429963111877),\n",
       " ('5878', 0.9948707818984985)]"
      ]
     },
     "execution_count": 8,
     "metadata": {},
     "output_type": "execute_result"
    }
   ],
   "source": [
    "# Ask the model for songs similar to song #21\n",
    "\n",
    "song_id = 21\n",
    "\n",
    "model.wv.most_similar(positive=str(song_id))"
   ]
  },
  {
   "cell_type": "code",
   "execution_count": 9,
   "id": "6a82a970",
   "metadata": {
    "execution": {
     "iopub.execute_input": "2024-12-22T20:51:06.181667Z",
     "iopub.status.busy": "2024-12-22T20:51:06.180821Z",
     "iopub.status.idle": "2024-12-22T20:51:06.191921Z",
     "shell.execute_reply": "2024-12-22T20:51:06.190904Z"
    },
    "papermill": {
     "duration": 0.021205,
     "end_time": "2024-12-22T20:51:06.194399",
     "exception": false,
     "start_time": "2024-12-22T20:51:06.173194",
     "status": "completed"
    },
    "tags": []
   },
   "outputs": [
    {
     "name": "stdout",
     "output_type": "stream",
     "text": [
      "title     Do For Love\n",
      "artist           2Pac\n",
      "Name: 21 , dtype: object\n"
     ]
    }
   ],
   "source": [
    "# Name and information of song 21\n",
    "\n",
    "print(songs_df.iloc[21])"
   ]
  },
  {
   "cell_type": "code",
   "execution_count": 10,
   "id": "fbbdd99f",
   "metadata": {
    "execution": {
     "iopub.execute_input": "2024-12-22T20:51:06.210495Z",
     "iopub.status.busy": "2024-12-22T20:51:06.208602Z",
     "iopub.status.idle": "2024-12-22T20:51:06.242332Z",
     "shell.execute_reply": "2024-12-22T20:51:06.241278Z"
    },
    "papermill": {
     "duration": 0.044178,
     "end_time": "2024-12-22T20:51:06.244969",
     "exception": false,
     "start_time": "2024-12-22T20:51:06.200791",
     "status": "completed"
    },
    "tags": []
   },
   "outputs": [
    {
     "data": {
      "text/html": [
       "<div>\n",
       "<style scoped>\n",
       "    .dataframe tbody tr th:only-of-type {\n",
       "        vertical-align: middle;\n",
       "    }\n",
       "\n",
       "    .dataframe tbody tr th {\n",
       "        vertical-align: top;\n",
       "    }\n",
       "\n",
       "    .dataframe thead th {\n",
       "        text-align: right;\n",
       "    }\n",
       "</style>\n",
       "<table border=\"1\" class=\"dataframe\">\n",
       "  <thead>\n",
       "    <tr style=\"text-align: right;\">\n",
       "      <th></th>\n",
       "      <th>title</th>\n",
       "      <th>artist</th>\n",
       "    </tr>\n",
       "    <tr>\n",
       "      <th>id</th>\n",
       "      <th></th>\n",
       "      <th></th>\n",
       "    </tr>\n",
       "  </thead>\n",
       "  <tbody>\n",
       "    <tr>\n",
       "      <th>387</th>\n",
       "      <td>Say Something (w\\/ Drake)</td>\n",
       "      <td>Timbaland</td>\n",
       "    </tr>\n",
       "    <tr>\n",
       "      <th>21108</th>\n",
       "      <td>Playaz Club</td>\n",
       "      <td>Rappin' 4-Tay</td>\n",
       "    </tr>\n",
       "    <tr>\n",
       "      <th>181</th>\n",
       "      <td>August Town</td>\n",
       "      <td>Duane Stephenson</td>\n",
       "    </tr>\n",
       "    <tr>\n",
       "      <th>15632</th>\n",
       "      <td>Crush On You (w\\/ Lil' Cease &amp; The Notorious B...</td>\n",
       "      <td>Lil' Kim</td>\n",
       "    </tr>\n",
       "    <tr>\n",
       "      <th>478</th>\n",
       "      <td>Let It Go (w\\/ Missy Elliott &amp; Lil' Kim)</td>\n",
       "      <td>Keyshia Cole</td>\n",
       "    </tr>\n",
       "  </tbody>\n",
       "</table>\n",
       "</div>"
      ],
      "text/plain": [
       "                                                    title            artist\n",
       "id                                                                         \n",
       "387                             Say Something (w\\/ Drake)         Timbaland\n",
       "21108                                         Playaz Club     Rappin' 4-Tay\n",
       "181                                           August Town  Duane Stephenson\n",
       "15632   Crush On You (w\\/ Lil' Cease & The Notorious B...          Lil' Kim\n",
       "478              Let It Go (w\\/ Missy Elliott & Lil' Kim)      Keyshia Cole"
      ]
     },
     "execution_count": 10,
     "metadata": {},
     "output_type": "execute_result"
    }
   ],
   "source": [
    "# The results in recommendations in the same heavy metal and hard rock genre\n",
    "import numpy as np\n",
    "\n",
    "def print_recommendations(song_id):\n",
    "    similar_songs = np.array(\n",
    "        model.wv.most_similar(positive=str(song_id),topn=5))[:,0]\n",
    "    return songs_df.iloc[similar_songs]\n",
    "\n",
    "print_recommendations(21)"
   ]
  },
  {
   "cell_type": "markdown",
   "id": "a113d0c0",
   "metadata": {
    "papermill": {
     "duration": 0.006085,
     "end_time": "2024-12-22T20:51:06.257791",
     "exception": false,
     "start_time": "2024-12-22T20:51:06.251706",
     "status": "completed"
    },
    "tags": []
   },
   "source": [
    "The main source for this notebook is \"Hands-On Large Language Models\" by Alammar and Grootendorst, 2024"
   ]
  },
  {
   "cell_type": "code",
   "execution_count": null,
   "id": "50088183",
   "metadata": {
    "papermill": {
     "duration": 0.006218,
     "end_time": "2024-12-22T20:51:06.270531",
     "exception": false,
     "start_time": "2024-12-22T20:51:06.264313",
     "status": "completed"
    },
    "tags": []
   },
   "outputs": [],
   "source": []
  }
 ],
 "metadata": {
  "kaggle": {
   "accelerator": "none",
   "dataSources": [],
   "dockerImageVersionId": 30822,
   "isGpuEnabled": false,
   "isInternetEnabled": true,
   "language": "python",
   "sourceType": "notebook"
  },
  "kernelspec": {
   "display_name": "Python 3",
   "language": "python",
   "name": "python3"
  },
  "language_info": {
   "codemirror_mode": {
    "name": "ipython",
    "version": 3
   },
   "file_extension": ".py",
   "mimetype": "text/x-python",
   "name": "python",
   "nbconvert_exporter": "python",
   "pygments_lexer": "ipython3",
   "version": "3.10.12"
  },
  "papermill": {
   "default_parameters": {},
   "duration": 54.664842,
   "end_time": "2024-12-22T20:51:07.601161",
   "environment_variables": {},
   "exception": null,
   "input_path": "__notebook__.ipynb",
   "output_path": "__notebook__.ipynb",
   "parameters": {},
   "start_time": "2024-12-22T20:50:12.936319",
   "version": "2.6.0"
  }
 },
 "nbformat": 4,
 "nbformat_minor": 5
}
