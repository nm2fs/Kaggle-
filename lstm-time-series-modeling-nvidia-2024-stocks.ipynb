{
 "cells": [
  {
   "cell_type": "markdown",
   "id": "e0e35498",
   "metadata": {
    "papermill": {
     "duration": 0.008093,
     "end_time": "2025-01-13T20:40:07.574684",
     "exception": false,
     "start_time": "2025-01-13T20:40:07.566591",
     "status": "completed"
    },
    "tags": []
   },
   "source": [
    "# LSTM Time Series Modeling NVIDIA 2024 Stocks Using TensorFlow:"
   ]
  },
  {
   "cell_type": "code",
   "execution_count": 1,
   "id": "41ac5c9e",
   "metadata": {
    "execution": {
     "iopub.execute_input": "2025-01-13T20:40:07.589107Z",
     "iopub.status.busy": "2025-01-13T20:40:07.588652Z",
     "iopub.status.idle": "2025-01-13T20:40:20.385698Z",
     "shell.execute_reply": "2025-01-13T20:40:20.384548Z"
    },
    "papermill": {
     "duration": 12.806463,
     "end_time": "2025-01-13T20:40:20.387815",
     "exception": false,
     "start_time": "2025-01-13T20:40:07.581352",
     "status": "completed"
    },
    "tags": []
   },
   "outputs": [],
   "source": [
    "import pandas as pd\n",
    "import numpy as np\n",
    "from sklearn.preprocessing import MinMaxScaler\n",
    "from sklearn.model_selection import train_test_split\n",
    "from tensorflow.keras.models import Sequential\n",
    "from tensorflow.keras.layers import LSTM, Dense, Dropout\n",
    "import matplotlib.pyplot as plt"
   ]
  },
  {
   "cell_type": "code",
   "execution_count": 2,
   "id": "aeac8911",
   "metadata": {
    "_cell_guid": "b1076dfc-b9ad-4769-8c92-a6c4dae69d19",
    "_uuid": "8f2839f25d086af736a60e9eeb907d3b93b6e0e5",
    "execution": {
     "iopub.execute_input": "2025-01-13T20:40:20.405494Z",
     "iopub.status.busy": "2025-01-13T20:40:20.404598Z",
     "iopub.status.idle": "2025-01-13T20:40:20.416465Z",
     "shell.execute_reply": "2025-01-13T20:40:20.414978Z"
    },
    "papermill": {
     "duration": 0.022626,
     "end_time": "2025-01-13T20:40:20.418632",
     "exception": false,
     "start_time": "2025-01-13T20:40:20.396006",
     "status": "completed"
    },
    "tags": []
   },
   "outputs": [
    {
     "name": "stdout",
     "output_type": "stream",
     "text": [
      "/kaggle/input/nvidia-corporation-2024-stock-market-dataset/NVIDIA 2024 Stock Market Data.csv\n"
     ]
    }
   ],
   "source": [
    "import os\n",
    "for dirname, _, filenames in os.walk('/kaggle/input'):\n",
    "    for filename in filenames:\n",
    "        print(os.path.join(dirname, filename))\n",
    "\n",
    "# You can write up to 20GB to the current directory (/kaggle/working/) that gets preserved as output when you create a version using \"Save & Run All\" \n",
    "# You can also write temporary files to /kaggle/temp/, but they won't be saved outside of the current session"
   ]
  },
  {
   "cell_type": "code",
   "execution_count": 3,
   "id": "24acdc2f",
   "metadata": {
    "execution": {
     "iopub.execute_input": "2025-01-13T20:40:20.433793Z",
     "iopub.status.busy": "2025-01-13T20:40:20.433407Z",
     "iopub.status.idle": "2025-01-13T20:40:20.469035Z",
     "shell.execute_reply": "2025-01-13T20:40:20.467851Z"
    },
    "papermill": {
     "duration": 0.04545,
     "end_time": "2025-01-13T20:40:20.470913",
     "exception": false,
     "start_time": "2025-01-13T20:40:20.425463",
     "status": "completed"
    },
    "tags": []
   },
   "outputs": [
    {
     "data": {
      "text/html": [
       "<div>\n",
       "<style scoped>\n",
       "    .dataframe tbody tr th:only-of-type {\n",
       "        vertical-align: middle;\n",
       "    }\n",
       "\n",
       "    .dataframe tbody tr th {\n",
       "        vertical-align: top;\n",
       "    }\n",
       "\n",
       "    .dataframe thead th {\n",
       "        text-align: right;\n",
       "    }\n",
       "</style>\n",
       "<table border=\"1\" class=\"dataframe\">\n",
       "  <thead>\n",
       "    <tr style=\"text-align: right;\">\n",
       "      <th></th>\n",
       "      <th>Date</th>\n",
       "      <th>Close</th>\n",
       "      <th>Open</th>\n",
       "      <th>High</th>\n",
       "      <th>Low</th>\n",
       "      <th>Volume</th>\n",
       "    </tr>\n",
       "  </thead>\n",
       "  <tbody>\n",
       "    <tr>\n",
       "      <th>0</th>\n",
       "      <td>1/2/24</td>\n",
       "      <td>$48.17</td>\n",
       "      <td>$49.24</td>\n",
       "      <td>$49.30</td>\n",
       "      <td>$47.60</td>\n",
       "      <td>411,254,220</td>\n",
       "    </tr>\n",
       "    <tr>\n",
       "      <th>1</th>\n",
       "      <td>1/3/24</td>\n",
       "      <td>$47.57</td>\n",
       "      <td>$47.49</td>\n",
       "      <td>$48.18</td>\n",
       "      <td>$47.32</td>\n",
       "      <td>320,896,170</td>\n",
       "    </tr>\n",
       "    <tr>\n",
       "      <th>2</th>\n",
       "      <td>1/4/24</td>\n",
       "      <td>$48.00</td>\n",
       "      <td>$47.77</td>\n",
       "      <td>$48.50</td>\n",
       "      <td>$47.51</td>\n",
       "      <td>306,534,890</td>\n",
       "    </tr>\n",
       "    <tr>\n",
       "      <th>3</th>\n",
       "      <td>1/5/24</td>\n",
       "      <td>$49.10</td>\n",
       "      <td>$48.46</td>\n",
       "      <td>$49.55</td>\n",
       "      <td>$48.31</td>\n",
       "      <td>415,039,270</td>\n",
       "    </tr>\n",
       "    <tr>\n",
       "      <th>4</th>\n",
       "      <td>1/8/24</td>\n",
       "      <td>$52.25</td>\n",
       "      <td>$49.51</td>\n",
       "      <td>$52.28</td>\n",
       "      <td>$49.48</td>\n",
       "      <td>642,509,900</td>\n",
       "    </tr>\n",
       "    <tr>\n",
       "      <th>...</th>\n",
       "      <td>...</td>\n",
       "      <td>...</td>\n",
       "      <td>...</td>\n",
       "      <td>...</td>\n",
       "      <td>...</td>\n",
       "      <td>...</td>\n",
       "    </tr>\n",
       "    <tr>\n",
       "      <th>243</th>\n",
       "      <td>12/18/24</td>\n",
       "      <td>$128.91</td>\n",
       "      <td>$133.86</td>\n",
       "      <td>$136.70</td>\n",
       "      <td>$128.28</td>\n",
       "      <td>277,444,533</td>\n",
       "    </tr>\n",
       "    <tr>\n",
       "      <th>244</th>\n",
       "      <td>12/19/24</td>\n",
       "      <td>$130.68</td>\n",
       "      <td>$131.76</td>\n",
       "      <td>$134.03</td>\n",
       "      <td>$129.55</td>\n",
       "      <td>209,719,210</td>\n",
       "    </tr>\n",
       "    <tr>\n",
       "      <th>245</th>\n",
       "      <td>12/20/24</td>\n",
       "      <td>$134.70</td>\n",
       "      <td>$129.81</td>\n",
       "      <td>$135.28</td>\n",
       "      <td>$128.22</td>\n",
       "      <td>306,528,553</td>\n",
       "    </tr>\n",
       "    <tr>\n",
       "      <th>246</th>\n",
       "      <td>12/23/24</td>\n",
       "      <td>$139.67</td>\n",
       "      <td>$136.28</td>\n",
       "      <td>$139.79</td>\n",
       "      <td>$135.12</td>\n",
       "      <td>176,053,506</td>\n",
       "    </tr>\n",
       "    <tr>\n",
       "      <th>247</th>\n",
       "      <td>12/24/24</td>\n",
       "      <td>$140.22</td>\n",
       "      <td>$140.00</td>\n",
       "      <td>$141.90</td>\n",
       "      <td>$138.65</td>\n",
       "      <td>105,156,989</td>\n",
       "    </tr>\n",
       "  </tbody>\n",
       "</table>\n",
       "<p>248 rows × 6 columns</p>\n",
       "</div>"
      ],
      "text/plain": [
       "         Date      Close       Open       High        Low       Volume\n",
       "0      1/2/24    $48.17     $49.24     $49.30     $47.60   411,254,220\n",
       "1      1/3/24    $47.57     $47.49     $48.18     $47.32   320,896,170\n",
       "2      1/4/24    $48.00     $47.77     $48.50     $47.51   306,534,890\n",
       "3      1/5/24    $49.10     $48.46     $49.55     $48.31   415,039,270\n",
       "4      1/8/24    $52.25     $49.51     $52.28     $49.48   642,509,900\n",
       "..        ...        ...        ...        ...        ...          ...\n",
       "243  12/18/24   $128.91    $133.86    $136.70    $128.28   277,444,533\n",
       "244  12/19/24   $130.68    $131.76    $134.03    $129.55   209,719,210\n",
       "245  12/20/24   $134.70    $129.81    $135.28    $128.22   306,528,553\n",
       "246  12/23/24   $139.67    $136.28    $139.79    $135.12   176,053,506\n",
       "247  12/24/24   $140.22    $140.00    $141.90    $138.65   105,156,989\n",
       "\n",
       "[248 rows x 6 columns]"
      ]
     },
     "execution_count": 3,
     "metadata": {},
     "output_type": "execute_result"
    }
   ],
   "source": [
    "nvidia_stock = pd.read_csv(\"/kaggle/input/nvidia-corporation-2024-stock-market-dataset/NVIDIA 2024 Stock Market Data.csv\")\n",
    "nvidia_stock"
   ]
  },
  {
   "cell_type": "code",
   "execution_count": 4,
   "id": "29491394",
   "metadata": {
    "execution": {
     "iopub.execute_input": "2025-01-13T20:40:20.487867Z",
     "iopub.status.busy": "2025-01-13T20:40:20.487532Z",
     "iopub.status.idle": "2025-01-13T20:40:20.503629Z",
     "shell.execute_reply": "2025-01-13T20:40:20.502410Z"
    },
    "papermill": {
     "duration": 0.0257,
     "end_time": "2025-01-13T20:40:20.505567",
     "exception": false,
     "start_time": "2025-01-13T20:40:20.479867",
     "status": "completed"
    },
    "tags": []
   },
   "outputs": [
    {
     "data": {
      "text/html": [
       "<div>\n",
       "<style scoped>\n",
       "    .dataframe tbody tr th:only-of-type {\n",
       "        vertical-align: middle;\n",
       "    }\n",
       "\n",
       "    .dataframe tbody tr th {\n",
       "        vertical-align: top;\n",
       "    }\n",
       "\n",
       "    .dataframe thead th {\n",
       "        text-align: right;\n",
       "    }\n",
       "</style>\n",
       "<table border=\"1\" class=\"dataframe\">\n",
       "  <thead>\n",
       "    <tr style=\"text-align: right;\">\n",
       "      <th></th>\n",
       "      <th>date</th>\n",
       "      <th>close</th>\n",
       "      <th>open</th>\n",
       "      <th>high</th>\n",
       "      <th>low</th>\n",
       "      <th>volume</th>\n",
       "    </tr>\n",
       "  </thead>\n",
       "  <tbody>\n",
       "    <tr>\n",
       "      <th>0</th>\n",
       "      <td>1/2/24</td>\n",
       "      <td>$48.17</td>\n",
       "      <td>$49.24</td>\n",
       "      <td>$49.30</td>\n",
       "      <td>$47.60</td>\n",
       "      <td>411,254,220</td>\n",
       "    </tr>\n",
       "    <tr>\n",
       "      <th>1</th>\n",
       "      <td>1/3/24</td>\n",
       "      <td>$47.57</td>\n",
       "      <td>$47.49</td>\n",
       "      <td>$48.18</td>\n",
       "      <td>$47.32</td>\n",
       "      <td>320,896,170</td>\n",
       "    </tr>\n",
       "    <tr>\n",
       "      <th>2</th>\n",
       "      <td>1/4/24</td>\n",
       "      <td>$48.00</td>\n",
       "      <td>$47.77</td>\n",
       "      <td>$48.50</td>\n",
       "      <td>$47.51</td>\n",
       "      <td>306,534,890</td>\n",
       "    </tr>\n",
       "    <tr>\n",
       "      <th>3</th>\n",
       "      <td>1/5/24</td>\n",
       "      <td>$49.10</td>\n",
       "      <td>$48.46</td>\n",
       "      <td>$49.55</td>\n",
       "      <td>$48.31</td>\n",
       "      <td>415,039,270</td>\n",
       "    </tr>\n",
       "    <tr>\n",
       "      <th>4</th>\n",
       "      <td>1/8/24</td>\n",
       "      <td>$52.25</td>\n",
       "      <td>$49.51</td>\n",
       "      <td>$52.28</td>\n",
       "      <td>$49.48</td>\n",
       "      <td>642,509,900</td>\n",
       "    </tr>\n",
       "    <tr>\n",
       "      <th>...</th>\n",
       "      <td>...</td>\n",
       "      <td>...</td>\n",
       "      <td>...</td>\n",
       "      <td>...</td>\n",
       "      <td>...</td>\n",
       "      <td>...</td>\n",
       "    </tr>\n",
       "    <tr>\n",
       "      <th>243</th>\n",
       "      <td>12/18/24</td>\n",
       "      <td>$128.91</td>\n",
       "      <td>$133.86</td>\n",
       "      <td>$136.70</td>\n",
       "      <td>$128.28</td>\n",
       "      <td>277,444,533</td>\n",
       "    </tr>\n",
       "    <tr>\n",
       "      <th>244</th>\n",
       "      <td>12/19/24</td>\n",
       "      <td>$130.68</td>\n",
       "      <td>$131.76</td>\n",
       "      <td>$134.03</td>\n",
       "      <td>$129.55</td>\n",
       "      <td>209,719,210</td>\n",
       "    </tr>\n",
       "    <tr>\n",
       "      <th>245</th>\n",
       "      <td>12/20/24</td>\n",
       "      <td>$134.70</td>\n",
       "      <td>$129.81</td>\n",
       "      <td>$135.28</td>\n",
       "      <td>$128.22</td>\n",
       "      <td>306,528,553</td>\n",
       "    </tr>\n",
       "    <tr>\n",
       "      <th>246</th>\n",
       "      <td>12/23/24</td>\n",
       "      <td>$139.67</td>\n",
       "      <td>$136.28</td>\n",
       "      <td>$139.79</td>\n",
       "      <td>$135.12</td>\n",
       "      <td>176,053,506</td>\n",
       "    </tr>\n",
       "    <tr>\n",
       "      <th>247</th>\n",
       "      <td>12/24/24</td>\n",
       "      <td>$140.22</td>\n",
       "      <td>$140.00</td>\n",
       "      <td>$141.90</td>\n",
       "      <td>$138.65</td>\n",
       "      <td>105,156,989</td>\n",
       "    </tr>\n",
       "  </tbody>\n",
       "</table>\n",
       "<p>248 rows × 6 columns</p>\n",
       "</div>"
      ],
      "text/plain": [
       "         date      close       open       high        low       volume\n",
       "0      1/2/24    $48.17     $49.24     $49.30     $47.60   411,254,220\n",
       "1      1/3/24    $47.57     $47.49     $48.18     $47.32   320,896,170\n",
       "2      1/4/24    $48.00     $47.77     $48.50     $47.51   306,534,890\n",
       "3      1/5/24    $49.10     $48.46     $49.55     $48.31   415,039,270\n",
       "4      1/8/24    $52.25     $49.51     $52.28     $49.48   642,509,900\n",
       "..        ...        ...        ...        ...        ...          ...\n",
       "243  12/18/24   $128.91    $133.86    $136.70    $128.28   277,444,533\n",
       "244  12/19/24   $130.68    $131.76    $134.03    $129.55   209,719,210\n",
       "245  12/20/24   $134.70    $129.81    $135.28    $128.22   306,528,553\n",
       "246  12/23/24   $139.67    $136.28    $139.79    $135.12   176,053,506\n",
       "247  12/24/24   $140.22    $140.00    $141.90    $138.65   105,156,989\n",
       "\n",
       "[248 rows x 6 columns]"
      ]
     },
     "execution_count": 4,
     "metadata": {},
     "output_type": "execute_result"
    }
   ],
   "source": [
    "nvidia_stock.columns = nvidia_stock.columns.str.lower().str.replace(' ', '_')\n",
    "nvidia_stock"
   ]
  },
  {
   "cell_type": "code",
   "execution_count": 5,
   "id": "b8a73399",
   "metadata": {
    "execution": {
     "iopub.execute_input": "2025-01-13T20:40:20.522209Z",
     "iopub.status.busy": "2025-01-13T20:40:20.521806Z",
     "iopub.status.idle": "2025-01-13T20:40:20.557642Z",
     "shell.execute_reply": "2025-01-13T20:40:20.556526Z"
    },
    "papermill": {
     "duration": 0.045537,
     "end_time": "2025-01-13T20:40:20.559484",
     "exception": false,
     "start_time": "2025-01-13T20:40:20.513947",
     "status": "completed"
    },
    "tags": []
   },
   "outputs": [
    {
     "name": "stderr",
     "output_type": "stream",
     "text": [
      "<ipython-input-5-50ee0394dfdd>:1: UserWarning: Could not infer format, so each element will be parsed individually, falling back to `dateutil`. To ensure parsing is consistent and as-expected, please specify a format.\n",
      "  nvidia_stock['date'] = pd.to_datetime(nvidia_stock['date'])\n"
     ]
    },
    {
     "data": {
      "text/html": [
       "<div>\n",
       "<style scoped>\n",
       "    .dataframe tbody tr th:only-of-type {\n",
       "        vertical-align: middle;\n",
       "    }\n",
       "\n",
       "    .dataframe tbody tr th {\n",
       "        vertical-align: top;\n",
       "    }\n",
       "\n",
       "    .dataframe thead th {\n",
       "        text-align: right;\n",
       "    }\n",
       "</style>\n",
       "<table border=\"1\" class=\"dataframe\">\n",
       "  <thead>\n",
       "    <tr style=\"text-align: right;\">\n",
       "      <th></th>\n",
       "      <th>date</th>\n",
       "      <th>close</th>\n",
       "      <th>open</th>\n",
       "      <th>high</th>\n",
       "      <th>low</th>\n",
       "      <th>volume</th>\n",
       "    </tr>\n",
       "  </thead>\n",
       "  <tbody>\n",
       "    <tr>\n",
       "      <th>0</th>\n",
       "      <td>2024-01-02</td>\n",
       "      <td>$48.17</td>\n",
       "      <td>$49.24</td>\n",
       "      <td>$49.30</td>\n",
       "      <td>$47.60</td>\n",
       "      <td>411,254,220</td>\n",
       "    </tr>\n",
       "    <tr>\n",
       "      <th>1</th>\n",
       "      <td>2024-01-03</td>\n",
       "      <td>$47.57</td>\n",
       "      <td>$47.49</td>\n",
       "      <td>$48.18</td>\n",
       "      <td>$47.32</td>\n",
       "      <td>320,896,170</td>\n",
       "    </tr>\n",
       "    <tr>\n",
       "      <th>2</th>\n",
       "      <td>2024-01-04</td>\n",
       "      <td>$48.00</td>\n",
       "      <td>$47.77</td>\n",
       "      <td>$48.50</td>\n",
       "      <td>$47.51</td>\n",
       "      <td>306,534,890</td>\n",
       "    </tr>\n",
       "    <tr>\n",
       "      <th>3</th>\n",
       "      <td>2024-01-05</td>\n",
       "      <td>$49.10</td>\n",
       "      <td>$48.46</td>\n",
       "      <td>$49.55</td>\n",
       "      <td>$48.31</td>\n",
       "      <td>415,039,270</td>\n",
       "    </tr>\n",
       "    <tr>\n",
       "      <th>4</th>\n",
       "      <td>2024-01-08</td>\n",
       "      <td>$52.25</td>\n",
       "      <td>$49.51</td>\n",
       "      <td>$52.28</td>\n",
       "      <td>$49.48</td>\n",
       "      <td>642,509,900</td>\n",
       "    </tr>\n",
       "    <tr>\n",
       "      <th>...</th>\n",
       "      <td>...</td>\n",
       "      <td>...</td>\n",
       "      <td>...</td>\n",
       "      <td>...</td>\n",
       "      <td>...</td>\n",
       "      <td>...</td>\n",
       "    </tr>\n",
       "    <tr>\n",
       "      <th>243</th>\n",
       "      <td>2024-12-18</td>\n",
       "      <td>$128.91</td>\n",
       "      <td>$133.86</td>\n",
       "      <td>$136.70</td>\n",
       "      <td>$128.28</td>\n",
       "      <td>277,444,533</td>\n",
       "    </tr>\n",
       "    <tr>\n",
       "      <th>244</th>\n",
       "      <td>2024-12-19</td>\n",
       "      <td>$130.68</td>\n",
       "      <td>$131.76</td>\n",
       "      <td>$134.03</td>\n",
       "      <td>$129.55</td>\n",
       "      <td>209,719,210</td>\n",
       "    </tr>\n",
       "    <tr>\n",
       "      <th>245</th>\n",
       "      <td>2024-12-20</td>\n",
       "      <td>$134.70</td>\n",
       "      <td>$129.81</td>\n",
       "      <td>$135.28</td>\n",
       "      <td>$128.22</td>\n",
       "      <td>306,528,553</td>\n",
       "    </tr>\n",
       "    <tr>\n",
       "      <th>246</th>\n",
       "      <td>2024-12-23</td>\n",
       "      <td>$139.67</td>\n",
       "      <td>$136.28</td>\n",
       "      <td>$139.79</td>\n",
       "      <td>$135.12</td>\n",
       "      <td>176,053,506</td>\n",
       "    </tr>\n",
       "    <tr>\n",
       "      <th>247</th>\n",
       "      <td>2024-12-24</td>\n",
       "      <td>$140.22</td>\n",
       "      <td>$140.00</td>\n",
       "      <td>$141.90</td>\n",
       "      <td>$138.65</td>\n",
       "      <td>105,156,989</td>\n",
       "    </tr>\n",
       "  </tbody>\n",
       "</table>\n",
       "<p>248 rows × 6 columns</p>\n",
       "</div>"
      ],
      "text/plain": [
       "          date      close       open       high        low       volume\n",
       "0   2024-01-02    $48.17     $49.24     $49.30     $47.60   411,254,220\n",
       "1   2024-01-03    $47.57     $47.49     $48.18     $47.32   320,896,170\n",
       "2   2024-01-04    $48.00     $47.77     $48.50     $47.51   306,534,890\n",
       "3   2024-01-05    $49.10     $48.46     $49.55     $48.31   415,039,270\n",
       "4   2024-01-08    $52.25     $49.51     $52.28     $49.48   642,509,900\n",
       "..         ...        ...        ...        ...        ...          ...\n",
       "243 2024-12-18   $128.91    $133.86    $136.70    $128.28   277,444,533\n",
       "244 2024-12-19   $130.68    $131.76    $134.03    $129.55   209,719,210\n",
       "245 2024-12-20   $134.70    $129.81    $135.28    $128.22   306,528,553\n",
       "246 2024-12-23   $139.67    $136.28    $139.79    $135.12   176,053,506\n",
       "247 2024-12-24   $140.22    $140.00    $141.90    $138.65   105,156,989\n",
       "\n",
       "[248 rows x 6 columns]"
      ]
     },
     "execution_count": 5,
     "metadata": {},
     "output_type": "execute_result"
    }
   ],
   "source": [
    "nvidia_stock['date'] = pd.to_datetime(nvidia_stock['date'])\n",
    "nvidia_stock"
   ]
  },
  {
   "cell_type": "code",
   "execution_count": 6,
   "id": "dbfc9e33",
   "metadata": {
    "execution": {
     "iopub.execute_input": "2025-01-13T20:40:20.576999Z",
     "iopub.status.busy": "2025-01-13T20:40:20.576648Z",
     "iopub.status.idle": "2025-01-13T20:40:20.585104Z",
     "shell.execute_reply": "2025-01-13T20:40:20.584038Z"
    },
    "papermill": {
     "duration": 0.019636,
     "end_time": "2025-01-13T20:40:20.586785",
     "exception": false,
     "start_time": "2025-01-13T20:40:20.567149",
     "status": "completed"
    },
    "tags": []
   },
   "outputs": [
    {
     "data": {
      "text/plain": [
       "date      datetime64[ns]\n",
       "close             object\n",
       "open              object\n",
       "high              object\n",
       "low               object\n",
       "volume            object\n",
       "dtype: object"
      ]
     },
     "execution_count": 6,
     "metadata": {},
     "output_type": "execute_result"
    }
   ],
   "source": [
    "nvidia_stock.dtypes"
   ]
  },
  {
   "cell_type": "code",
   "execution_count": 7,
   "id": "d4bf3e50",
   "metadata": {
    "execution": {
     "iopub.execute_input": "2025-01-13T20:40:20.602998Z",
     "iopub.status.busy": "2025-01-13T20:40:20.602637Z",
     "iopub.status.idle": "2025-01-13T20:40:20.619453Z",
     "shell.execute_reply": "2025-01-13T20:40:20.618222Z"
    },
    "papermill": {
     "duration": 0.027223,
     "end_time": "2025-01-13T20:40:20.621657",
     "exception": false,
     "start_time": "2025-01-13T20:40:20.594434",
     "status": "completed"
    },
    "tags": []
   },
   "outputs": [
    {
     "data": {
      "text/html": [
       "<div>\n",
       "<style scoped>\n",
       "    .dataframe tbody tr th:only-of-type {\n",
       "        vertical-align: middle;\n",
       "    }\n",
       "\n",
       "    .dataframe tbody tr th {\n",
       "        vertical-align: top;\n",
       "    }\n",
       "\n",
       "    .dataframe thead th {\n",
       "        text-align: right;\n",
       "    }\n",
       "</style>\n",
       "<table border=\"1\" class=\"dataframe\">\n",
       "  <thead>\n",
       "    <tr style=\"text-align: right;\">\n",
       "      <th></th>\n",
       "      <th>date</th>\n",
       "      <th>close</th>\n",
       "      <th>open</th>\n",
       "      <th>high</th>\n",
       "      <th>low</th>\n",
       "      <th>volume</th>\n",
       "    </tr>\n",
       "  </thead>\n",
       "  <tbody>\n",
       "    <tr>\n",
       "      <th>0</th>\n",
       "      <td>2024-01-02</td>\n",
       "      <td>$48.17</td>\n",
       "      <td>$49.24</td>\n",
       "      <td>$49.30</td>\n",
       "      <td>$47.60</td>\n",
       "      <td>411254220</td>\n",
       "    </tr>\n",
       "    <tr>\n",
       "      <th>1</th>\n",
       "      <td>2024-01-03</td>\n",
       "      <td>$47.57</td>\n",
       "      <td>$47.49</td>\n",
       "      <td>$48.18</td>\n",
       "      <td>$47.32</td>\n",
       "      <td>320896170</td>\n",
       "    </tr>\n",
       "    <tr>\n",
       "      <th>2</th>\n",
       "      <td>2024-01-04</td>\n",
       "      <td>$48.00</td>\n",
       "      <td>$47.77</td>\n",
       "      <td>$48.50</td>\n",
       "      <td>$47.51</td>\n",
       "      <td>306534890</td>\n",
       "    </tr>\n",
       "    <tr>\n",
       "      <th>3</th>\n",
       "      <td>2024-01-05</td>\n",
       "      <td>$49.10</td>\n",
       "      <td>$48.46</td>\n",
       "      <td>$49.55</td>\n",
       "      <td>$48.31</td>\n",
       "      <td>415039270</td>\n",
       "    </tr>\n",
       "    <tr>\n",
       "      <th>4</th>\n",
       "      <td>2024-01-08</td>\n",
       "      <td>$52.25</td>\n",
       "      <td>$49.51</td>\n",
       "      <td>$52.28</td>\n",
       "      <td>$49.48</td>\n",
       "      <td>642509900</td>\n",
       "    </tr>\n",
       "    <tr>\n",
       "      <th>...</th>\n",
       "      <td>...</td>\n",
       "      <td>...</td>\n",
       "      <td>...</td>\n",
       "      <td>...</td>\n",
       "      <td>...</td>\n",
       "      <td>...</td>\n",
       "    </tr>\n",
       "    <tr>\n",
       "      <th>243</th>\n",
       "      <td>2024-12-18</td>\n",
       "      <td>$128.91</td>\n",
       "      <td>$133.86</td>\n",
       "      <td>$136.70</td>\n",
       "      <td>$128.28</td>\n",
       "      <td>277444533</td>\n",
       "    </tr>\n",
       "    <tr>\n",
       "      <th>244</th>\n",
       "      <td>2024-12-19</td>\n",
       "      <td>$130.68</td>\n",
       "      <td>$131.76</td>\n",
       "      <td>$134.03</td>\n",
       "      <td>$129.55</td>\n",
       "      <td>209719210</td>\n",
       "    </tr>\n",
       "    <tr>\n",
       "      <th>245</th>\n",
       "      <td>2024-12-20</td>\n",
       "      <td>$134.70</td>\n",
       "      <td>$129.81</td>\n",
       "      <td>$135.28</td>\n",
       "      <td>$128.22</td>\n",
       "      <td>306528553</td>\n",
       "    </tr>\n",
       "    <tr>\n",
       "      <th>246</th>\n",
       "      <td>2024-12-23</td>\n",
       "      <td>$139.67</td>\n",
       "      <td>$136.28</td>\n",
       "      <td>$139.79</td>\n",
       "      <td>$135.12</td>\n",
       "      <td>176053506</td>\n",
       "    </tr>\n",
       "    <tr>\n",
       "      <th>247</th>\n",
       "      <td>2024-12-24</td>\n",
       "      <td>$140.22</td>\n",
       "      <td>$140.00</td>\n",
       "      <td>$141.90</td>\n",
       "      <td>$138.65</td>\n",
       "      <td>105156989</td>\n",
       "    </tr>\n",
       "  </tbody>\n",
       "</table>\n",
       "<p>248 rows × 6 columns</p>\n",
       "</div>"
      ],
      "text/plain": [
       "          date      close       open       high        low     volume\n",
       "0   2024-01-02    $48.17     $49.24     $49.30     $47.60   411254220\n",
       "1   2024-01-03    $47.57     $47.49     $48.18     $47.32   320896170\n",
       "2   2024-01-04    $48.00     $47.77     $48.50     $47.51   306534890\n",
       "3   2024-01-05    $49.10     $48.46     $49.55     $48.31   415039270\n",
       "4   2024-01-08    $52.25     $49.51     $52.28     $49.48   642509900\n",
       "..         ...        ...        ...        ...        ...        ...\n",
       "243 2024-12-18   $128.91    $133.86    $136.70    $128.28   277444533\n",
       "244 2024-12-19   $130.68    $131.76    $134.03    $129.55   209719210\n",
       "245 2024-12-20   $134.70    $129.81    $135.28    $128.22   306528553\n",
       "246 2024-12-23   $139.67    $136.28    $139.79    $135.12   176053506\n",
       "247 2024-12-24   $140.22    $140.00    $141.90    $138.65   105156989\n",
       "\n",
       "[248 rows x 6 columns]"
      ]
     },
     "execution_count": 7,
     "metadata": {},
     "output_type": "execute_result"
    }
   ],
   "source": [
    "# Replace commas and then convert the column to numeric\n",
    "nvidia_stock['volume'] = nvidia_stock['volume'].str.replace(',', '')\n",
    "nvidia_stock"
   ]
  },
  {
   "cell_type": "code",
   "execution_count": 8,
   "id": "3de697c8",
   "metadata": {
    "execution": {
     "iopub.execute_input": "2025-01-13T20:40:20.639755Z",
     "iopub.status.busy": "2025-01-13T20:40:20.639418Z",
     "iopub.status.idle": "2025-01-13T20:40:20.656721Z",
     "shell.execute_reply": "2025-01-13T20:40:20.655265Z"
    },
    "papermill": {
     "duration": 0.02855,
     "end_time": "2025-01-13T20:40:20.658715",
     "exception": false,
     "start_time": "2025-01-13T20:40:20.630165",
     "status": "completed"
    },
    "tags": []
   },
   "outputs": [
    {
     "name": "stdout",
     "output_type": "stream",
     "text": [
      "Series([], Name: close, dtype: float64)\n",
      "Series([], Name: open, dtype: float64)\n",
      "Series([], Name: high, dtype: float64)\n",
      "Series([], Name: low, dtype: float64)\n"
     ]
    }
   ],
   "source": [
    "import pandas as pd\n",
    "\n",
    "# Attempt to replace the dollar sign and convert to float\n",
    "try:\n",
    "    nvidia_stock['close'] = nvidia_stock['close'].str.replace('$', '').astype(float)\n",
    "except Exception as e:\n",
    "    print(f\"Error: {e}\")\n",
    "try:\n",
    "    nvidia_stock['open'] = nvidia_stock['open'].str.replace('$', '').astype(float)\n",
    "except Exception as e:\n",
    "    print(f\"Error: {e}\")\n",
    "try:\n",
    "    nvidia_stock['high'] = nvidia_stock['high'].str.replace('$', '').astype(float)\n",
    "except Exception as e:\n",
    "    print(f\"Error: {e}\")\n",
    "try:\n",
    "    nvidia_stock['low'] = nvidia_stock['low'].str.replace('$', '').astype(float)\n",
    "except Exception as e:\n",
    "    print(f\"Error: {e}\")\n",
    "\n",
    "# Check if there are any entries that could not be converted\n",
    "print(nvidia_stock['close'][nvidia_stock['close'].apply(lambda x: isinstance(x, str))])\n",
    "print(nvidia_stock['open'][nvidia_stock['open'].apply(lambda x: isinstance(x, str))])\n",
    "print(nvidia_stock['high'][nvidia_stock['high'].apply(lambda x: isinstance(x, str))])\n",
    "print(nvidia_stock['low'][nvidia_stock['low'].apply(lambda x: isinstance(x, str))])\n"
   ]
  },
  {
   "cell_type": "code",
   "execution_count": 9,
   "id": "2c2158d8",
   "metadata": {
    "execution": {
     "iopub.execute_input": "2025-01-13T20:40:20.677480Z",
     "iopub.status.busy": "2025-01-13T20:40:20.677056Z",
     "iopub.status.idle": "2025-01-13T20:40:20.687498Z",
     "shell.execute_reply": "2025-01-13T20:40:20.686373Z"
    },
    "papermill": {
     "duration": 0.022734,
     "end_time": "2025-01-13T20:40:20.689613",
     "exception": false,
     "start_time": "2025-01-13T20:40:20.666879",
     "status": "completed"
    },
    "tags": []
   },
   "outputs": [
    {
     "data": {
      "text/plain": [
       "date      datetime64[ns]\n",
       "close            float64\n",
       "open             float64\n",
       "high             float64\n",
       "low              float64\n",
       "volume             int64\n",
       "dtype: object"
      ]
     },
     "execution_count": 9,
     "metadata": {},
     "output_type": "execute_result"
    }
   ],
   "source": [
    "# Convert the 'volume' column to numeric, coercing errors to NaN (if any non-convertible values exist)\n",
    "# 'coerce': Any value that cannot be converted to a numeric type (for instance, non-numeric strings) will be changed to NaN (Not a Number). This ensures that the conversion process does not fail and allows the operation to complete, but at the expense of losing the information contained in the non-convertible values.\n",
    "nvidia_stock['volume'] = pd.to_numeric(nvidia_stock['volume'])\n",
    "nvidia_stock['close'] = pd.to_numeric(nvidia_stock['close'])\n",
    "nvidia_stock['open'] = pd.to_numeric(nvidia_stock['open'])\n",
    "nvidia_stock['high'] = pd.to_numeric(nvidia_stock['high'])\n",
    "nvidia_stock['low'] = pd.to_numeric(nvidia_stock['low'])\n",
    "\n",
    "nvidia_stock.dtypes"
   ]
  },
  {
   "cell_type": "code",
   "execution_count": 10,
   "id": "79338ca2",
   "metadata": {
    "execution": {
     "iopub.execute_input": "2025-01-13T20:40:20.708177Z",
     "iopub.status.busy": "2025-01-13T20:40:20.707457Z",
     "iopub.status.idle": "2025-01-13T20:40:20.727444Z",
     "shell.execute_reply": "2025-01-13T20:40:20.726223Z"
    },
    "papermill": {
     "duration": 0.030913,
     "end_time": "2025-01-13T20:40:20.729204",
     "exception": false,
     "start_time": "2025-01-13T20:40:20.698291",
     "status": "completed"
    },
    "tags": []
   },
   "outputs": [
    {
     "data": {
      "text/html": [
       "<div>\n",
       "<style scoped>\n",
       "    .dataframe tbody tr th:only-of-type {\n",
       "        vertical-align: middle;\n",
       "    }\n",
       "\n",
       "    .dataframe tbody tr th {\n",
       "        vertical-align: top;\n",
       "    }\n",
       "\n",
       "    .dataframe thead th {\n",
       "        text-align: right;\n",
       "    }\n",
       "</style>\n",
       "<table border=\"1\" class=\"dataframe\">\n",
       "  <thead>\n",
       "    <tr style=\"text-align: right;\">\n",
       "      <th></th>\n",
       "      <th>date</th>\n",
       "      <th>close</th>\n",
       "      <th>open</th>\n",
       "      <th>high</th>\n",
       "      <th>low</th>\n",
       "      <th>volume</th>\n",
       "      <th>volume_byB</th>\n",
       "    </tr>\n",
       "  </thead>\n",
       "  <tbody>\n",
       "    <tr>\n",
       "      <th>0</th>\n",
       "      <td>2024-01-02</td>\n",
       "      <td>48.17</td>\n",
       "      <td>49.24</td>\n",
       "      <td>49.30</td>\n",
       "      <td>47.60</td>\n",
       "      <td>411254220</td>\n",
       "      <td>0.411254</td>\n",
       "    </tr>\n",
       "    <tr>\n",
       "      <th>1</th>\n",
       "      <td>2024-01-03</td>\n",
       "      <td>47.57</td>\n",
       "      <td>47.49</td>\n",
       "      <td>48.18</td>\n",
       "      <td>47.32</td>\n",
       "      <td>320896170</td>\n",
       "      <td>0.320896</td>\n",
       "    </tr>\n",
       "    <tr>\n",
       "      <th>2</th>\n",
       "      <td>2024-01-04</td>\n",
       "      <td>48.00</td>\n",
       "      <td>47.77</td>\n",
       "      <td>48.50</td>\n",
       "      <td>47.51</td>\n",
       "      <td>306534890</td>\n",
       "      <td>0.306535</td>\n",
       "    </tr>\n",
       "    <tr>\n",
       "      <th>3</th>\n",
       "      <td>2024-01-05</td>\n",
       "      <td>49.10</td>\n",
       "      <td>48.46</td>\n",
       "      <td>49.55</td>\n",
       "      <td>48.31</td>\n",
       "      <td>415039270</td>\n",
       "      <td>0.415039</td>\n",
       "    </tr>\n",
       "    <tr>\n",
       "      <th>4</th>\n",
       "      <td>2024-01-08</td>\n",
       "      <td>52.25</td>\n",
       "      <td>49.51</td>\n",
       "      <td>52.28</td>\n",
       "      <td>49.48</td>\n",
       "      <td>642509900</td>\n",
       "      <td>0.642510</td>\n",
       "    </tr>\n",
       "    <tr>\n",
       "      <th>...</th>\n",
       "      <td>...</td>\n",
       "      <td>...</td>\n",
       "      <td>...</td>\n",
       "      <td>...</td>\n",
       "      <td>...</td>\n",
       "      <td>...</td>\n",
       "      <td>...</td>\n",
       "    </tr>\n",
       "    <tr>\n",
       "      <th>243</th>\n",
       "      <td>2024-12-18</td>\n",
       "      <td>128.91</td>\n",
       "      <td>133.86</td>\n",
       "      <td>136.70</td>\n",
       "      <td>128.28</td>\n",
       "      <td>277444533</td>\n",
       "      <td>0.277445</td>\n",
       "    </tr>\n",
       "    <tr>\n",
       "      <th>244</th>\n",
       "      <td>2024-12-19</td>\n",
       "      <td>130.68</td>\n",
       "      <td>131.76</td>\n",
       "      <td>134.03</td>\n",
       "      <td>129.55</td>\n",
       "      <td>209719210</td>\n",
       "      <td>0.209719</td>\n",
       "    </tr>\n",
       "    <tr>\n",
       "      <th>245</th>\n",
       "      <td>2024-12-20</td>\n",
       "      <td>134.70</td>\n",
       "      <td>129.81</td>\n",
       "      <td>135.28</td>\n",
       "      <td>128.22</td>\n",
       "      <td>306528553</td>\n",
       "      <td>0.306529</td>\n",
       "    </tr>\n",
       "    <tr>\n",
       "      <th>246</th>\n",
       "      <td>2024-12-23</td>\n",
       "      <td>139.67</td>\n",
       "      <td>136.28</td>\n",
       "      <td>139.79</td>\n",
       "      <td>135.12</td>\n",
       "      <td>176053506</td>\n",
       "      <td>0.176054</td>\n",
       "    </tr>\n",
       "    <tr>\n",
       "      <th>247</th>\n",
       "      <td>2024-12-24</td>\n",
       "      <td>140.22</td>\n",
       "      <td>140.00</td>\n",
       "      <td>141.90</td>\n",
       "      <td>138.65</td>\n",
       "      <td>105156989</td>\n",
       "      <td>0.105157</td>\n",
       "    </tr>\n",
       "  </tbody>\n",
       "</table>\n",
       "<p>248 rows × 7 columns</p>\n",
       "</div>"
      ],
      "text/plain": [
       "          date   close    open    high     low     volume  volume_byB\n",
       "0   2024-01-02   48.17   49.24   49.30   47.60  411254220    0.411254\n",
       "1   2024-01-03   47.57   47.49   48.18   47.32  320896170    0.320896\n",
       "2   2024-01-04   48.00   47.77   48.50   47.51  306534890    0.306535\n",
       "3   2024-01-05   49.10   48.46   49.55   48.31  415039270    0.415039\n",
       "4   2024-01-08   52.25   49.51   52.28   49.48  642509900    0.642510\n",
       "..         ...     ...     ...     ...     ...        ...         ...\n",
       "243 2024-12-18  128.91  133.86  136.70  128.28  277444533    0.277445\n",
       "244 2024-12-19  130.68  131.76  134.03  129.55  209719210    0.209719\n",
       "245 2024-12-20  134.70  129.81  135.28  128.22  306528553    0.306529\n",
       "246 2024-12-23  139.67  136.28  139.79  135.12  176053506    0.176054\n",
       "247 2024-12-24  140.22  140.00  141.90  138.65  105156989    0.105157\n",
       "\n",
       "[248 rows x 7 columns]"
      ]
     },
     "execution_count": 10,
     "metadata": {},
     "output_type": "execute_result"
    }
   ],
   "source": [
    "nvidia_stock['volume_byB'] = nvidia_stock['volume'] / 1e9\n",
    "nvidia_stock"
   ]
  },
  {
   "cell_type": "code",
   "execution_count": 11,
   "id": "fc1c4f54",
   "metadata": {
    "execution": {
     "iopub.execute_input": "2025-01-13T20:40:20.747226Z",
     "iopub.status.busy": "2025-01-13T20:40:20.746823Z",
     "iopub.status.idle": "2025-01-13T20:40:20.753913Z",
     "shell.execute_reply": "2025-01-13T20:40:20.752640Z"
    },
    "papermill": {
     "duration": 0.018074,
     "end_time": "2025-01-13T20:40:20.755943",
     "exception": false,
     "start_time": "2025-01-13T20:40:20.737869",
     "status": "completed"
    },
    "tags": []
   },
   "outputs": [
    {
     "data": {
      "text/plain": [
       "date          datetime64[ns]\n",
       "close                float64\n",
       "open                 float64\n",
       "high                 float64\n",
       "low                  float64\n",
       "volume                 int64\n",
       "volume_byB           float64\n",
       "dtype: object"
      ]
     },
     "execution_count": 11,
     "metadata": {},
     "output_type": "execute_result"
    }
   ],
   "source": [
    "nvidia_stock.dtypes"
   ]
  },
  {
   "cell_type": "markdown",
   "id": "68a90cea",
   "metadata": {
    "papermill": {
     "duration": 0.009196,
     "end_time": "2025-01-13T20:40:20.773533",
     "exception": false,
     "start_time": "2025-01-13T20:40:20.764337",
     "status": "completed"
    },
    "tags": []
   },
   "source": [
    "## Summary"
   ]
  },
  {
   "cell_type": "code",
   "execution_count": 12,
   "id": "49a2b650",
   "metadata": {
    "execution": {
     "iopub.execute_input": "2025-01-13T20:40:20.791508Z",
     "iopub.status.busy": "2025-01-13T20:40:20.791149Z",
     "iopub.status.idle": "2025-01-13T20:40:20.825439Z",
     "shell.execute_reply": "2025-01-13T20:40:20.824279Z"
    },
    "papermill": {
     "duration": 0.045554,
     "end_time": "2025-01-13T20:40:20.827510",
     "exception": false,
     "start_time": "2025-01-13T20:40:20.781956",
     "status": "completed"
    },
    "tags": []
   },
   "outputs": [
    {
     "name": "stdout",
     "output_type": "stream",
     "text": [
      "                                date       close       open        high  \\\n",
      "count                            248  248.000000  248.00000  248.000000   \n",
      "mean   2024-06-28 22:03:52.258064640  107.352137  107.41754  109.373992   \n",
      "min              2024-01-02 00:00:00   47.570000   47.49000   48.180000   \n",
      "25%              2024-04-01 18:00:00   87.687500   87.56000   89.167500   \n",
      "50%              2024-06-29 12:00:00  114.540000  115.18500  116.615000   \n",
      "75%              2024-09-26 06:00:00  129.430000  129.84750  131.672500   \n",
      "max              2024-12-24 00:00:00  148.880000  149.35000  152.890000   \n",
      "std                              NaN   26.911353   27.09345   27.394735   \n",
      "\n",
      "              low        volume  volume_byB  \n",
      "count  248.000000  2.480000e+02  248.000000  \n",
      "mean   105.156573  3.809906e+08    0.380991  \n",
      "min     47.320000  1.051570e+08    0.105157  \n",
      "25%     86.027500  2.565828e+08    0.256583  \n",
      "50%    111.440000  3.573289e+08    0.357329  \n",
      "75%    127.165000  4.767220e+08    0.476722  \n",
      "max    146.260000  1.142269e+09    1.142269  \n",
      "std     26.521472  1.605796e+08    0.160580  \n"
     ]
    }
   ],
   "source": [
    "print(nvidia_stock.describe())"
   ]
  },
  {
   "cell_type": "code",
   "execution_count": 13,
   "id": "891c7660",
   "metadata": {
    "execution": {
     "iopub.execute_input": "2025-01-13T20:40:20.846333Z",
     "iopub.status.busy": "2025-01-13T20:40:20.845926Z",
     "iopub.status.idle": "2025-01-13T20:40:21.286050Z",
     "shell.execute_reply": "2025-01-13T20:40:21.284851Z"
    },
    "papermill": {
     "duration": 0.451952,
     "end_time": "2025-01-13T20:40:21.288108",
     "exception": false,
     "start_time": "2025-01-13T20:40:20.836156",
     "status": "completed"
    },
    "tags": []
   },
   "outputs": [
    {
     "data": {
      "image/png": "[encoded data removed]",
      "text/plain": [
       "<Figure size 1200x600 with 1 Axes>"
      ]
     },
     "metadata": {},
     "output_type": "display_data"
    }
   ],
   "source": [
    "nvidia_stock.set_index('date')[['volume_byB']].plot(figsize=(12, 6))\n",
    "plt.title('NVIDIA Stock Trading Volume Over Time')\n",
    "plt.xlabel('Date')\n",
    "plt.ylabel('Volume (in Billions)')\n",
    "plt.show()"
   ]
  },
  {
   "cell_type": "markdown",
   "id": "24b568e1",
   "metadata": {
    "papermill": {
     "duration": 0.00961,
     "end_time": "2025-01-13T20:40:21.308725",
     "exception": false,
     "start_time": "2025-01-13T20:40:21.299115",
     "status": "completed"
    },
    "tags": []
   },
   "source": [
    "## ML Modeling (LSTM)"
   ]
  },
  {
   "cell_type": "markdown",
   "id": "1c60103b",
   "metadata": {
    "papermill": {
     "duration": 0.009686,
     "end_time": "2025-01-13T20:40:21.330269",
     "exception": false,
     "start_time": "2025-01-13T20:40:21.320583",
     "status": "completed"
    },
    "tags": []
   },
   "source": [
    "### Splitting"
   ]
  },
  {
   "cell_type": "code",
   "execution_count": 14,
   "id": "3efe9084",
   "metadata": {
    "execution": {
     "iopub.execute_input": "2025-01-13T20:40:21.351780Z",
     "iopub.status.busy": "2025-01-13T20:40:21.351432Z",
     "iopub.status.idle": "2025-01-13T20:40:21.362787Z",
     "shell.execute_reply": "2025-01-13T20:40:21.361758Z"
    },
    "papermill": {
     "duration": 0.02448,
     "end_time": "2025-01-13T20:40:21.364601",
     "exception": false,
     "start_time": "2025-01-13T20:40:21.340121",
     "status": "completed"
    },
    "tags": []
   },
   "outputs": [],
   "source": [
    "train_size = int(len(nvidia_stock) * 0.8)\n",
    "train, test = nvidia_stock[:train_size], nvidia_stock[train_size:]\n",
    "\n",
    "# Normalizing the volume data\n",
    "scaler = MinMaxScaler(feature_range=(0, 1))\n",
    "train_scaled = scaler.fit_transform(train[['volume_byB']])\n",
    "test_scaled = scaler.transform(test[['volume_byB']])"
   ]
  },
  {
   "cell_type": "markdown",
   "id": "63918902",
   "metadata": {
    "papermill": {
     "duration": 0.010108,
     "end_time": "2025-01-13T20:40:21.385029",
     "exception": false,
     "start_time": "2025-01-13T20:40:21.374921",
     "status": "completed"
    },
    "tags": []
   },
   "source": [
    "### Processing"
   ]
  },
  {
   "cell_type": "code",
   "execution_count": 15,
   "id": "6a4fc640",
   "metadata": {
    "execution": {
     "iopub.execute_input": "2025-01-13T20:40:21.406421Z",
     "iopub.status.busy": "2025-01-13T20:40:21.405957Z",
     "iopub.status.idle": "2025-01-13T20:40:21.413293Z",
     "shell.execute_reply": "2025-01-13T20:40:21.412209Z"
    },
    "papermill": {
     "duration": 0.02027,
     "end_time": "2025-01-13T20:40:21.415331",
     "exception": false,
     "start_time": "2025-01-13T20:40:21.395061",
     "status": "completed"
    },
    "tags": []
   },
   "outputs": [],
   "source": [
    "def create_dataset(data, time_step=1):\n",
    "    X, y = [], []\n",
    "    for i in range(len(data) - time_step - 1):\n",
    "        X.append(data[i:(i + time_step), 0])\n",
    "        y.append(data[i + time_step, 0])\n",
    "    return np.array(X), np.array(y)\n",
    "\n",
    "time_step = 30  # Using the past 30 days to predict the next day\n",
    "X_train, y_train = create_dataset(train_scaled, time_step)\n",
    "X_test, y_test = create_dataset(test_scaled, time_step)\n",
    "\n",
    "X_train = X_train.reshape(X_train.shape[0], X_train.shape[1], 1)\n",
    "X_test = X_test.reshape(X_test.shape[0], X_test.shape[1], 1)"
   ]
  },
  {
   "cell_type": "markdown",
   "id": "40114c38",
   "metadata": {
    "papermill": {
     "duration": 0.010061,
     "end_time": "2025-01-13T20:40:21.435688",
     "exception": false,
     "start_time": "2025-01-13T20:40:21.425627",
     "status": "completed"
    },
    "tags": []
   },
   "source": [
    "### LSTM Model Building"
   ]
  },
  {
   "cell_type": "code",
   "execution_count": 16,
   "id": "3d61ee56",
   "metadata": {
    "execution": {
     "iopub.execute_input": "2025-01-13T20:40:21.456470Z",
     "iopub.status.busy": "2025-01-13T20:40:21.456040Z",
     "iopub.status.idle": "2025-01-13T20:40:25.052018Z",
     "shell.execute_reply": "2025-01-13T20:40:25.050985Z"
    },
    "papermill": {
     "duration": 3.608227,
     "end_time": "2025-01-13T20:40:25.053753",
     "exception": false,
     "start_time": "2025-01-13T20:40:21.445526",
     "status": "completed"
    },
    "tags": []
   },
   "outputs": [
    {
     "name": "stderr",
     "output_type": "stream",
     "text": [
      "/usr/local/lib/python3.10/dist-packages/keras/src/layers/core/dense.py:87: UserWarning: Do not pass an `input_shape`/`input_dim` argument to a layer. When using Sequential models, prefer using an `Input(shape)` object as the first layer in the model instead.\n",
      "  super().__init__(activity_regularizer=activity_regularizer, **kwargs)\n"
     ]
    },
    {
     "name": "stdout",
     "output_type": "stream",
     "text": [
      "Epoch 1/30\n",
      "\u001b[1m6/6\u001b[0m \u001b[32m━━━━━━━━━━━━━━━━━━━━\u001b[0m\u001b[37m\u001b[0m \u001b[1m1s\u001b[0m 35ms/step - loss: 0.1298 - val_loss: 0.0124\n",
      "Epoch 2/30\n",
      "\u001b[1m6/6\u001b[0m \u001b[32m━━━━━━━━━━━━━━━━━━━━\u001b[0m\u001b[37m\u001b[0m \u001b[1m0s\u001b[0m 7ms/step - loss: 0.0441 - val_loss: 0.0068\n",
      "Epoch 3/30\n",
      "\u001b[1m6/6\u001b[0m \u001b[32m━━━━━━━━━━━━━━━━━━━━\u001b[0m\u001b[37m\u001b[0m \u001b[1m0s\u001b[0m 7ms/step - loss: 0.0221 - val_loss: 0.0030\n",
      "Epoch 4/30\n",
      "\u001b[1m6/6\u001b[0m \u001b[32m━━━━━━━━━━━━━━━━━━━━\u001b[0m\u001b[37m\u001b[0m \u001b[1m0s\u001b[0m 7ms/step - loss: 0.0245 - val_loss: 0.0035\n",
      "Epoch 5/30\n",
      "\u001b[1m6/6\u001b[0m \u001b[32m━━━━━━━━━━━━━━━━━━━━\u001b[0m\u001b[37m\u001b[0m \u001b[1m0s\u001b[0m 7ms/step - loss: 0.0201 - val_loss: 0.0053\n",
      "Epoch 6/30\n",
      "\u001b[1m6/6\u001b[0m \u001b[32m━━━━━━━━━━━━━━━━━━━━\u001b[0m\u001b[37m\u001b[0m \u001b[1m0s\u001b[0m 7ms/step - loss: 0.0187 - val_loss: 0.0047\n",
      "Epoch 7/30\n",
      "\u001b[1m6/6\u001b[0m \u001b[32m━━━━━━━━━━━━━━━━━━━━\u001b[0m\u001b[37m\u001b[0m \u001b[1m0s\u001b[0m 7ms/step - loss: 0.0184 - val_loss: 0.0037\n",
      "Epoch 8/30\n",
      "\u001b[1m6/6\u001b[0m \u001b[32m━━━━━━━━━━━━━━━━━━━━\u001b[0m\u001b[37m\u001b[0m \u001b[1m0s\u001b[0m 7ms/step - loss: 0.0147 - val_loss: 0.0042\n",
      "Epoch 9/30\n",
      "\u001b[1m6/6\u001b[0m \u001b[32m━━━━━━━━━━━━━━━━━━━━\u001b[0m\u001b[37m\u001b[0m \u001b[1m0s\u001b[0m 7ms/step - loss: 0.0133 - val_loss: 0.0046\n",
      "Epoch 10/30\n",
      "\u001b[1m6/6\u001b[0m \u001b[32m━━━━━━━━━━━━━━━━━━━━\u001b[0m\u001b[37m\u001b[0m \u001b[1m0s\u001b[0m 7ms/step - loss: 0.0124 - val_loss: 0.0039\n",
      "Epoch 11/30\n",
      "\u001b[1m6/6\u001b[0m \u001b[32m━━━━━━━━━━━━━━━━━━━━\u001b[0m\u001b[37m\u001b[0m \u001b[1m0s\u001b[0m 7ms/step - loss: 0.0113 - val_loss: 0.0038\n",
      "Epoch 12/30\n",
      "\u001b[1m6/6\u001b[0m \u001b[32m━━━━━━━━━━━━━━━━━━━━\u001b[0m\u001b[37m\u001b[0m \u001b[1m0s\u001b[0m 7ms/step - loss: 0.0102 - val_loss: 0.0042\n",
      "Epoch 13/30\n",
      "\u001b[1m6/6\u001b[0m \u001b[32m━━━━━━━━━━━━━━━━━━━━\u001b[0m\u001b[37m\u001b[0m \u001b[1m0s\u001b[0m 7ms/step - loss: 0.0105 - val_loss: 0.0037\n",
      "Epoch 14/30\n",
      "\u001b[1m6/6\u001b[0m \u001b[32m━━━━━━━━━━━━━━━━━━━━\u001b[0m\u001b[37m\u001b[0m \u001b[1m0s\u001b[0m 7ms/step - loss: 0.0103 - val_loss: 0.0038\n",
      "Epoch 15/30\n",
      "\u001b[1m6/6\u001b[0m \u001b[32m━━━━━━━━━━━━━━━━━━━━\u001b[0m\u001b[37m\u001b[0m \u001b[1m0s\u001b[0m 7ms/step - loss: 0.0107 - val_loss: 0.0043\n",
      "Epoch 16/30\n",
      "\u001b[1m6/6\u001b[0m \u001b[32m━━━━━━━━━━━━━━━━━━━━\u001b[0m\u001b[37m\u001b[0m \u001b[1m0s\u001b[0m 8ms/step - loss: 0.0104 - val_loss: 0.0028\n",
      "Epoch 17/30\n",
      "\u001b[1m6/6\u001b[0m \u001b[32m━━━━━━━━━━━━━━━━━━━━\u001b[0m\u001b[37m\u001b[0m \u001b[1m0s\u001b[0m 7ms/step - loss: 0.0117 - val_loss: 0.0039\n",
      "Epoch 18/30\n",
      "\u001b[1m6/6\u001b[0m \u001b[32m━━━━━━━━━━━━━━━━━━━━\u001b[0m\u001b[37m\u001b[0m \u001b[1m0s\u001b[0m 8ms/step - loss: 0.0103 - val_loss: 0.0033\n",
      "Epoch 19/30\n",
      "\u001b[1m6/6\u001b[0m \u001b[32m━━━━━━━━━━━━━━━━━━━━\u001b[0m\u001b[37m\u001b[0m \u001b[1m0s\u001b[0m 9ms/step - loss: 0.0088 - val_loss: 0.0032\n",
      "Epoch 20/30\n",
      "\u001b[1m6/6\u001b[0m \u001b[32m━━━━━━━━━━━━━━━━━━━━\u001b[0m\u001b[37m\u001b[0m \u001b[1m0s\u001b[0m 7ms/step - loss: 0.0081 - val_loss: 0.0035\n",
      "Epoch 21/30\n",
      "\u001b[1m6/6\u001b[0m \u001b[32m━━━━━━━━━━━━━━━━━━━━\u001b[0m\u001b[37m\u001b[0m \u001b[1m0s\u001b[0m 7ms/step - loss: 0.0090 - val_loss: 0.0033\n",
      "Epoch 22/30\n",
      "\u001b[1m6/6\u001b[0m \u001b[32m━━━━━━━━━━━━━━━━━━━━\u001b[0m\u001b[37m\u001b[0m \u001b[1m0s\u001b[0m 7ms/step - loss: 0.0069 - val_loss: 0.0032\n",
      "Epoch 23/30\n",
      "\u001b[1m6/6\u001b[0m \u001b[32m━━━━━━━━━━━━━━━━━━━━\u001b[0m\u001b[37m\u001b[0m \u001b[1m0s\u001b[0m 8ms/step - loss: 0.0080 - val_loss: 0.0034\n",
      "Epoch 24/30\n",
      "\u001b[1m6/6\u001b[0m \u001b[32m━━━━━━━━━━━━━━━━━━━━\u001b[0m\u001b[37m\u001b[0m \u001b[1m0s\u001b[0m 8ms/step - loss: 0.0071 - val_loss: 0.0032\n",
      "Epoch 25/30\n",
      "\u001b[1m6/6\u001b[0m \u001b[32m━━━━━━━━━━━━━━━━━━━━\u001b[0m\u001b[37m\u001b[0m \u001b[1m0s\u001b[0m 7ms/step - loss: 0.0081 - val_loss: 0.0030\n",
      "Epoch 26/30\n",
      "\u001b[1m6/6\u001b[0m \u001b[32m━━━━━━━━━━━━━━━━━━━━\u001b[0m\u001b[37m\u001b[0m \u001b[1m0s\u001b[0m 7ms/step - loss: 0.0082 - val_loss: 0.0031\n",
      "Epoch 27/30\n",
      "\u001b[1m6/6\u001b[0m \u001b[32m━━━━━━━━━━━━━━━━━━━━\u001b[0m\u001b[37m\u001b[0m \u001b[1m0s\u001b[0m 7ms/step - loss: 0.0075 - val_loss: 0.0035\n",
      "Epoch 28/30\n",
      "\u001b[1m6/6\u001b[0m \u001b[32m━━━━━━━━━━━━━━━━━━━━\u001b[0m\u001b[37m\u001b[0m \u001b[1m0s\u001b[0m 7ms/step - loss: 0.0069 - val_loss: 0.0033\n",
      "Epoch 29/30\n",
      "\u001b[1m6/6\u001b[0m \u001b[32m━━━━━━━━━━━━━━━━━━━━\u001b[0m\u001b[37m\u001b[0m \u001b[1m0s\u001b[0m 7ms/step - loss: 0.0076 - val_loss: 0.0037\n",
      "Epoch 30/30\n",
      "\u001b[1m6/6\u001b[0m \u001b[32m━━━━━━━━━━━━━━━━━━━━\u001b[0m\u001b[37m\u001b[0m \u001b[1m0s\u001b[0m 7ms/step - loss: 0.0056 - val_loss: 0.0032\n"
     ]
    }
   ],
   "source": [
    "# # Simplifying the model if overfitting\n",
    "# model = Sequential()\n",
    "# model.add(LSTM(32, input_shape=(X_train.shape[1], 1)))  # Reduced number of units\n",
    "# model.add(Dense(1))\n",
    "\n",
    "# model.compile(optimizer='adam', loss='mean_squared_error')\n",
    "\n",
    "# Or, enhancing the model if underfitting\n",
    "model = Sequential([\n",
    "    Dense(128, activation='relu', input_shape=(X_train.shape[1],)),\n",
    "    Dense(128, activation='relu'),\n",
    "    Dense(1)\n",
    "])\n",
    "\n",
    "# Example of increasing epochs and adjusting learning rate\n",
    "from tensorflow.keras.optimizers import Adam\n",
    "\n",
    "optimizer = Adam(learning_rate=0.001)\n",
    "model.compile(optimizer=optimizer, loss='mean_squared_error')\n",
    "history = model.fit(X_train, y_train, epochs=30, batch_size=32, validation_data=(X_test, y_test))\n",
    "\n",
    "\n",
    "model.compile(optimizer='adam', loss='mean_squared_error')\n"
   ]
  },
  {
   "cell_type": "markdown",
   "id": "678ece47",
   "metadata": {
    "papermill": {
     "duration": 0.014491,
     "end_time": "2025-01-13T20:40:25.084388",
     "exception": false,
     "start_time": "2025-01-13T20:40:25.069897",
     "status": "completed"
    },
    "tags": []
   },
   "source": [
    "### Train LSTM"
   ]
  },
  {
   "cell_type": "code",
   "execution_count": 17,
   "id": "7339ab8a",
   "metadata": {
    "execution": {
     "iopub.execute_input": "2025-01-13T20:40:25.115772Z",
     "iopub.status.busy": "2025-01-13T20:40:25.115369Z",
     "iopub.status.idle": "2025-01-13T20:40:25.119631Z",
     "shell.execute_reply": "2025-01-13T20:40:25.118214Z"
    },
    "papermill": {
     "duration": 0.022184,
     "end_time": "2025-01-13T20:40:25.121526",
     "exception": false,
     "start_time": "2025-01-13T20:40:25.099342",
     "status": "completed"
    },
    "tags": []
   },
   "outputs": [],
   "source": [
    "#Early Stopping\n",
    "#Use early stopping to halt the training process once the model performance stops improving on the validation data.\n",
    "\n",
    "# from tensorflow.keras.callbacks import EarlyStopping\n",
    "\n",
    "# # Setup early stopping\n",
    "# early_stop = EarlyStopping(monitor='val_loss', patience=10, restore_best_weights=True)\n",
    "\n",
    "# # Fit the model with early stopping\n",
    "# history = model.fit(X_train, y_train, epochs=100, batch_size=32, \n",
    "#                     validation_data=(X_test, y_test), callbacks=[early_stop], verbose=1)\n"
   ]
  },
  {
   "cell_type": "markdown",
   "id": "33ea0da3",
   "metadata": {
    "papermill": {
     "duration": 0.014464,
     "end_time": "2025-01-13T20:40:25.150952",
     "exception": false,
     "start_time": "2025-01-13T20:40:25.136488",
     "status": "completed"
    },
    "tags": []
   },
   "source": [
    "Overfitting: The training loss decreases continuously, while the validation loss decreases initially but then increases.\n",
    "Underfitting: Both training and validation losses are high, and they decrease very slowly or plateau early."
   ]
  },
  {
   "cell_type": "code",
   "execution_count": 18,
   "id": "d587244a",
   "metadata": {
    "execution": {
     "iopub.execute_input": "2025-01-13T20:40:25.183529Z",
     "iopub.status.busy": "2025-01-13T20:40:25.183155Z",
     "iopub.status.idle": "2025-01-13T20:40:25.482757Z",
     "shell.execute_reply": "2025-01-13T20:40:25.481297Z"
    },
    "papermill": {
     "duration": 0.318412,
     "end_time": "2025-01-13T20:40:25.485723",
     "exception": false,
     "start_time": "2025-01-13T20:40:25.167311",
     "status": "completed"
    },
    "tags": []
   },
   "outputs": [
    {
     "data": {
      "image/png": "[encoded data removed]",
      "text/plain": [
       "<Figure size 1000x500 with 1 Axes>"
      ]
     },
     "metadata": {},
     "output_type": "display_data"
    }
   ],
   "source": [
    "import matplotlib.pyplot as plt\n",
    "\n",
    "# Plot training & validation loss values\n",
    "plt.figure(figsize=(10, 5))\n",
    "plt.plot(history.history['loss'], label='Train Loss')\n",
    "if 'val_loss' in history.history:\n",
    "    plt.plot(history.history['val_loss'], label='Validation Loss')\n",
    "plt.title('Model Loss Progress During Training')\n",
    "plt.ylabel('Loss')\n",
    "plt.xlabel('Epoch')\n",
    "plt.legend(['Train', 'Validation'], loc='upper right')\n",
    "plt.show()\n"
   ]
  },
  {
   "cell_type": "markdown",
   "id": "5858c6a5",
   "metadata": {
    "papermill": {
     "duration": 0.015204,
     "end_time": "2025-01-13T20:40:25.517755",
     "exception": false,
     "start_time": "2025-01-13T20:40:25.502551",
     "status": "completed"
    },
    "tags": []
   },
   "source": [
    "When the training and validation loss functions are far apart and not reducing, it usually indicates an issue with the model, such as overfitting or underfitting. Overfitting happens when your model learns the details and noise in the training data to an extent that it negatively impacts the performance of the model on new data (i.e., the validation data). Underfitting occurs when the model is too simple to learn the underlying pattern of the data.\n",
    "\n",
    "Reasons for Overfitting or Underfitting\n",
    "Overfitting:\n",
    "The model is too complex with too many parameters.\n",
    "Insufficient amount of training data.\n",
    "Too many training epochs leading to learning detailed noise in the training dataset.\n",
    "Underfitting:\n",
    "The model is too simple to capture the underlying trend of the data.\n",
    "Insufficient training epochs.\n",
    "Poor choice of model hyperparameters."
   ]
  },
  {
   "cell_type": "markdown",
   "id": "e95fcd9d",
   "metadata": {
    "papermill": {
     "duration": 0.015163,
     "end_time": "2025-01-13T20:40:25.548902",
     "exception": false,
     "start_time": "2025-01-13T20:40:25.533739",
     "status": "completed"
    },
    "tags": []
   },
   "source": [
    "### Model Metrics Evaluation"
   ]
  },
  {
   "cell_type": "code",
   "execution_count": 19,
   "id": "c10066da",
   "metadata": {
    "execution": {
     "iopub.execute_input": "2025-01-13T20:40:25.582353Z",
     "iopub.status.busy": "2025-01-13T20:40:25.581965Z",
     "iopub.status.idle": "2025-01-13T20:40:25.704571Z",
     "shell.execute_reply": "2025-01-13T20:40:25.703319Z"
    },
    "papermill": {
     "duration": 0.142053,
     "end_time": "2025-01-13T20:40:25.706764",
     "exception": false,
     "start_time": "2025-01-13T20:40:25.564711",
     "status": "completed"
    },
    "tags": []
   },
   "outputs": [
    {
     "name": "stdout",
     "output_type": "stream",
     "text": [
      "\u001b[1m1/1\u001b[0m \u001b[32m━━━━━━━━━━━━━━━━━━━━\u001b[0m\u001b[37m\u001b[0m \u001b[1m0s\u001b[0m 58ms/step\n",
      "Root Mean Square Error (RMSE): 0.06731796799141983\n",
      "Mean Absolute Percentage Error (MAPE): 31.01897193481865\n"
     ]
    }
   ],
   "source": [
    "from sklearn.metrics import mean_squared_error\n",
    "\n",
    "def calculate_mape(actual, predicted):\n",
    "    actual, predicted = np.array(actual), np.array(predicted)\n",
    "    return np.mean(np.abs((actual - predicted) / actual)) * 100\n",
    "\n",
    "# Making predictions on test data\n",
    "predicted_volume = model.predict(X_test)\n",
    "predicted_volume = scaler.inverse_transform(predicted_volume)\n",
    "\n",
    "rmse = np.sqrt(mean_squared_error(test['volume_byB'][time_step + 1:], predicted_volume))\n",
    "print(\"Root Mean Square Error (RMSE):\", rmse)\n",
    "\n",
    "mape = calculate_mape(test['volume_byB'][time_step + 1:], predicted_volume)\n",
    "print(\"Mean Absolute Percentage Error (MAPE):\", mape)"
   ]
  },
  {
   "cell_type": "markdown",
   "id": "ac3d5905",
   "metadata": {
    "papermill": {
     "duration": 0.015719,
     "end_time": "2025-01-13T20:40:25.739951",
     "exception": false,
     "start_time": "2025-01-13T20:40:25.724232",
     "status": "completed"
    },
    "tags": []
   },
   "source": [
    "Interpretation: An RMSE value of 0.073 means that, on average, the model’s predictions deviate from the actual values by 0.073 units on the scale of the target variable. **The lower the RMSE, the better, as it indicates smaller residuals (errors between observed and predicted values)**. The absolute value should be compared against the range or distribution of the target variables to assess its impact. If your target variable ranges over a wide scale (say 0 to 1 or more), an RMSE of 0.073 could be quite good.\n",
    "\n",
    "Interpretation: A MAPE of 34.66% suggests that the model predictions deviate from the actual values by an average of 34.66% per data point. **High MAPE values indicate less accurate models**. This metric is particularly useful when you want to know how big the error is relative to the size of the numbers in your data. A 34.66% MAPE can be considered high for many applications, indicating that there might be significant errors in some of the model’s predictions or that the model may not perform consistently across the data range."
   ]
  },
  {
   "cell_type": "code",
   "execution_count": 20,
   "id": "3c3bcf2a",
   "metadata": {
    "execution": {
     "iopub.execute_input": "2025-01-13T20:40:25.772539Z",
     "iopub.status.busy": "2025-01-13T20:40:25.772197Z",
     "iopub.status.idle": "2025-01-13T20:40:25.975394Z",
     "shell.execute_reply": "2025-01-13T20:40:25.974102Z"
    },
    "papermill": {
     "duration": 0.22186,
     "end_time": "2025-01-13T20:40:25.977186",
     "exception": false,
     "start_time": "2025-01-13T20:40:25.755326",
     "status": "completed"
    },
    "tags": []
   },
   "outputs": [
    {
     "name": "stdout",
     "output_type": "stream",
     "text": [
      "\u001b[1m6/6\u001b[0m \u001b[32m━━━━━━━━━━━━━━━━━━━━\u001b[0m\u001b[37m\u001b[0m \u001b[1m0s\u001b[0m 2ms/step \n",
      "\u001b[1m1/1\u001b[0m \u001b[32m━━━━━━━━━━━━━━━━━━━━\u001b[0m\u001b[37m\u001b[0m \u001b[1m0s\u001b[0m 20ms/step\n",
      "Train Score: 0.08 RMSE\n",
      "Test Score: 0.06 RMSE\n"
     ]
    }
   ],
   "source": [
    "# Making predictions\n",
    "train_predict = model.predict(X_train)\n",
    "test_predict = model.predict(X_test)\n",
    "\n",
    "# Invert predictions\n",
    "train_predict = scaler.inverse_transform(train_predict)\n",
    "Y_train_inv = scaler.inverse_transform([y_train])\n",
    "test_predict = scaler.inverse_transform(test_predict)\n",
    "Y_test_inv = scaler.inverse_transform([y_test])\n",
    "\n",
    "# Calculate RMSE\n",
    "from sklearn.metrics import mean_squared_error\n",
    "trainScore = np.sqrt(mean_squared_error(Y_train_inv[0], train_predict[:,0]))\n",
    "print(f'Train Score: {trainScore:.2f} RMSE')\n",
    "testScore = np.sqrt(mean_squared_error(Y_test_inv[0], test_predict[:,0]))\n",
    "print(f'Test Score: {testScore:.2f} RMSE')"
   ]
  },
  {
   "cell_type": "markdown",
   "id": "2302aeee",
   "metadata": {
    "papermill": {
     "duration": 0.015428,
     "end_time": "2025-01-13T20:40:26.008707",
     "exception": false,
     "start_time": "2025-01-13T20:40:25.993279",
     "status": "completed"
    },
    "tags": []
   },
   "source": [
    "Interpretation of the Results:\n",
    "\n",
    "Train Score: 0.06 RMSE - This score indicates that, on average, the model's predictions on the training data deviate from the actual observed values by 0.06. This suggests that the model fits the training data quite well, assuming the scale of the data is such that a difference of 0.06 is small.\n",
    "\n",
    "Test Score: 0.06 RMSE - This score shows that the model also performs similarly on the test data, with the average deviation of the predictions from the actual values being 0.06. This is particularly important as it suggests that the model generalizes well to new, unseen data, maintaining the same level of performance as observed in the training phase."
   ]
  },
  {
   "cell_type": "markdown",
   "id": "838b5017",
   "metadata": {
    "papermill": {
     "duration": 0.015344,
     "end_time": "2025-01-13T20:40:26.039782",
     "exception": false,
     "start_time": "2025-01-13T20:40:26.024438",
     "status": "completed"
    },
    "tags": []
   },
   "source": [
    "Overfitting would be indicated by a low training RMSE and a much higher test RMSE."
   ]
  },
  {
   "cell_type": "code",
   "execution_count": 21,
   "id": "d216d545",
   "metadata": {
    "execution": {
     "iopub.execute_input": "2025-01-13T20:40:26.073262Z",
     "iopub.status.busy": "2025-01-13T20:40:26.072850Z",
     "iopub.status.idle": "2025-01-13T20:40:26.461757Z",
     "shell.execute_reply": "2025-01-13T20:40:26.460386Z"
    },
    "papermill": {
     "duration": 0.408619,
     "end_time": "2025-01-13T20:40:26.464186",
     "exception": false,
     "start_time": "2025-01-13T20:40:26.055567",
     "status": "completed"
    },
    "tags": []
   },
   "outputs": [
    {
     "data": {
      "image/png": "[encoded data removed]",
      "text/plain": [
       "<Figure size 1800x600 with 1 Axes>"
      ]
     },
     "metadata": {},
     "output_type": "display_data"
    }
   ],
   "source": [
    "# Plotting the results\n",
    "plt.figure(figsize=(18, 6))\n",
    "plt.plot(test['date'][time_step + 1:], predicted_volume, color='red', label='Predicted Volume')\n",
    "plt.plot(test['date'][time_step + 1:], test['volume_byB'][time_step + 1:], color='blue', label='Actual Volume')\n",
    "plt.title('NVIDIA Stock Trading Volume Prediction')\n",
    "plt.xlabel('Date')\n",
    "plt.ylabel('Volume (in Billions)')\n",
    "plt.legend()\n",
    "plt.show()"
   ]
  },
  {
   "cell_type": "code",
   "execution_count": null,
   "id": "d621d318",
   "metadata": {
    "papermill": {
     "duration": 0.017114,
     "end_time": "2025-01-13T20:40:26.498878",
     "exception": false,
     "start_time": "2025-01-13T20:40:26.481764",
     "status": "completed"
    },
    "tags": []
   },
   "outputs": [],
   "source": []
  }
 ],
 "metadata": {
  "kaggle": {
   "accelerator": "none",
   "dataSources": [
    {
     "datasetId": 6374997,
     "sourceId": 10299577,
     "sourceType": "datasetVersion"
    }
   ],
   "dockerImageVersionId": 30822,
   "isGpuEnabled": false,
   "isInternetEnabled": true,
   "language": "python",
   "sourceType": "notebook"
  },
  "kernelspec": {
   "display_name": "Python 3",
   "language": "python",
   "name": "python3"
  },
  "language_info": {
   "codemirror_mode": {
    "name": "ipython",
    "version": 3
   },
   "file_extension": ".py",
   "mimetype": "text/x-python",
   "name": "python",
   "nbconvert_exporter": "python",
   "pygments_lexer": "ipython3",
   "version": "3.10.12"
  },
  "papermill": {
   "default_parameters": {},
   "duration": 23.043941,
   "end_time": "2025-01-13T20:40:28.143097",
   "environment_variables": {},
   "exception": null,
   "input_path": "__notebook__.ipynb",
   "output_path": "__notebook__.ipynb",
   "parameters": {},
   "start_time": "2025-01-13T20:40:05.099156",
   "version": "2.6.0"
  }
 },
 "nbformat": 4,
 "nbformat_minor": 5
}
