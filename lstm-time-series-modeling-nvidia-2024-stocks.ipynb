{
 "cells": [
  {
   "cell_type": "markdown",
   "id": "19762f0c",
   "metadata": {
    "papermill": {
     "duration": 0.007433,
     "end_time": "2025-01-07T01:39:00.052263",
     "exception": false,
     "start_time": "2025-01-07T01:39:00.044830",
     "status": "completed"
    },
    "tags": []
   },
   "source": [
    "# LSTM Time Series Modeling NVIDIA 2024 Stocks Using TensorFlow:"
   ]
  },
  {
   "cell_type": "code",
   "execution_count": 1,
   "id": "18623073",
   "metadata": {
    "execution": {
     "iopub.execute_input": "2025-01-07T01:39:00.066639Z",
     "iopub.status.busy": "2025-01-07T01:39:00.066238Z",
     "iopub.status.idle": "2025-01-07T01:39:12.175836Z",
     "shell.execute_reply": "2025-01-07T01:39:12.174484Z"
    },
    "papermill": {
     "duration": 12.119422,
     "end_time": "2025-01-07T01:39:12.178223",
     "exception": false,
     "start_time": "2025-01-07T01:39:00.058801",
     "status": "completed"
    },
    "tags": []
   },
   "outputs": [],
   "source": [
    "import pandas as pd\n",
    "import numpy as np\n",
    "from sklearn.preprocessing import MinMaxScaler\n",
    "from sklearn.model_selection import train_test_split\n",
    "from tensorflow.keras.models import Sequential\n",
    "from tensorflow.keras.layers import LSTM, Dense, Dropout\n",
    "import matplotlib.pyplot as plt"
   ]
  },
  {
   "cell_type": "code",
   "execution_count": 2,
   "id": "2c2d81c5",
   "metadata": {
    "_cell_guid": "b1076dfc-b9ad-4769-8c92-a6c4dae69d19",
    "_uuid": "8f2839f25d086af736a60e9eeb907d3b93b6e0e5",
    "execution": {
     "iopub.execute_input": "2025-01-07T01:39:12.195104Z",
     "iopub.status.busy": "2025-01-07T01:39:12.194240Z",
     "iopub.status.idle": "2025-01-07T01:39:12.204803Z",
     "shell.execute_reply": "2025-01-07T01:39:12.203285Z"
    },
    "papermill": {
     "duration": 0.02077,
     "end_time": "2025-01-07T01:39:12.206783",
     "exception": false,
     "start_time": "2025-01-07T01:39:12.186013",
     "status": "completed"
    },
    "tags": []
   },
   "outputs": [
    {
     "name": "stdout",
     "output_type": "stream",
     "text": [
      "/kaggle/input/nvidia-corporation-2024-stock-market-dataset/NVIDIA 2024 Stock Market Data.csv\n"
     ]
    }
   ],
   "source": [
    "import os\n",
    "for dirname, _, filenames in os.walk('/kaggle/input'):\n",
    "    for filename in filenames:\n",
    "        print(os.path.join(dirname, filename))\n",
    "\n",
    "# You can write up to 20GB to the current directory (/kaggle/working/) that gets preserved as output when you create a version using \"Save & Run All\" \n",
    "# You can also write temporary files to /kaggle/temp/, but they won't be saved outside of the current session"
   ]
  },
  {
   "cell_type": "code",
   "execution_count": 3,
   "id": "3ebd7858",
   "metadata": {
    "execution": {
     "iopub.execute_input": "2025-01-07T01:39:12.221390Z",
     "iopub.status.busy": "2025-01-07T01:39:12.221061Z",
     "iopub.status.idle": "2025-01-07T01:39:12.258212Z",
     "shell.execute_reply": "2025-01-07T01:39:12.257052Z"
    },
    "papermill": {
     "duration": 0.046297,
     "end_time": "2025-01-07T01:39:12.259996",
     "exception": false,
     "start_time": "2025-01-07T01:39:12.213699",
     "status": "completed"
    },
    "tags": []
   },
   "outputs": [
    {
     "data": {
      "text/html": [
       "<div>\n",
       "<style scoped>\n",
       "    .dataframe tbody tr th:only-of-type {\n",
       "        vertical-align: middle;\n",
       "    }\n",
       "\n",
       "    .dataframe tbody tr th {\n",
       "        vertical-align: top;\n",
       "    }\n",
       "\n",
       "    .dataframe thead th {\n",
       "        text-align: right;\n",
       "    }\n",
       "</style>\n",
       "<table border=\"1\" class=\"dataframe\">\n",
       "  <thead>\n",
       "    <tr style=\"text-align: right;\">\n",
       "      <th></th>\n",
       "      <th>Date</th>\n",
       "      <th>Close</th>\n",
       "      <th>Open</th>\n",
       "      <th>High</th>\n",
       "      <th>Low</th>\n",
       "      <th>Volume</th>\n",
       "    </tr>\n",
       "  </thead>\n",
       "  <tbody>\n",
       "    <tr>\n",
       "      <th>0</th>\n",
       "      <td>1/2/24</td>\n",
       "      <td>$48.17</td>\n",
       "      <td>$49.24</td>\n",
       "      <td>$49.30</td>\n",
       "      <td>$47.60</td>\n",
       "      <td>411,254,220</td>\n",
       "    </tr>\n",
       "    <tr>\n",
       "      <th>1</th>\n",
       "      <td>1/3/24</td>\n",
       "      <td>$47.57</td>\n",
       "      <td>$47.49</td>\n",
       "      <td>$48.18</td>\n",
       "      <td>$47.32</td>\n",
       "      <td>320,896,170</td>\n",
       "    </tr>\n",
       "    <tr>\n",
       "      <th>2</th>\n",
       "      <td>1/4/24</td>\n",
       "      <td>$48.00</td>\n",
       "      <td>$47.77</td>\n",
       "      <td>$48.50</td>\n",
       "      <td>$47.51</td>\n",
       "      <td>306,534,890</td>\n",
       "    </tr>\n",
       "    <tr>\n",
       "      <th>3</th>\n",
       "      <td>1/5/24</td>\n",
       "      <td>$49.10</td>\n",
       "      <td>$48.46</td>\n",
       "      <td>$49.55</td>\n",
       "      <td>$48.31</td>\n",
       "      <td>415,039,270</td>\n",
       "    </tr>\n",
       "    <tr>\n",
       "      <th>4</th>\n",
       "      <td>1/8/24</td>\n",
       "      <td>$52.25</td>\n",
       "      <td>$49.51</td>\n",
       "      <td>$52.28</td>\n",
       "      <td>$49.48</td>\n",
       "      <td>642,509,900</td>\n",
       "    </tr>\n",
       "    <tr>\n",
       "      <th>...</th>\n",
       "      <td>...</td>\n",
       "      <td>...</td>\n",
       "      <td>...</td>\n",
       "      <td>...</td>\n",
       "      <td>...</td>\n",
       "      <td>...</td>\n",
       "    </tr>\n",
       "    <tr>\n",
       "      <th>243</th>\n",
       "      <td>12/18/24</td>\n",
       "      <td>$128.91</td>\n",
       "      <td>$133.86</td>\n",
       "      <td>$136.70</td>\n",
       "      <td>$128.28</td>\n",
       "      <td>277,444,533</td>\n",
       "    </tr>\n",
       "    <tr>\n",
       "      <th>244</th>\n",
       "      <td>12/19/24</td>\n",
       "      <td>$130.68</td>\n",
       "      <td>$131.76</td>\n",
       "      <td>$134.03</td>\n",
       "      <td>$129.55</td>\n",
       "      <td>209,719,210</td>\n",
       "    </tr>\n",
       "    <tr>\n",
       "      <th>245</th>\n",
       "      <td>12/20/24</td>\n",
       "      <td>$134.70</td>\n",
       "      <td>$129.81</td>\n",
       "      <td>$135.28</td>\n",
       "      <td>$128.22</td>\n",
       "      <td>306,528,553</td>\n",
       "    </tr>\n",
       "    <tr>\n",
       "      <th>246</th>\n",
       "      <td>12/23/24</td>\n",
       "      <td>$139.67</td>\n",
       "      <td>$136.28</td>\n",
       "      <td>$139.79</td>\n",
       "      <td>$135.12</td>\n",
       "      <td>176,053,506</td>\n",
       "    </tr>\n",
       "    <tr>\n",
       "      <th>247</th>\n",
       "      <td>12/24/24</td>\n",
       "      <td>$140.22</td>\n",
       "      <td>$140.00</td>\n",
       "      <td>$141.90</td>\n",
       "      <td>$138.65</td>\n",
       "      <td>105,156,989</td>\n",
       "    </tr>\n",
       "  </tbody>\n",
       "</table>\n",
       "<p>248 rows × 6 columns</p>\n",
       "</div>"
      ],
      "text/plain": [
       "         Date      Close       Open       High        Low       Volume\n",
       "0      1/2/24    $48.17     $49.24     $49.30     $47.60   411,254,220\n",
       "1      1/3/24    $47.57     $47.49     $48.18     $47.32   320,896,170\n",
       "2      1/4/24    $48.00     $47.77     $48.50     $47.51   306,534,890\n",
       "3      1/5/24    $49.10     $48.46     $49.55     $48.31   415,039,270\n",
       "4      1/8/24    $52.25     $49.51     $52.28     $49.48   642,509,900\n",
       "..        ...        ...        ...        ...        ...          ...\n",
       "243  12/18/24   $128.91    $133.86    $136.70    $128.28   277,444,533\n",
       "244  12/19/24   $130.68    $131.76    $134.03    $129.55   209,719,210\n",
       "245  12/20/24   $134.70    $129.81    $135.28    $128.22   306,528,553\n",
       "246  12/23/24   $139.67    $136.28    $139.79    $135.12   176,053,506\n",
       "247  12/24/24   $140.22    $140.00    $141.90    $138.65   105,156,989\n",
       "\n",
       "[248 rows x 6 columns]"
      ]
     },
     "execution_count": 3,
     "metadata": {},
     "output_type": "execute_result"
    }
   ],
   "source": [
    "nvidia_stock = pd.read_csv(\"/kaggle/input/nvidia-corporation-2024-stock-market-dataset/NVIDIA 2024 Stock Market Data.csv\")\n",
    "nvidia_stock"
   ]
  },
  {
   "cell_type": "code",
   "execution_count": 4,
   "id": "83220bbb",
   "metadata": {
    "execution": {
     "iopub.execute_input": "2025-01-07T01:39:12.275167Z",
     "iopub.status.busy": "2025-01-07T01:39:12.274703Z",
     "iopub.status.idle": "2025-01-07T01:39:12.291362Z",
     "shell.execute_reply": "2025-01-07T01:39:12.290245Z"
    },
    "papermill": {
     "duration": 0.026263,
     "end_time": "2025-01-07T01:39:12.293162",
     "exception": false,
     "start_time": "2025-01-07T01:39:12.266899",
     "status": "completed"
    },
    "tags": []
   },
   "outputs": [
    {
     "data": {
      "text/html": [
       "<div>\n",
       "<style scoped>\n",
       "    .dataframe tbody tr th:only-of-type {\n",
       "        vertical-align: middle;\n",
       "    }\n",
       "\n",
       "    .dataframe tbody tr th {\n",
       "        vertical-align: top;\n",
       "    }\n",
       "\n",
       "    .dataframe thead th {\n",
       "        text-align: right;\n",
       "    }\n",
       "</style>\n",
       "<table border=\"1\" class=\"dataframe\">\n",
       "  <thead>\n",
       "    <tr style=\"text-align: right;\">\n",
       "      <th></th>\n",
       "      <th>date</th>\n",
       "      <th>close</th>\n",
       "      <th>open</th>\n",
       "      <th>high</th>\n",
       "      <th>low</th>\n",
       "      <th>volume</th>\n",
       "    </tr>\n",
       "  </thead>\n",
       "  <tbody>\n",
       "    <tr>\n",
       "      <th>0</th>\n",
       "      <td>1/2/24</td>\n",
       "      <td>$48.17</td>\n",
       "      <td>$49.24</td>\n",
       "      <td>$49.30</td>\n",
       "      <td>$47.60</td>\n",
       "      <td>411,254,220</td>\n",
       "    </tr>\n",
       "    <tr>\n",
       "      <th>1</th>\n",
       "      <td>1/3/24</td>\n",
       "      <td>$47.57</td>\n",
       "      <td>$47.49</td>\n",
       "      <td>$48.18</td>\n",
       "      <td>$47.32</td>\n",
       "      <td>320,896,170</td>\n",
       "    </tr>\n",
       "    <tr>\n",
       "      <th>2</th>\n",
       "      <td>1/4/24</td>\n",
       "      <td>$48.00</td>\n",
       "      <td>$47.77</td>\n",
       "      <td>$48.50</td>\n",
       "      <td>$47.51</td>\n",
       "      <td>306,534,890</td>\n",
       "    </tr>\n",
       "    <tr>\n",
       "      <th>3</th>\n",
       "      <td>1/5/24</td>\n",
       "      <td>$49.10</td>\n",
       "      <td>$48.46</td>\n",
       "      <td>$49.55</td>\n",
       "      <td>$48.31</td>\n",
       "      <td>415,039,270</td>\n",
       "    </tr>\n",
       "    <tr>\n",
       "      <th>4</th>\n",
       "      <td>1/8/24</td>\n",
       "      <td>$52.25</td>\n",
       "      <td>$49.51</td>\n",
       "      <td>$52.28</td>\n",
       "      <td>$49.48</td>\n",
       "      <td>642,509,900</td>\n",
       "    </tr>\n",
       "    <tr>\n",
       "      <th>...</th>\n",
       "      <td>...</td>\n",
       "      <td>...</td>\n",
       "      <td>...</td>\n",
       "      <td>...</td>\n",
       "      <td>...</td>\n",
       "      <td>...</td>\n",
       "    </tr>\n",
       "    <tr>\n",
       "      <th>243</th>\n",
       "      <td>12/18/24</td>\n",
       "      <td>$128.91</td>\n",
       "      <td>$133.86</td>\n",
       "      <td>$136.70</td>\n",
       "      <td>$128.28</td>\n",
       "      <td>277,444,533</td>\n",
       "    </tr>\n",
       "    <tr>\n",
       "      <th>244</th>\n",
       "      <td>12/19/24</td>\n",
       "      <td>$130.68</td>\n",
       "      <td>$131.76</td>\n",
       "      <td>$134.03</td>\n",
       "      <td>$129.55</td>\n",
       "      <td>209,719,210</td>\n",
       "    </tr>\n",
       "    <tr>\n",
       "      <th>245</th>\n",
       "      <td>12/20/24</td>\n",
       "      <td>$134.70</td>\n",
       "      <td>$129.81</td>\n",
       "      <td>$135.28</td>\n",
       "      <td>$128.22</td>\n",
       "      <td>306,528,553</td>\n",
       "    </tr>\n",
       "    <tr>\n",
       "      <th>246</th>\n",
       "      <td>12/23/24</td>\n",
       "      <td>$139.67</td>\n",
       "      <td>$136.28</td>\n",
       "      <td>$139.79</td>\n",
       "      <td>$135.12</td>\n",
       "      <td>176,053,506</td>\n",
       "    </tr>\n",
       "    <tr>\n",
       "      <th>247</th>\n",
       "      <td>12/24/24</td>\n",
       "      <td>$140.22</td>\n",
       "      <td>$140.00</td>\n",
       "      <td>$141.90</td>\n",
       "      <td>$138.65</td>\n",
       "      <td>105,156,989</td>\n",
       "    </tr>\n",
       "  </tbody>\n",
       "</table>\n",
       "<p>248 rows × 6 columns</p>\n",
       "</div>"
      ],
      "text/plain": [
       "         date      close       open       high        low       volume\n",
       "0      1/2/24    $48.17     $49.24     $49.30     $47.60   411,254,220\n",
       "1      1/3/24    $47.57     $47.49     $48.18     $47.32   320,896,170\n",
       "2      1/4/24    $48.00     $47.77     $48.50     $47.51   306,534,890\n",
       "3      1/5/24    $49.10     $48.46     $49.55     $48.31   415,039,270\n",
       "4      1/8/24    $52.25     $49.51     $52.28     $49.48   642,509,900\n",
       "..        ...        ...        ...        ...        ...          ...\n",
       "243  12/18/24   $128.91    $133.86    $136.70    $128.28   277,444,533\n",
       "244  12/19/24   $130.68    $131.76    $134.03    $129.55   209,719,210\n",
       "245  12/20/24   $134.70    $129.81    $135.28    $128.22   306,528,553\n",
       "246  12/23/24   $139.67    $136.28    $139.79    $135.12   176,053,506\n",
       "247  12/24/24   $140.22    $140.00    $141.90    $138.65   105,156,989\n",
       "\n",
       "[248 rows x 6 columns]"
      ]
     },
     "execution_count": 4,
     "metadata": {},
     "output_type": "execute_result"
    }
   ],
   "source": [
    "nvidia_stock.columns = nvidia_stock.columns.str.lower().str.replace(' ', '_')\n",
    "nvidia_stock"
   ]
  },
  {
   "cell_type": "code",
   "execution_count": 5,
   "id": "37cb0500",
   "metadata": {
    "execution": {
     "iopub.execute_input": "2025-01-07T01:39:12.308893Z",
     "iopub.status.busy": "2025-01-07T01:39:12.308470Z",
     "iopub.status.idle": "2025-01-07T01:39:12.347373Z",
     "shell.execute_reply": "2025-01-07T01:39:12.345857Z"
    },
    "papermill": {
     "duration": 0.048854,
     "end_time": "2025-01-07T01:39:12.349102",
     "exception": false,
     "start_time": "2025-01-07T01:39:12.300248",
     "status": "completed"
    },
    "tags": []
   },
   "outputs": [
    {
     "name": "stderr",
     "output_type": "stream",
     "text": [
      "<ipython-input-5-50ee0394dfdd>:1: UserWarning: Could not infer format, so each element will be parsed individually, falling back to `dateutil`. To ensure parsing is consistent and as-expected, please specify a format.\n",
      "  nvidia_stock['date'] = pd.to_datetime(nvidia_stock['date'])\n"
     ]
    },
    {
     "data": {
      "text/html": [
       "<div>\n",
       "<style scoped>\n",
       "    .dataframe tbody tr th:only-of-type {\n",
       "        vertical-align: middle;\n",
       "    }\n",
       "\n",
       "    .dataframe tbody tr th {\n",
       "        vertical-align: top;\n",
       "    }\n",
       "\n",
       "    .dataframe thead th {\n",
       "        text-align: right;\n",
       "    }\n",
       "</style>\n",
       "<table border=\"1\" class=\"dataframe\">\n",
       "  <thead>\n",
       "    <tr style=\"text-align: right;\">\n",
       "      <th></th>\n",
       "      <th>date</th>\n",
       "      <th>close</th>\n",
       "      <th>open</th>\n",
       "      <th>high</th>\n",
       "      <th>low</th>\n",
       "      <th>volume</th>\n",
       "    </tr>\n",
       "  </thead>\n",
       "  <tbody>\n",
       "    <tr>\n",
       "      <th>0</th>\n",
       "      <td>2024-01-02</td>\n",
       "      <td>$48.17</td>\n",
       "      <td>$49.24</td>\n",
       "      <td>$49.30</td>\n",
       "      <td>$47.60</td>\n",
       "      <td>411,254,220</td>\n",
       "    </tr>\n",
       "    <tr>\n",
       "      <th>1</th>\n",
       "      <td>2024-01-03</td>\n",
       "      <td>$47.57</td>\n",
       "      <td>$47.49</td>\n",
       "      <td>$48.18</td>\n",
       "      <td>$47.32</td>\n",
       "      <td>320,896,170</td>\n",
       "    </tr>\n",
       "    <tr>\n",
       "      <th>2</th>\n",
       "      <td>2024-01-04</td>\n",
       "      <td>$48.00</td>\n",
       "      <td>$47.77</td>\n",
       "      <td>$48.50</td>\n",
       "      <td>$47.51</td>\n",
       "      <td>306,534,890</td>\n",
       "    </tr>\n",
       "    <tr>\n",
       "      <th>3</th>\n",
       "      <td>2024-01-05</td>\n",
       "      <td>$49.10</td>\n",
       "      <td>$48.46</td>\n",
       "      <td>$49.55</td>\n",
       "      <td>$48.31</td>\n",
       "      <td>415,039,270</td>\n",
       "    </tr>\n",
       "    <tr>\n",
       "      <th>4</th>\n",
       "      <td>2024-01-08</td>\n",
       "      <td>$52.25</td>\n",
       "      <td>$49.51</td>\n",
       "      <td>$52.28</td>\n",
       "      <td>$49.48</td>\n",
       "      <td>642,509,900</td>\n",
       "    </tr>\n",
       "    <tr>\n",
       "      <th>...</th>\n",
       "      <td>...</td>\n",
       "      <td>...</td>\n",
       "      <td>...</td>\n",
       "      <td>...</td>\n",
       "      <td>...</td>\n",
       "      <td>...</td>\n",
       "    </tr>\n",
       "    <tr>\n",
       "      <th>243</th>\n",
       "      <td>2024-12-18</td>\n",
       "      <td>$128.91</td>\n",
       "      <td>$133.86</td>\n",
       "      <td>$136.70</td>\n",
       "      <td>$128.28</td>\n",
       "      <td>277,444,533</td>\n",
       "    </tr>\n",
       "    <tr>\n",
       "      <th>244</th>\n",
       "      <td>2024-12-19</td>\n",
       "      <td>$130.68</td>\n",
       "      <td>$131.76</td>\n",
       "      <td>$134.03</td>\n",
       "      <td>$129.55</td>\n",
       "      <td>209,719,210</td>\n",
       "    </tr>\n",
       "    <tr>\n",
       "      <th>245</th>\n",
       "      <td>2024-12-20</td>\n",
       "      <td>$134.70</td>\n",
       "      <td>$129.81</td>\n",
       "      <td>$135.28</td>\n",
       "      <td>$128.22</td>\n",
       "      <td>306,528,553</td>\n",
       "    </tr>\n",
       "    <tr>\n",
       "      <th>246</th>\n",
       "      <td>2024-12-23</td>\n",
       "      <td>$139.67</td>\n",
       "      <td>$136.28</td>\n",
       "      <td>$139.79</td>\n",
       "      <td>$135.12</td>\n",
       "      <td>176,053,506</td>\n",
       "    </tr>\n",
       "    <tr>\n",
       "      <th>247</th>\n",
       "      <td>2024-12-24</td>\n",
       "      <td>$140.22</td>\n",
       "      <td>$140.00</td>\n",
       "      <td>$141.90</td>\n",
       "      <td>$138.65</td>\n",
       "      <td>105,156,989</td>\n",
       "    </tr>\n",
       "  </tbody>\n",
       "</table>\n",
       "<p>248 rows × 6 columns</p>\n",
       "</div>"
      ],
      "text/plain": [
       "          date      close       open       high        low       volume\n",
       "0   2024-01-02    $48.17     $49.24     $49.30     $47.60   411,254,220\n",
       "1   2024-01-03    $47.57     $47.49     $48.18     $47.32   320,896,170\n",
       "2   2024-01-04    $48.00     $47.77     $48.50     $47.51   306,534,890\n",
       "3   2024-01-05    $49.10     $48.46     $49.55     $48.31   415,039,270\n",
       "4   2024-01-08    $52.25     $49.51     $52.28     $49.48   642,509,900\n",
       "..         ...        ...        ...        ...        ...          ...\n",
       "243 2024-12-18   $128.91    $133.86    $136.70    $128.28   277,444,533\n",
       "244 2024-12-19   $130.68    $131.76    $134.03    $129.55   209,719,210\n",
       "245 2024-12-20   $134.70    $129.81    $135.28    $128.22   306,528,553\n",
       "246 2024-12-23   $139.67    $136.28    $139.79    $135.12   176,053,506\n",
       "247 2024-12-24   $140.22    $140.00    $141.90    $138.65   105,156,989\n",
       "\n",
       "[248 rows x 6 columns]"
      ]
     },
     "execution_count": 5,
     "metadata": {},
     "output_type": "execute_result"
    }
   ],
   "source": [
    "nvidia_stock['date'] = pd.to_datetime(nvidia_stock['date'])\n",
    "nvidia_stock"
   ]
  },
  {
   "cell_type": "code",
   "execution_count": 6,
   "id": "532ace00",
   "metadata": {
    "execution": {
     "iopub.execute_input": "2025-01-07T01:39:12.365934Z",
     "iopub.status.busy": "2025-01-07T01:39:12.365504Z",
     "iopub.status.idle": "2025-01-07T01:39:12.373764Z",
     "shell.execute_reply": "2025-01-07T01:39:12.372536Z"
    },
    "papermill": {
     "duration": 0.018733,
     "end_time": "2025-01-07T01:39:12.375432",
     "exception": false,
     "start_time": "2025-01-07T01:39:12.356699",
     "status": "completed"
    },
    "tags": []
   },
   "outputs": [
    {
     "data": {
      "text/plain": [
       "date      datetime64[ns]\n",
       "close             object\n",
       "open              object\n",
       "high              object\n",
       "low               object\n",
       "volume            object\n",
       "dtype: object"
      ]
     },
     "execution_count": 6,
     "metadata": {},
     "output_type": "execute_result"
    }
   ],
   "source": [
    "nvidia_stock.dtypes"
   ]
  },
  {
   "cell_type": "code",
   "execution_count": 7,
   "id": "99a18faf",
   "metadata": {
    "execution": {
     "iopub.execute_input": "2025-01-07T01:39:12.392259Z",
     "iopub.status.busy": "2025-01-07T01:39:12.391845Z",
     "iopub.status.idle": "2025-01-07T01:39:12.407757Z",
     "shell.execute_reply": "2025-01-07T01:39:12.406552Z"
    },
    "papermill": {
     "duration": 0.026698,
     "end_time": "2025-01-07T01:39:12.409745",
     "exception": false,
     "start_time": "2025-01-07T01:39:12.383047",
     "status": "completed"
    },
    "tags": []
   },
   "outputs": [
    {
     "data": {
      "text/html": [
       "<div>\n",
       "<style scoped>\n",
       "    .dataframe tbody tr th:only-of-type {\n",
       "        vertical-align: middle;\n",
       "    }\n",
       "\n",
       "    .dataframe tbody tr th {\n",
       "        vertical-align: top;\n",
       "    }\n",
       "\n",
       "    .dataframe thead th {\n",
       "        text-align: right;\n",
       "    }\n",
       "</style>\n",
       "<table border=\"1\" class=\"dataframe\">\n",
       "  <thead>\n",
       "    <tr style=\"text-align: right;\">\n",
       "      <th></th>\n",
       "      <th>date</th>\n",
       "      <th>close</th>\n",
       "      <th>open</th>\n",
       "      <th>high</th>\n",
       "      <th>low</th>\n",
       "      <th>volume</th>\n",
       "    </tr>\n",
       "  </thead>\n",
       "  <tbody>\n",
       "    <tr>\n",
       "      <th>0</th>\n",
       "      <td>2024-01-02</td>\n",
       "      <td>$48.17</td>\n",
       "      <td>$49.24</td>\n",
       "      <td>$49.30</td>\n",
       "      <td>$47.60</td>\n",
       "      <td>411254220</td>\n",
       "    </tr>\n",
       "    <tr>\n",
       "      <th>1</th>\n",
       "      <td>2024-01-03</td>\n",
       "      <td>$47.57</td>\n",
       "      <td>$47.49</td>\n",
       "      <td>$48.18</td>\n",
       "      <td>$47.32</td>\n",
       "      <td>320896170</td>\n",
       "    </tr>\n",
       "    <tr>\n",
       "      <th>2</th>\n",
       "      <td>2024-01-04</td>\n",
       "      <td>$48.00</td>\n",
       "      <td>$47.77</td>\n",
       "      <td>$48.50</td>\n",
       "      <td>$47.51</td>\n",
       "      <td>306534890</td>\n",
       "    </tr>\n",
       "    <tr>\n",
       "      <th>3</th>\n",
       "      <td>2024-01-05</td>\n",
       "      <td>$49.10</td>\n",
       "      <td>$48.46</td>\n",
       "      <td>$49.55</td>\n",
       "      <td>$48.31</td>\n",
       "      <td>415039270</td>\n",
       "    </tr>\n",
       "    <tr>\n",
       "      <th>4</th>\n",
       "      <td>2024-01-08</td>\n",
       "      <td>$52.25</td>\n",
       "      <td>$49.51</td>\n",
       "      <td>$52.28</td>\n",
       "      <td>$49.48</td>\n",
       "      <td>642509900</td>\n",
       "    </tr>\n",
       "    <tr>\n",
       "      <th>...</th>\n",
       "      <td>...</td>\n",
       "      <td>...</td>\n",
       "      <td>...</td>\n",
       "      <td>...</td>\n",
       "      <td>...</td>\n",
       "      <td>...</td>\n",
       "    </tr>\n",
       "    <tr>\n",
       "      <th>243</th>\n",
       "      <td>2024-12-18</td>\n",
       "      <td>$128.91</td>\n",
       "      <td>$133.86</td>\n",
       "      <td>$136.70</td>\n",
       "      <td>$128.28</td>\n",
       "      <td>277444533</td>\n",
       "    </tr>\n",
       "    <tr>\n",
       "      <th>244</th>\n",
       "      <td>2024-12-19</td>\n",
       "      <td>$130.68</td>\n",
       "      <td>$131.76</td>\n",
       "      <td>$134.03</td>\n",
       "      <td>$129.55</td>\n",
       "      <td>209719210</td>\n",
       "    </tr>\n",
       "    <tr>\n",
       "      <th>245</th>\n",
       "      <td>2024-12-20</td>\n",
       "      <td>$134.70</td>\n",
       "      <td>$129.81</td>\n",
       "      <td>$135.28</td>\n",
       "      <td>$128.22</td>\n",
       "      <td>306528553</td>\n",
       "    </tr>\n",
       "    <tr>\n",
       "      <th>246</th>\n",
       "      <td>2024-12-23</td>\n",
       "      <td>$139.67</td>\n",
       "      <td>$136.28</td>\n",
       "      <td>$139.79</td>\n",
       "      <td>$135.12</td>\n",
       "      <td>176053506</td>\n",
       "    </tr>\n",
       "    <tr>\n",
       "      <th>247</th>\n",
       "      <td>2024-12-24</td>\n",
       "      <td>$140.22</td>\n",
       "      <td>$140.00</td>\n",
       "      <td>$141.90</td>\n",
       "      <td>$138.65</td>\n",
       "      <td>105156989</td>\n",
       "    </tr>\n",
       "  </tbody>\n",
       "</table>\n",
       "<p>248 rows × 6 columns</p>\n",
       "</div>"
      ],
      "text/plain": [
       "          date      close       open       high        low     volume\n",
       "0   2024-01-02    $48.17     $49.24     $49.30     $47.60   411254220\n",
       "1   2024-01-03    $47.57     $47.49     $48.18     $47.32   320896170\n",
       "2   2024-01-04    $48.00     $47.77     $48.50     $47.51   306534890\n",
       "3   2024-01-05    $49.10     $48.46     $49.55     $48.31   415039270\n",
       "4   2024-01-08    $52.25     $49.51     $52.28     $49.48   642509900\n",
       "..         ...        ...        ...        ...        ...        ...\n",
       "243 2024-12-18   $128.91    $133.86    $136.70    $128.28   277444533\n",
       "244 2024-12-19   $130.68    $131.76    $134.03    $129.55   209719210\n",
       "245 2024-12-20   $134.70    $129.81    $135.28    $128.22   306528553\n",
       "246 2024-12-23   $139.67    $136.28    $139.79    $135.12   176053506\n",
       "247 2024-12-24   $140.22    $140.00    $141.90    $138.65   105156989\n",
       "\n",
       "[248 rows x 6 columns]"
      ]
     },
     "execution_count": 7,
     "metadata": {},
     "output_type": "execute_result"
    }
   ],
   "source": [
    "# Replace commas and then convert the column to numeric\n",
    "nvidia_stock['volume'] = nvidia_stock['volume'].str.replace(',', '')\n",
    "nvidia_stock"
   ]
  },
  {
   "cell_type": "code",
   "execution_count": 8,
   "id": "83c9bf41",
   "metadata": {
    "execution": {
     "iopub.execute_input": "2025-01-07T01:39:12.426600Z",
     "iopub.status.busy": "2025-01-07T01:39:12.426194Z",
     "iopub.status.idle": "2025-01-07T01:39:12.442768Z",
     "shell.execute_reply": "2025-01-07T01:39:12.441215Z"
    },
    "papermill": {
     "duration": 0.027204,
     "end_time": "2025-01-07T01:39:12.444597",
     "exception": false,
     "start_time": "2025-01-07T01:39:12.417393",
     "status": "completed"
    },
    "tags": []
   },
   "outputs": [
    {
     "name": "stdout",
     "output_type": "stream",
     "text": [
      "Series([], Name: close, dtype: float64)\n",
      "Series([], Name: open, dtype: float64)\n",
      "Series([], Name: high, dtype: float64)\n",
      "Series([], Name: low, dtype: float64)\n"
     ]
    }
   ],
   "source": [
    "import pandas as pd\n",
    "\n",
    "# Attempt to replace the dollar sign and convert to float\n",
    "try:\n",
    "    nvidia_stock['close'] = nvidia_stock['close'].str.replace('$', '').astype(float)\n",
    "except Exception as e:\n",
    "    print(f\"Error: {e}\")\n",
    "try:\n",
    "    nvidia_stock['open'] = nvidia_stock['open'].str.replace('$', '').astype(float)\n",
    "except Exception as e:\n",
    "    print(f\"Error: {e}\")\n",
    "try:\n",
    "    nvidia_stock['high'] = nvidia_stock['high'].str.replace('$', '').astype(float)\n",
    "except Exception as e:\n",
    "    print(f\"Error: {e}\")\n",
    "try:\n",
    "    nvidia_stock['low'] = nvidia_stock['low'].str.replace('$', '').astype(float)\n",
    "except Exception as e:\n",
    "    print(f\"Error: {e}\")\n",
    "\n",
    "# Check if there are any entries that could not be converted\n",
    "print(nvidia_stock['close'][nvidia_stock['close'].apply(lambda x: isinstance(x, str))])\n",
    "print(nvidia_stock['open'][nvidia_stock['open'].apply(lambda x: isinstance(x, str))])\n",
    "print(nvidia_stock['high'][nvidia_stock['high'].apply(lambda x: isinstance(x, str))])\n",
    "print(nvidia_stock['low'][nvidia_stock['low'].apply(lambda x: isinstance(x, str))])\n"
   ]
  },
  {
   "cell_type": "code",
   "execution_count": 9,
   "id": "68c4066e",
   "metadata": {
    "execution": {
     "iopub.execute_input": "2025-01-07T01:39:12.461244Z",
     "iopub.status.busy": "2025-01-07T01:39:12.460907Z",
     "iopub.status.idle": "2025-01-07T01:39:12.471024Z",
     "shell.execute_reply": "2025-01-07T01:39:12.469871Z"
    },
    "papermill": {
     "duration": 0.020594,
     "end_time": "2025-01-07T01:39:12.472841",
     "exception": false,
     "start_time": "2025-01-07T01:39:12.452247",
     "status": "completed"
    },
    "tags": []
   },
   "outputs": [
    {
     "data": {
      "text/plain": [
       "date      datetime64[ns]\n",
       "close            float64\n",
       "open             float64\n",
       "high             float64\n",
       "low              float64\n",
       "volume             int64\n",
       "dtype: object"
      ]
     },
     "execution_count": 9,
     "metadata": {},
     "output_type": "execute_result"
    }
   ],
   "source": [
    "# Convert the 'volume' column to numeric, coercing errors to NaN (if any non-convertible values exist)\n",
    "# 'coerce': Any value that cannot be converted to a numeric type (for instance, non-numeric strings) will be changed to NaN (Not a Number). This ensures that the conversion process does not fail and allows the operation to complete, but at the expense of losing the information contained in the non-convertible values.\n",
    "nvidia_stock['volume'] = pd.to_numeric(nvidia_stock['volume'])\n",
    "nvidia_stock['close'] = pd.to_numeric(nvidia_stock['close'])\n",
    "nvidia_stock['open'] = pd.to_numeric(nvidia_stock['open'])\n",
    "nvidia_stock['high'] = pd.to_numeric(nvidia_stock['high'])\n",
    "nvidia_stock['low'] = pd.to_numeric(nvidia_stock['low'])\n",
    "\n",
    "nvidia_stock.dtypes"
   ]
  },
  {
   "cell_type": "code",
   "execution_count": 10,
   "id": "f1b2d644",
   "metadata": {
    "execution": {
     "iopub.execute_input": "2025-01-07T01:39:12.491257Z",
     "iopub.status.busy": "2025-01-07T01:39:12.490904Z",
     "iopub.status.idle": "2025-01-07T01:39:12.510256Z",
     "shell.execute_reply": "2025-01-07T01:39:12.509149Z"
    },
    "papermill": {
     "duration": 0.030371,
     "end_time": "2025-01-07T01:39:12.512084",
     "exception": false,
     "start_time": "2025-01-07T01:39:12.481713",
     "status": "completed"
    },
    "tags": []
   },
   "outputs": [
    {
     "data": {
      "text/html": [
       "<div>\n",
       "<style scoped>\n",
       "    .dataframe tbody tr th:only-of-type {\n",
       "        vertical-align: middle;\n",
       "    }\n",
       "\n",
       "    .dataframe tbody tr th {\n",
       "        vertical-align: top;\n",
       "    }\n",
       "\n",
       "    .dataframe thead th {\n",
       "        text-align: right;\n",
       "    }\n",
       "</style>\n",
       "<table border=\"1\" class=\"dataframe\">\n",
       "  <thead>\n",
       "    <tr style=\"text-align: right;\">\n",
       "      <th></th>\n",
       "      <th>date</th>\n",
       "      <th>close</th>\n",
       "      <th>open</th>\n",
       "      <th>high</th>\n",
       "      <th>low</th>\n",
       "      <th>volume</th>\n",
       "      <th>volume_byB</th>\n",
       "    </tr>\n",
       "  </thead>\n",
       "  <tbody>\n",
       "    <tr>\n",
       "      <th>0</th>\n",
       "      <td>2024-01-02</td>\n",
       "      <td>48.17</td>\n",
       "      <td>49.24</td>\n",
       "      <td>49.30</td>\n",
       "      <td>47.60</td>\n",
       "      <td>411254220</td>\n",
       "      <td>0.411254</td>\n",
       "    </tr>\n",
       "    <tr>\n",
       "      <th>1</th>\n",
       "      <td>2024-01-03</td>\n",
       "      <td>47.57</td>\n",
       "      <td>47.49</td>\n",
       "      <td>48.18</td>\n",
       "      <td>47.32</td>\n",
       "      <td>320896170</td>\n",
       "      <td>0.320896</td>\n",
       "    </tr>\n",
       "    <tr>\n",
       "      <th>2</th>\n",
       "      <td>2024-01-04</td>\n",
       "      <td>48.00</td>\n",
       "      <td>47.77</td>\n",
       "      <td>48.50</td>\n",
       "      <td>47.51</td>\n",
       "      <td>306534890</td>\n",
       "      <td>0.306535</td>\n",
       "    </tr>\n",
       "    <tr>\n",
       "      <th>3</th>\n",
       "      <td>2024-01-05</td>\n",
       "      <td>49.10</td>\n",
       "      <td>48.46</td>\n",
       "      <td>49.55</td>\n",
       "      <td>48.31</td>\n",
       "      <td>415039270</td>\n",
       "      <td>0.415039</td>\n",
       "    </tr>\n",
       "    <tr>\n",
       "      <th>4</th>\n",
       "      <td>2024-01-08</td>\n",
       "      <td>52.25</td>\n",
       "      <td>49.51</td>\n",
       "      <td>52.28</td>\n",
       "      <td>49.48</td>\n",
       "      <td>642509900</td>\n",
       "      <td>0.642510</td>\n",
       "    </tr>\n",
       "    <tr>\n",
       "      <th>...</th>\n",
       "      <td>...</td>\n",
       "      <td>...</td>\n",
       "      <td>...</td>\n",
       "      <td>...</td>\n",
       "      <td>...</td>\n",
       "      <td>...</td>\n",
       "      <td>...</td>\n",
       "    </tr>\n",
       "    <tr>\n",
       "      <th>243</th>\n",
       "      <td>2024-12-18</td>\n",
       "      <td>128.91</td>\n",
       "      <td>133.86</td>\n",
       "      <td>136.70</td>\n",
       "      <td>128.28</td>\n",
       "      <td>277444533</td>\n",
       "      <td>0.277445</td>\n",
       "    </tr>\n",
       "    <tr>\n",
       "      <th>244</th>\n",
       "      <td>2024-12-19</td>\n",
       "      <td>130.68</td>\n",
       "      <td>131.76</td>\n",
       "      <td>134.03</td>\n",
       "      <td>129.55</td>\n",
       "      <td>209719210</td>\n",
       "      <td>0.209719</td>\n",
       "    </tr>\n",
       "    <tr>\n",
       "      <th>245</th>\n",
       "      <td>2024-12-20</td>\n",
       "      <td>134.70</td>\n",
       "      <td>129.81</td>\n",
       "      <td>135.28</td>\n",
       "      <td>128.22</td>\n",
       "      <td>306528553</td>\n",
       "      <td>0.306529</td>\n",
       "    </tr>\n",
       "    <tr>\n",
       "      <th>246</th>\n",
       "      <td>2024-12-23</td>\n",
       "      <td>139.67</td>\n",
       "      <td>136.28</td>\n",
       "      <td>139.79</td>\n",
       "      <td>135.12</td>\n",
       "      <td>176053506</td>\n",
       "      <td>0.176054</td>\n",
       "    </tr>\n",
       "    <tr>\n",
       "      <th>247</th>\n",
       "      <td>2024-12-24</td>\n",
       "      <td>140.22</td>\n",
       "      <td>140.00</td>\n",
       "      <td>141.90</td>\n",
       "      <td>138.65</td>\n",
       "      <td>105156989</td>\n",
       "      <td>0.105157</td>\n",
       "    </tr>\n",
       "  </tbody>\n",
       "</table>\n",
       "<p>248 rows × 7 columns</p>\n",
       "</div>"
      ],
      "text/plain": [
       "          date   close    open    high     low     volume  volume_byB\n",
       "0   2024-01-02   48.17   49.24   49.30   47.60  411254220    0.411254\n",
       "1   2024-01-03   47.57   47.49   48.18   47.32  320896170    0.320896\n",
       "2   2024-01-04   48.00   47.77   48.50   47.51  306534890    0.306535\n",
       "3   2024-01-05   49.10   48.46   49.55   48.31  415039270    0.415039\n",
       "4   2024-01-08   52.25   49.51   52.28   49.48  642509900    0.642510\n",
       "..         ...     ...     ...     ...     ...        ...         ...\n",
       "243 2024-12-18  128.91  133.86  136.70  128.28  277444533    0.277445\n",
       "244 2024-12-19  130.68  131.76  134.03  129.55  209719210    0.209719\n",
       "245 2024-12-20  134.70  129.81  135.28  128.22  306528553    0.306529\n",
       "246 2024-12-23  139.67  136.28  139.79  135.12  176053506    0.176054\n",
       "247 2024-12-24  140.22  140.00  141.90  138.65  105156989    0.105157\n",
       "\n",
       "[248 rows x 7 columns]"
      ]
     },
     "execution_count": 10,
     "metadata": {},
     "output_type": "execute_result"
    }
   ],
   "source": [
    "nvidia_stock['volume_byB'] = nvidia_stock['volume'] / 1e9\n",
    "nvidia_stock"
   ]
  },
  {
   "cell_type": "code",
   "execution_count": 11,
   "id": "130ecaae",
   "metadata": {
    "execution": {
     "iopub.execute_input": "2025-01-07T01:39:12.531148Z",
     "iopub.status.busy": "2025-01-07T01:39:12.530800Z",
     "iopub.status.idle": "2025-01-07T01:39:12.538897Z",
     "shell.execute_reply": "2025-01-07T01:39:12.537547Z"
    },
    "papermill": {
     "duration": 0.020286,
     "end_time": "2025-01-07T01:39:12.540973",
     "exception": false,
     "start_time": "2025-01-07T01:39:12.520687",
     "status": "completed"
    },
    "tags": []
   },
   "outputs": [
    {
     "data": {
      "text/plain": [
       "date          datetime64[ns]\n",
       "close                float64\n",
       "open                 float64\n",
       "high                 float64\n",
       "low                  float64\n",
       "volume                 int64\n",
       "volume_byB           float64\n",
       "dtype: object"
      ]
     },
     "execution_count": 11,
     "metadata": {},
     "output_type": "execute_result"
    }
   ],
   "source": [
    "nvidia_stock.dtypes"
   ]
  },
  {
   "cell_type": "markdown",
   "id": "d1b2694f",
   "metadata": {
    "papermill": {
     "duration": 0.008435,
     "end_time": "2025-01-07T01:39:12.558189",
     "exception": false,
     "start_time": "2025-01-07T01:39:12.549754",
     "status": "completed"
    },
    "tags": []
   },
   "source": [
    "## Summary"
   ]
  },
  {
   "cell_type": "code",
   "execution_count": 12,
   "id": "0018f8a1",
   "metadata": {
    "execution": {
     "iopub.execute_input": "2025-01-07T01:39:12.576942Z",
     "iopub.status.busy": "2025-01-07T01:39:12.576526Z",
     "iopub.status.idle": "2025-01-07T01:39:12.614349Z",
     "shell.execute_reply": "2025-01-07T01:39:12.612986Z"
    },
    "papermill": {
     "duration": 0.049725,
     "end_time": "2025-01-07T01:39:12.616521",
     "exception": false,
     "start_time": "2025-01-07T01:39:12.566796",
     "status": "completed"
    },
    "tags": []
   },
   "outputs": [
    {
     "name": "stdout",
     "output_type": "stream",
     "text": [
      "                                date       close       open        high  \\\n",
      "count                            248  248.000000  248.00000  248.000000   \n",
      "mean   2024-06-28 22:03:52.258064640  107.352137  107.41754  109.373992   \n",
      "min              2024-01-02 00:00:00   47.570000   47.49000   48.180000   \n",
      "25%              2024-04-01 18:00:00   87.687500   87.56000   89.167500   \n",
      "50%              2024-06-29 12:00:00  114.540000  115.18500  116.615000   \n",
      "75%              2024-09-26 06:00:00  129.430000  129.84750  131.672500   \n",
      "max              2024-12-24 00:00:00  148.880000  149.35000  152.890000   \n",
      "std                              NaN   26.911353   27.09345   27.394735   \n",
      "\n",
      "              low        volume  volume_byB  \n",
      "count  248.000000  2.480000e+02  248.000000  \n",
      "mean   105.156573  3.809906e+08    0.380991  \n",
      "min     47.320000  1.051570e+08    0.105157  \n",
      "25%     86.027500  2.565828e+08    0.256583  \n",
      "50%    111.440000  3.573289e+08    0.357329  \n",
      "75%    127.165000  4.767220e+08    0.476722  \n",
      "max    146.260000  1.142269e+09    1.142269  \n",
      "std     26.521472  1.605796e+08    0.160580  \n"
     ]
    }
   ],
   "source": [
    "print(nvidia_stock.describe())"
   ]
  },
  {
   "cell_type": "code",
   "execution_count": 13,
   "id": "572ead93",
   "metadata": {
    "execution": {
     "iopub.execute_input": "2025-01-07T01:39:12.634940Z",
     "iopub.status.busy": "2025-01-07T01:39:12.634322Z",
     "iopub.status.idle": "2025-01-07T01:39:13.138141Z",
     "shell.execute_reply": "2025-01-07T01:39:13.136660Z"
    },
    "papermill": {
     "duration": 0.515549,
     "end_time": "2025-01-07T01:39:13.140590",
     "exception": false,
     "start_time": "2025-01-07T01:39:12.625041",
     "status": "completed"
    },
    "tags": []
   },
   "outputs": [
    {
     "data": {
      "image/png": "[encoded data removed]",
      "text/plain": [
       "<Figure size 1200x600 with 1 Axes>"
      ]
     },
     "metadata": {},
     "output_type": "display_data"
    }
   ],
   "source": [
    "nvidia_stock.set_index('date')[['volume_byB']].plot(figsize=(12, 6))\n",
    "plt.title('NVIDIA Stock Trading Volume Over Time')\n",
    "plt.xlabel('Date')\n",
    "plt.ylabel('Volume (in Billions)')\n",
    "plt.show()"
   ]
  },
  {
   "cell_type": "markdown",
   "id": "bc5150e1",
   "metadata": {
    "papermill": {
     "duration": 0.010487,
     "end_time": "2025-01-07T01:39:13.167840",
     "exception": false,
     "start_time": "2025-01-07T01:39:13.157353",
     "status": "completed"
    },
    "tags": []
   },
   "source": [
    "## ML Modeling (LSTM)"
   ]
  },
  {
   "cell_type": "markdown",
   "id": "b86667dd",
   "metadata": {
    "papermill": {
     "duration": 0.010386,
     "end_time": "2025-01-07T01:39:13.188869",
     "exception": false,
     "start_time": "2025-01-07T01:39:13.178483",
     "status": "completed"
    },
    "tags": []
   },
   "source": [
    "### Splitting"
   ]
  },
  {
   "cell_type": "code",
   "execution_count": 14,
   "id": "e0d04bb6",
   "metadata": {
    "execution": {
     "iopub.execute_input": "2025-01-07T01:39:13.211628Z",
     "iopub.status.busy": "2025-01-07T01:39:13.211155Z",
     "iopub.status.idle": "2025-01-07T01:39:13.224540Z",
     "shell.execute_reply": "2025-01-07T01:39:13.223197Z"
    },
    "papermill": {
     "duration": 0.027466,
     "end_time": "2025-01-07T01:39:13.226749",
     "exception": false,
     "start_time": "2025-01-07T01:39:13.199283",
     "status": "completed"
    },
    "tags": []
   },
   "outputs": [],
   "source": [
    "train_size = int(len(nvidia_stock) * 0.8)\n",
    "train, test = nvidia_stock[:train_size], nvidia_stock[train_size:]\n",
    "\n",
    "# Normalizing the volume data\n",
    "scaler = MinMaxScaler(feature_range=(0, 1))\n",
    "train_scaled = scaler.fit_transform(train[['volume_byB']])\n",
    "test_scaled = scaler.transform(test[['volume_byB']])"
   ]
  },
  {
   "cell_type": "markdown",
   "id": "3fca3186",
   "metadata": {
    "papermill": {
     "duration": 0.016485,
     "end_time": "2025-01-07T01:39:13.254570",
     "exception": false,
     "start_time": "2025-01-07T01:39:13.238085",
     "status": "completed"
    },
    "tags": []
   },
   "source": [
    "### Processing"
   ]
  },
  {
   "cell_type": "code",
   "execution_count": 15,
   "id": "61c4feef",
   "metadata": {
    "execution": {
     "iopub.execute_input": "2025-01-07T01:39:13.284238Z",
     "iopub.status.busy": "2025-01-07T01:39:13.283897Z",
     "iopub.status.idle": "2025-01-07T01:39:13.293044Z",
     "shell.execute_reply": "2025-01-07T01:39:13.291894Z"
    },
    "papermill": {
     "duration": 0.026415,
     "end_time": "2025-01-07T01:39:13.295311",
     "exception": false,
     "start_time": "2025-01-07T01:39:13.268896",
     "status": "completed"
    },
    "tags": []
   },
   "outputs": [],
   "source": [
    "def create_dataset(data, time_step=1):\n",
    "    X, y = [], []\n",
    "    for i in range(len(data) - time_step - 1):\n",
    "        X.append(data[i:(i + time_step), 0])\n",
    "        y.append(data[i + time_step, 0])\n",
    "    return np.array(X), np.array(y)\n",
    "\n",
    "time_step = 30  # Using the past 30 days to predict the next day\n",
    "X_train, y_train = create_dataset(train_scaled, time_step)\n",
    "X_test, y_test = create_dataset(test_scaled, time_step)\n",
    "\n",
    "X_train = X_train.reshape(X_train.shape[0], X_train.shape[1], 1)\n",
    "X_test = X_test.reshape(X_test.shape[0], X_test.shape[1], 1)"
   ]
  },
  {
   "cell_type": "markdown",
   "id": "170a8baa",
   "metadata": {
    "papermill": {
     "duration": 0.011298,
     "end_time": "2025-01-07T01:39:13.323552",
     "exception": false,
     "start_time": "2025-01-07T01:39:13.312254",
     "status": "completed"
    },
    "tags": []
   },
   "source": [
    "### LSTM Model Building"
   ]
  },
  {
   "cell_type": "code",
   "execution_count": 16,
   "id": "1a8db58b",
   "metadata": {
    "execution": {
     "iopub.execute_input": "2025-01-07T01:39:13.349070Z",
     "iopub.status.busy": "2025-01-07T01:39:13.348575Z",
     "iopub.status.idle": "2025-01-07T01:39:17.359062Z",
     "shell.execute_reply": "2025-01-07T01:39:17.357810Z"
    },
    "papermill": {
     "duration": 4.026505,
     "end_time": "2025-01-07T01:39:17.361654",
     "exception": false,
     "start_time": "2025-01-07T01:39:13.335149",
     "status": "completed"
    },
    "tags": []
   },
   "outputs": [
    {
     "name": "stderr",
     "output_type": "stream",
     "text": [
      "/usr/local/lib/python3.10/dist-packages/keras/src/layers/core/dense.py:87: UserWarning: Do not pass an `input_shape`/`input_dim` argument to a layer. When using Sequential models, prefer using an `Input(shape)` object as the first layer in the model instead.\n",
      "  super().__init__(activity_regularizer=activity_regularizer, **kwargs)\n"
     ]
    },
    {
     "name": "stdout",
     "output_type": "stream",
     "text": [
      "Epoch 1/30\n",
      "\u001b[1m6/6\u001b[0m \u001b[32m━━━━━━━━━━━━━━━━━━━━\u001b[0m\u001b[37m\u001b[0m \u001b[1m1s\u001b[0m 36ms/step - loss: 0.0352 - val_loss: 0.0032\n",
      "Epoch 2/30\n",
      "\u001b[1m6/6\u001b[0m \u001b[32m━━━━━━━━━━━━━━━━━━━━\u001b[0m\u001b[37m\u001b[0m \u001b[1m0s\u001b[0m 7ms/step - loss: 0.0170 - val_loss: 0.0031\n",
      "Epoch 3/30\n",
      "\u001b[1m6/6\u001b[0m \u001b[32m━━━━━━━━━━━━━━━━━━━━\u001b[0m\u001b[37m\u001b[0m \u001b[1m0s\u001b[0m 7ms/step - loss: 0.0145 - val_loss: 0.0037\n",
      "Epoch 4/30\n",
      "\u001b[1m6/6\u001b[0m \u001b[32m━━━━━━━━━━━━━━━━━━━━\u001b[0m\u001b[37m\u001b[0m \u001b[1m0s\u001b[0m 8ms/step - loss: 0.0126 - val_loss: 0.0034\n",
      "Epoch 5/30\n",
      "\u001b[1m6/6\u001b[0m \u001b[32m━━━━━━━━━━━━━━━━━━━━\u001b[0m\u001b[37m\u001b[0m \u001b[1m0s\u001b[0m 7ms/step - loss: 0.0157 - val_loss: 0.0035\n",
      "Epoch 6/30\n",
      "\u001b[1m6/6\u001b[0m \u001b[32m━━━━━━━━━━━━━━━━━━━━\u001b[0m\u001b[37m\u001b[0m \u001b[1m0s\u001b[0m 8ms/step - loss: 0.0105 - val_loss: 0.0033\n",
      "Epoch 7/30\n",
      "\u001b[1m6/6\u001b[0m \u001b[32m━━━━━━━━━━━━━━━━━━━━\u001b[0m\u001b[37m\u001b[0m \u001b[1m0s\u001b[0m 8ms/step - loss: 0.0109 - val_loss: 0.0034\n",
      "Epoch 8/30\n",
      "\u001b[1m6/6\u001b[0m \u001b[32m━━━━━━━━━━━━━━━━━━━━\u001b[0m\u001b[37m\u001b[0m \u001b[1m0s\u001b[0m 8ms/step - loss: 0.0113 - val_loss: 0.0033\n",
      "Epoch 9/30\n",
      "\u001b[1m6/6\u001b[0m \u001b[32m━━━━━━━━━━━━━━━━━━━━\u001b[0m\u001b[37m\u001b[0m \u001b[1m0s\u001b[0m 7ms/step - loss: 0.0097 - val_loss: 0.0035\n",
      "Epoch 10/30\n",
      "\u001b[1m6/6\u001b[0m \u001b[32m━━━━━━━━━━━━━━━━━━━━\u001b[0m\u001b[37m\u001b[0m \u001b[1m0s\u001b[0m 8ms/step - loss: 0.0095 - val_loss: 0.0034\n",
      "Epoch 11/30\n",
      "\u001b[1m6/6\u001b[0m \u001b[32m━━━━━━━━━━━━━━━━━━━━\u001b[0m\u001b[37m\u001b[0m \u001b[1m0s\u001b[0m 10ms/step - loss: 0.0109 - val_loss: 0.0029\n",
      "Epoch 12/30\n",
      "\u001b[1m6/6\u001b[0m \u001b[32m━━━━━━━━━━━━━━━━━━━━\u001b[0m\u001b[37m\u001b[0m \u001b[1m0s\u001b[0m 8ms/step - loss: 0.0103 - val_loss: 0.0040\n",
      "Epoch 13/30\n",
      "\u001b[1m6/6\u001b[0m \u001b[32m━━━━━━━━━━━━━━━━━━━━\u001b[0m\u001b[37m\u001b[0m \u001b[1m0s\u001b[0m 9ms/step - loss: 0.0090 - val_loss: 0.0031\n",
      "Epoch 14/30\n",
      "\u001b[1m6/6\u001b[0m \u001b[32m━━━━━━━━━━━━━━━━━━━━\u001b[0m\u001b[37m\u001b[0m \u001b[1m0s\u001b[0m 10ms/step - loss: 0.0083 - val_loss: 0.0035\n",
      "Epoch 15/30\n",
      "\u001b[1m6/6\u001b[0m \u001b[32m━━━━━━━━━━━━━━━━━━━━\u001b[0m\u001b[37m\u001b[0m \u001b[1m0s\u001b[0m 8ms/step - loss: 0.0087 - val_loss: 0.0037\n",
      "Epoch 16/30\n",
      "\u001b[1m6/6\u001b[0m \u001b[32m━━━━━━━━━━━━━━━━━━━━\u001b[0m\u001b[37m\u001b[0m \u001b[1m0s\u001b[0m 8ms/step - loss: 0.0073 - val_loss: 0.0041\n",
      "Epoch 17/30\n",
      "\u001b[1m6/6\u001b[0m \u001b[32m━━━━━━━━━━━━━━━━━━━━\u001b[0m\u001b[37m\u001b[0m \u001b[1m0s\u001b[0m 8ms/step - loss: 0.0080 - val_loss: 0.0035\n",
      "Epoch 18/30\n",
      "\u001b[1m6/6\u001b[0m \u001b[32m━━━━━━━━━━━━━━━━━━━━\u001b[0m\u001b[37m\u001b[0m \u001b[1m0s\u001b[0m 8ms/step - loss: 0.0094 - val_loss: 0.0036\n",
      "Epoch 19/30\n",
      "\u001b[1m6/6\u001b[0m \u001b[32m━━━━━━━━━━━━━━━━━━━━\u001b[0m\u001b[37m\u001b[0m \u001b[1m0s\u001b[0m 8ms/step - loss: 0.0075 - val_loss: 0.0038\n",
      "Epoch 20/30\n",
      "\u001b[1m6/6\u001b[0m \u001b[32m━━━━━━━━━━━━━━━━━━━━\u001b[0m\u001b[37m\u001b[0m \u001b[1m0s\u001b[0m 8ms/step - loss: 0.0062 - val_loss: 0.0043\n",
      "Epoch 21/30\n",
      "\u001b[1m6/6\u001b[0m \u001b[32m━━━━━━━━━━━━━━━━━━━━\u001b[0m\u001b[37m\u001b[0m \u001b[1m0s\u001b[0m 8ms/step - loss: 0.0071 - val_loss: 0.0035\n",
      "Epoch 22/30\n",
      "\u001b[1m6/6\u001b[0m \u001b[32m━━━━━━━━━━━━━━━━━━━━\u001b[0m\u001b[37m\u001b[0m \u001b[1m0s\u001b[0m 8ms/step - loss: 0.0075 - val_loss: 0.0045\n",
      "Epoch 23/30\n",
      "\u001b[1m6/6\u001b[0m \u001b[32m━━━━━━━━━━━━━━━━━━━━\u001b[0m\u001b[37m\u001b[0m \u001b[1m0s\u001b[0m 9ms/step - loss: 0.0083 - val_loss: 0.0031\n",
      "Epoch 24/30\n",
      "\u001b[1m6/6\u001b[0m \u001b[32m━━━━━━━━━━━━━━━━━━━━\u001b[0m\u001b[37m\u001b[0m \u001b[1m0s\u001b[0m 7ms/step - loss: 0.0054 - val_loss: 0.0039\n",
      "Epoch 25/30\n",
      "\u001b[1m6/6\u001b[0m \u001b[32m━━━━━━━━━━━━━━━━━━━━\u001b[0m\u001b[37m\u001b[0m \u001b[1m0s\u001b[0m 7ms/step - loss: 0.0077 - val_loss: 0.0032\n",
      "Epoch 26/30\n",
      "\u001b[1m6/6\u001b[0m \u001b[32m━━━━━━━━━━━━━━━━━━━━\u001b[0m\u001b[37m\u001b[0m \u001b[1m0s\u001b[0m 8ms/step - loss: 0.0060 - val_loss: 0.0038\n",
      "Epoch 27/30\n",
      "\u001b[1m6/6\u001b[0m \u001b[32m━━━━━━━━━━━━━━━━━━━━\u001b[0m\u001b[37m\u001b[0m \u001b[1m0s\u001b[0m 8ms/step - loss: 0.0065 - val_loss: 0.0053\n",
      "Epoch 28/30\n",
      "\u001b[1m6/6\u001b[0m \u001b[32m━━━━━━━━━━━━━━━━━━━━\u001b[0m\u001b[37m\u001b[0m \u001b[1m0s\u001b[0m 8ms/step - loss: 0.0092 - val_loss: 0.0031\n",
      "Epoch 29/30\n",
      "\u001b[1m6/6\u001b[0m \u001b[32m━━━━━━━━━━━━━━━━━━━━\u001b[0m\u001b[37m\u001b[0m \u001b[1m0s\u001b[0m 8ms/step - loss: 0.0087 - val_loss: 0.0036\n",
      "Epoch 30/30\n",
      "\u001b[1m6/6\u001b[0m \u001b[32m━━━━━━━━━━━━━━━━━━━━\u001b[0m\u001b[37m\u001b[0m \u001b[1m0s\u001b[0m 7ms/step - loss: 0.0054 - val_loss: 0.0037\n"
     ]
    }
   ],
   "source": [
    "# # Simplifying the model if overfitting\n",
    "# model = Sequential()\n",
    "# model.add(LSTM(32, input_shape=(X_train.shape[1], 1)))  # Reduced number of units\n",
    "# model.add(Dense(1))\n",
    "\n",
    "# model.compile(optimizer='adam', loss='mean_squared_error')\n",
    "\n",
    "# Or, enhancing the model if underfitting\n",
    "model = Sequential([\n",
    "    Dense(128, activation='relu', input_shape=(X_train.shape[1],)),\n",
    "    Dense(128, activation='relu'),\n",
    "    Dense(1)\n",
    "])\n",
    "\n",
    "# Example of increasing epochs and adjusting learning rate\n",
    "from tensorflow.keras.optimizers import Adam\n",
    "\n",
    "optimizer = Adam(learning_rate=0.001)\n",
    "model.compile(optimizer=optimizer, loss='mean_squared_error')\n",
    "history = model.fit(X_train, y_train, epochs=30, batch_size=32, validation_data=(X_test, y_test))\n",
    "\n",
    "\n",
    "model.compile(optimizer='adam', loss='mean_squared_error')\n"
   ]
  },
  {
   "cell_type": "markdown",
   "id": "9db7bba3",
   "metadata": {
    "papermill": {
     "duration": 0.017228,
     "end_time": "2025-01-07T01:39:17.396020",
     "exception": false,
     "start_time": "2025-01-07T01:39:17.378792",
     "status": "completed"
    },
    "tags": []
   },
   "source": [
    "### Train LSTM"
   ]
  },
  {
   "cell_type": "code",
   "execution_count": 17,
   "id": "25756d84",
   "metadata": {
    "execution": {
     "iopub.execute_input": "2025-01-07T01:39:17.429543Z",
     "iopub.status.busy": "2025-01-07T01:39:17.429139Z",
     "iopub.status.idle": "2025-01-07T01:39:17.433274Z",
     "shell.execute_reply": "2025-01-07T01:39:17.432189Z"
    },
    "papermill": {
     "duration": 0.024006,
     "end_time": "2025-01-07T01:39:17.435596",
     "exception": false,
     "start_time": "2025-01-07T01:39:17.411590",
     "status": "completed"
    },
    "tags": []
   },
   "outputs": [],
   "source": [
    "#Early Stopping\n",
    "#Use early stopping to halt the training process once the model performance stops improving on the validation data.\n",
    "\n",
    "# from tensorflow.keras.callbacks import EarlyStopping\n",
    "\n",
    "# # Setup early stopping\n",
    "# early_stop = EarlyStopping(monitor='val_loss', patience=10, restore_best_weights=True)\n",
    "\n",
    "# # Fit the model with early stopping\n",
    "# history = model.fit(X_train, y_train, epochs=100, batch_size=32, \n",
    "#                     validation_data=(X_test, y_test), callbacks=[early_stop], verbose=1)\n"
   ]
  },
  {
   "cell_type": "markdown",
   "id": "f9eb1caf",
   "metadata": {
    "papermill": {
     "duration": 0.015236,
     "end_time": "2025-01-07T01:39:17.466975",
     "exception": false,
     "start_time": "2025-01-07T01:39:17.451739",
     "status": "completed"
    },
    "tags": []
   },
   "source": [
    "Overfitting: The training loss decreases continuously, while the validation loss decreases initially but then increases.\n",
    "Underfitting: Both training and validation losses are high, and they decrease very slowly or plateau early."
   ]
  },
  {
   "cell_type": "code",
   "execution_count": 18,
   "id": "68f6c964",
   "metadata": {
    "execution": {
     "iopub.execute_input": "2025-01-07T01:39:17.499700Z",
     "iopub.status.busy": "2025-01-07T01:39:17.499265Z",
     "iopub.status.idle": "2025-01-07T01:39:17.800221Z",
     "shell.execute_reply": "2025-01-07T01:39:17.798791Z"
    },
    "papermill": {
     "duration": 0.320199,
     "end_time": "2025-01-07T01:39:17.802610",
     "exception": false,
     "start_time": "2025-01-07T01:39:17.482411",
     "status": "completed"
    },
    "tags": []
   },
   "outputs": [
    {
     "data": {
      "image/png": "[encoded data removed]",
      "text/plain": [
       "<Figure size 1000x500 with 1 Axes>"
      ]
     },
     "metadata": {},
     "output_type": "display_data"
    }
   ],
   "source": [
    "import matplotlib.pyplot as plt\n",
    "\n",
    "# Plot training & validation loss values\n",
    "plt.figure(figsize=(10, 5))\n",
    "plt.plot(history.history['loss'], label='Train Loss')\n",
    "if 'val_loss' in history.history:\n",
    "    plt.plot(history.history['val_loss'], label='Validation Loss')\n",
    "plt.title('Model Loss Progress During Training')\n",
    "plt.ylabel('Loss')\n",
    "plt.xlabel('Epoch')\n",
    "plt.legend(['Train', 'Validation'], loc='upper right')\n",
    "plt.show()\n"
   ]
  },
  {
   "cell_type": "markdown",
   "id": "44162117",
   "metadata": {
    "papermill": {
     "duration": 0.018515,
     "end_time": "2025-01-07T01:39:17.838836",
     "exception": false,
     "start_time": "2025-01-07T01:39:17.820321",
     "status": "completed"
    },
    "tags": []
   },
   "source": [
    "When the training and validation loss functions are far apart and not reducing, it usually indicates an issue with the model, such as overfitting or underfitting. Overfitting happens when your model learns the details and noise in the training data to an extent that it negatively impacts the performance of the model on new data (i.e., the validation data). Underfitting occurs when the model is too simple to learn the underlying pattern of the data.\n",
    "\n",
    "Reasons for Overfitting or Underfitting\n",
    "Overfitting:\n",
    "The model is too complex with too many parameters.\n",
    "Insufficient amount of training data.\n",
    "Too many training epochs leading to learning detailed noise in the training dataset.\n",
    "Underfitting:\n",
    "The model is too simple to capture the underlying trend of the data.\n",
    "Insufficient training epochs.\n",
    "Poor choice of model hyperparameters."
   ]
  },
  {
   "cell_type": "markdown",
   "id": "eaf89de4",
   "metadata": {
    "papermill": {
     "duration": 0.01694,
     "end_time": "2025-01-07T01:39:17.874184",
     "exception": false,
     "start_time": "2025-01-07T01:39:17.857244",
     "status": "completed"
    },
    "tags": []
   },
   "source": [
    "### Model Metrics Evaluation"
   ]
  },
  {
   "cell_type": "code",
   "execution_count": 19,
   "id": "037d0c05",
   "metadata": {
    "execution": {
     "iopub.execute_input": "2025-01-07T01:39:17.909135Z",
     "iopub.status.busy": "2025-01-07T01:39:17.908759Z",
     "iopub.status.idle": "2025-01-07T01:39:18.026042Z",
     "shell.execute_reply": "2025-01-07T01:39:18.024413Z"
    },
    "papermill": {
     "duration": 0.137152,
     "end_time": "2025-01-07T01:39:18.027973",
     "exception": false,
     "start_time": "2025-01-07T01:39:17.890821",
     "status": "completed"
    },
    "tags": []
   },
   "outputs": [
    {
     "name": "stdout",
     "output_type": "stream",
     "text": [
      "\u001b[1m1/1\u001b[0m \u001b[32m━━━━━━━━━━━━━━━━━━━━\u001b[0m\u001b[37m\u001b[0m \u001b[1m0s\u001b[0m 56ms/step\n",
      "Root Mean Square Error (RMSE): 0.06700067440900866\n",
      "Mean Absolute Percentage Error (MAPE): 31.294861091915333\n"
     ]
    }
   ],
   "source": [
    "from sklearn.metrics import mean_squared_error\n",
    "\n",
    "def calculate_mape(actual, predicted):\n",
    "    actual, predicted = np.array(actual), np.array(predicted)\n",
    "    return np.mean(np.abs((actual - predicted) / actual)) * 100\n",
    "\n",
    "# Making predictions on test data\n",
    "predicted_volume = model.predict(X_test)\n",
    "predicted_volume = scaler.inverse_transform(predicted_volume)\n",
    "\n",
    "rmse = np.sqrt(mean_squared_error(test['volume_byB'][time_step + 1:], predicted_volume))\n",
    "print(\"Root Mean Square Error (RMSE):\", rmse)\n",
    "\n",
    "mape = calculate_mape(test['volume_byB'][time_step + 1:], predicted_volume)\n",
    "print(\"Mean Absolute Percentage Error (MAPE):\", mape)"
   ]
  },
  {
   "cell_type": "markdown",
   "id": "561aa49f",
   "metadata": {
    "papermill": {
     "duration": 0.016242,
     "end_time": "2025-01-07T01:39:18.060807",
     "exception": false,
     "start_time": "2025-01-07T01:39:18.044565",
     "status": "completed"
    },
    "tags": []
   },
   "source": [
    "Interpretation: An RMSE value of 0.073 means that, on average, the model’s predictions deviate from the actual values by 0.073 units on the scale of the target variable. **The lower the RMSE, the better, as it indicates smaller residuals (errors between observed and predicted values)**. The absolute value should be compared against the range or distribution of the target variables to assess its impact. If your target variable ranges over a wide scale (say 0 to 1 or more), an RMSE of 0.073 could be quite good.\n",
    "\n",
    "Interpretation: A MAPE of 34.66% suggests that the model predictions deviate from the actual values by an average of 34.66% per data point. **High MAPE values indicate less accurate models**. This metric is particularly useful when you want to know how big the error is relative to the size of the numbers in your data. A 34.66% MAPE can be considered high for many applications, indicating that there might be significant errors in some of the model’s predictions or that the model may not perform consistently across the data range."
   ]
  },
  {
   "cell_type": "code",
   "execution_count": 20,
   "id": "0de4ca6c",
   "metadata": {
    "execution": {
     "iopub.execute_input": "2025-01-07T01:39:18.096415Z",
     "iopub.status.busy": "2025-01-07T01:39:18.096003Z",
     "iopub.status.idle": "2025-01-07T01:39:18.306074Z",
     "shell.execute_reply": "2025-01-07T01:39:18.304595Z"
    },
    "papermill": {
     "duration": 0.230453,
     "end_time": "2025-01-07T01:39:18.308125",
     "exception": false,
     "start_time": "2025-01-07T01:39:18.077672",
     "status": "completed"
    },
    "tags": []
   },
   "outputs": [
    {
     "name": "stdout",
     "output_type": "stream",
     "text": [
      "\u001b[1m6/6\u001b[0m \u001b[32m━━━━━━━━━━━━━━━━━━━━\u001b[0m\u001b[37m\u001b[0m \u001b[1m0s\u001b[0m 2ms/step \n",
      "\u001b[1m1/1\u001b[0m \u001b[32m━━━━━━━━━━━━━━━━━━━━\u001b[0m\u001b[37m\u001b[0m \u001b[1m0s\u001b[0m 20ms/step\n",
      "Train Score: 0.07 RMSE\n",
      "Test Score: 0.06 RMSE\n"
     ]
    }
   ],
   "source": [
    "# Making predictions\n",
    "train_predict = model.predict(X_train)\n",
    "test_predict = model.predict(X_test)\n",
    "\n",
    "# Invert predictions\n",
    "train_predict = scaler.inverse_transform(train_predict)\n",
    "Y_train_inv = scaler.inverse_transform([y_train])\n",
    "test_predict = scaler.inverse_transform(test_predict)\n",
    "Y_test_inv = scaler.inverse_transform([y_test])\n",
    "\n",
    "# Calculate RMSE\n",
    "from sklearn.metrics import mean_squared_error\n",
    "trainScore = np.sqrt(mean_squared_error(Y_train_inv[0], train_predict[:,0]))\n",
    "print(f'Train Score: {trainScore:.2f} RMSE')\n",
    "testScore = np.sqrt(mean_squared_error(Y_test_inv[0], test_predict[:,0]))\n",
    "print(f'Test Score: {testScore:.2f} RMSE')"
   ]
  },
  {
   "cell_type": "markdown",
   "id": "12667a9a",
   "metadata": {
    "papermill": {
     "duration": 0.015772,
     "end_time": "2025-01-07T01:39:18.340804",
     "exception": false,
     "start_time": "2025-01-07T01:39:18.325032",
     "status": "completed"
    },
    "tags": []
   },
   "source": [
    "Interpretation of the Results:\n",
    "\n",
    "Train Score: 0.06 RMSE - This score indicates that, on average, the model's predictions on the training data deviate from the actual observed values by 0.06. This suggests that the model fits the training data quite well, assuming the scale of the data is such that a difference of 0.06 is small.\n",
    "\n",
    "Test Score: 0.06 RMSE - This score shows that the model also performs similarly on the test data, with the average deviation of the predictions from the actual values being 0.06. This is particularly important as it suggests that the model generalizes well to new, unseen data, maintaining the same level of performance as observed in the training phase."
   ]
  },
  {
   "cell_type": "markdown",
   "id": "67eca04f",
   "metadata": {
    "papermill": {
     "duration": 0.01571,
     "end_time": "2025-01-07T01:39:18.372946",
     "exception": false,
     "start_time": "2025-01-07T01:39:18.357236",
     "status": "completed"
    },
    "tags": []
   },
   "source": [
    "Overfitting would be indicated by a low training RMSE and a much higher test RMSE."
   ]
  },
  {
   "cell_type": "code",
   "execution_count": 21,
   "id": "fc16efba",
   "metadata": {
    "execution": {
     "iopub.execute_input": "2025-01-07T01:39:18.407673Z",
     "iopub.status.busy": "2025-01-07T01:39:18.407190Z",
     "iopub.status.idle": "2025-01-07T01:39:18.771002Z",
     "shell.execute_reply": "2025-01-07T01:39:18.769897Z"
    },
    "papermill": {
     "duration": 0.3842,
     "end_time": "2025-01-07T01:39:18.773123",
     "exception": false,
     "start_time": "2025-01-07T01:39:18.388923",
     "status": "completed"
    },
    "tags": []
   },
   "outputs": [
    {
     "data": {
      "image/png": "[encoded data removed]",
      "text/plain": [
       "<Figure size 1200x600 with 1 Axes>"
      ]
     },
     "metadata": {},
     "output_type": "display_data"
    }
   ],
   "source": [
    "# Plotting the results\n",
    "plt.figure(figsize=(12, 6))\n",
    "plt.plot(test['date'][time_step + 1:], predicted_volume, color='red', label='Predicted Volume')\n",
    "plt.plot(test['date'][time_step + 1:], test['volume_byB'][time_step + 1:], color='blue', label='Actual Volume')\n",
    "plt.title('NVIDIA Stock Trading Volume Prediction')\n",
    "plt.xlabel('Date')\n",
    "plt.ylabel('Volume (in Billions)')\n",
    "plt.legend()\n",
    "plt.show()"
   ]
  },
  {
   "cell_type": "code",
   "execution_count": null,
   "id": "550c15ef",
   "metadata": {
    "papermill": {
     "duration": 0.019712,
     "end_time": "2025-01-07T01:39:18.813498",
     "exception": false,
     "start_time": "2025-01-07T01:39:18.793786",
     "status": "completed"
    },
    "tags": []
   },
   "outputs": [],
   "source": []
  }
 ],
 "metadata": {
  "kaggle": {
   "accelerator": "none",
   "dataSources": [
    {
     "datasetId": 6374997,
     "sourceId": 10299577,
     "sourceType": "datasetVersion"
    }
   ],
   "dockerImageVersionId": 30822,
   "isGpuEnabled": false,
   "isInternetEnabled": true,
   "language": "python",
   "sourceType": "notebook"
  },
  "kernelspec": {
   "display_name": "Python 3",
   "language": "python",
   "name": "python3"
  },
  "language_info": {
   "codemirror_mode": {
    "name": "ipython",
    "version": 3
   },
   "file_extension": ".py",
   "mimetype": "text/x-python",
   "name": "python",
   "nbconvert_exporter": "python",
   "pygments_lexer": "ipython3",
   "version": "3.10.12"
  },
  "papermill": {
   "default_parameters": {},
   "duration": 23.423208,
   "end_time": "2025-01-07T01:39:21.060918",
   "environment_variables": {},
   "exception": null,
   "input_path": "__notebook__.ipynb",
   "output_path": "__notebook__.ipynb",
   "parameters": {},
   "start_time": "2025-01-07T01:38:57.637710",
   "version": "2.6.0"
  }
 },
 "nbformat": 4,
 "nbformat_minor": 5
}
