{
 "cells": [
  {
   "cell_type": "markdown",
   "id": "a5df8ab6",
   "metadata": {
    "papermill": {
     "duration": 0.007238,
     "end_time": "2025-01-07T01:39:28.175650",
     "exception": false,
     "start_time": "2025-01-07T01:39:28.168412",
     "status": "completed"
    },
    "tags": []
   },
   "source": [
    "# LSTM Time Series Modeling NVIDIA 2024 Stocks Using TensorFlow:"
   ]
  },
  {
   "cell_type": "code",
   "execution_count": 1,
   "id": "f05d91be",
   "metadata": {
    "execution": {
     "iopub.execute_input": "2025-01-07T01:39:28.189770Z",
     "iopub.status.busy": "2025-01-07T01:39:28.189382Z",
     "iopub.status.idle": "2025-01-07T01:39:40.274722Z",
     "shell.execute_reply": "2025-01-07T01:39:40.273360Z"
    },
    "papermill": {
     "duration": 12.094847,
     "end_time": "2025-01-07T01:39:40.277051",
     "exception": false,
     "start_time": "2025-01-07T01:39:28.182204",
     "status": "completed"
    },
    "tags": []
   },
   "outputs": [],
   "source": [
    "import pandas as pd\n",
    "import numpy as np\n",
    "from sklearn.preprocessing import MinMaxScaler\n",
    "from sklearn.model_selection import train_test_split\n",
    "from tensorflow.keras.models import Sequential\n",
    "from tensorflow.keras.layers import LSTM, Dense, Dropout\n",
    "import matplotlib.pyplot as plt"
   ]
  },
  {
   "cell_type": "code",
   "execution_count": 2,
   "id": "94853848",
   "metadata": {
    "_cell_guid": "b1076dfc-b9ad-4769-8c92-a6c4dae69d19",
    "_uuid": "8f2839f25d086af736a60e9eeb907d3b93b6e0e5",
    "execution": {
     "iopub.execute_input": "2025-01-07T01:39:40.293366Z",
     "iopub.status.busy": "2025-01-07T01:39:40.292609Z",
     "iopub.status.idle": "2025-01-07T01:39:40.301937Z",
     "shell.execute_reply": "2025-01-07T01:39:40.300316Z"
    },
    "papermill": {
     "duration": 0.019983,
     "end_time": "2025-01-07T01:39:40.304279",
     "exception": false,
     "start_time": "2025-01-07T01:39:40.284296",
     "status": "completed"
    },
    "tags": []
   },
   "outputs": [
    {
     "name": "stdout",
     "output_type": "stream",
     "text": [
      "/kaggle/input/nvidia-corporation-2024-stock-market-dataset/NVIDIA 2024 Stock Market Data.csv\n"
     ]
    }
   ],
   "source": [
    "import os\n",
    "for dirname, _, filenames in os.walk('/kaggle/input'):\n",
    "    for filename in filenames:\n",
    "        print(os.path.join(dirname, filename))\n",
    "\n",
    "# You can write up to 20GB to the current directory (/kaggle/working/) that gets preserved as output when you create a version using \"Save & Run All\" \n",
    "# You can also write temporary files to /kaggle/temp/, but they won't be saved outside of the current session"
   ]
  },
  {
   "cell_type": "code",
   "execution_count": 3,
   "id": "c300c5d2",
   "metadata": {
    "execution": {
     "iopub.execute_input": "2025-01-07T01:39:40.319744Z",
     "iopub.status.busy": "2025-01-07T01:39:40.319389Z",
     "iopub.status.idle": "2025-01-07T01:39:40.355773Z",
     "shell.execute_reply": "2025-01-07T01:39:40.354389Z"
    },
    "papermill": {
     "duration": 0.046133,
     "end_time": "2025-01-07T01:39:40.357843",
     "exception": false,
     "start_time": "2025-01-07T01:39:40.311710",
     "status": "completed"
    },
    "tags": []
   },
   "outputs": [
    {
     "data": {
      "text/html": [
       "<div>\n",
       "<style scoped>\n",
       "    .dataframe tbody tr th:only-of-type {\n",
       "        vertical-align: middle;\n",
       "    }\n",
       "\n",
       "    .dataframe tbody tr th {\n",
       "        vertical-align: top;\n",
       "    }\n",
       "\n",
       "    .dataframe thead th {\n",
       "        text-align: right;\n",
       "    }\n",
       "</style>\n",
       "<table border=\"1\" class=\"dataframe\">\n",
       "  <thead>\n",
       "    <tr style=\"text-align: right;\">\n",
       "      <th></th>\n",
       "      <th>Date</th>\n",
       "      <th>Close</th>\n",
       "      <th>Open</th>\n",
       "      <th>High</th>\n",
       "      <th>Low</th>\n",
       "      <th>Volume</th>\n",
       "    </tr>\n",
       "  </thead>\n",
       "  <tbody>\n",
       "    <tr>\n",
       "      <th>0</th>\n",
       "      <td>1/2/24</td>\n",
       "      <td>$48.17</td>\n",
       "      <td>$49.24</td>\n",
       "      <td>$49.30</td>\n",
       "      <td>$47.60</td>\n",
       "      <td>411,254,220</td>\n",
       "    </tr>\n",
       "    <tr>\n",
       "      <th>1</th>\n",
       "      <td>1/3/24</td>\n",
       "      <td>$47.57</td>\n",
       "      <td>$47.49</td>\n",
       "      <td>$48.18</td>\n",
       "      <td>$47.32</td>\n",
       "      <td>320,896,170</td>\n",
       "    </tr>\n",
       "    <tr>\n",
       "      <th>2</th>\n",
       "      <td>1/4/24</td>\n",
       "      <td>$48.00</td>\n",
       "      <td>$47.77</td>\n",
       "      <td>$48.50</td>\n",
       "      <td>$47.51</td>\n",
       "      <td>306,534,890</td>\n",
       "    </tr>\n",
       "    <tr>\n",
       "      <th>3</th>\n",
       "      <td>1/5/24</td>\n",
       "      <td>$49.10</td>\n",
       "      <td>$48.46</td>\n",
       "      <td>$49.55</td>\n",
       "      <td>$48.31</td>\n",
       "      <td>415,039,270</td>\n",
       "    </tr>\n",
       "    <tr>\n",
       "      <th>4</th>\n",
       "      <td>1/8/24</td>\n",
       "      <td>$52.25</td>\n",
       "      <td>$49.51</td>\n",
       "      <td>$52.28</td>\n",
       "      <td>$49.48</td>\n",
       "      <td>642,509,900</td>\n",
       "    </tr>\n",
       "    <tr>\n",
       "      <th>...</th>\n",
       "      <td>...</td>\n",
       "      <td>...</td>\n",
       "      <td>...</td>\n",
       "      <td>...</td>\n",
       "      <td>...</td>\n",
       "      <td>...</td>\n",
       "    </tr>\n",
       "    <tr>\n",
       "      <th>243</th>\n",
       "      <td>12/18/24</td>\n",
       "      <td>$128.91</td>\n",
       "      <td>$133.86</td>\n",
       "      <td>$136.70</td>\n",
       "      <td>$128.28</td>\n",
       "      <td>277,444,533</td>\n",
       "    </tr>\n",
       "    <tr>\n",
       "      <th>244</th>\n",
       "      <td>12/19/24</td>\n",
       "      <td>$130.68</td>\n",
       "      <td>$131.76</td>\n",
       "      <td>$134.03</td>\n",
       "      <td>$129.55</td>\n",
       "      <td>209,719,210</td>\n",
       "    </tr>\n",
       "    <tr>\n",
       "      <th>245</th>\n",
       "      <td>12/20/24</td>\n",
       "      <td>$134.70</td>\n",
       "      <td>$129.81</td>\n",
       "      <td>$135.28</td>\n",
       "      <td>$128.22</td>\n",
       "      <td>306,528,553</td>\n",
       "    </tr>\n",
       "    <tr>\n",
       "      <th>246</th>\n",
       "      <td>12/23/24</td>\n",
       "      <td>$139.67</td>\n",
       "      <td>$136.28</td>\n",
       "      <td>$139.79</td>\n",
       "      <td>$135.12</td>\n",
       "      <td>176,053,506</td>\n",
       "    </tr>\n",
       "    <tr>\n",
       "      <th>247</th>\n",
       "      <td>12/24/24</td>\n",
       "      <td>$140.22</td>\n",
       "      <td>$140.00</td>\n",
       "      <td>$141.90</td>\n",
       "      <td>$138.65</td>\n",
       "      <td>105,156,989</td>\n",
       "    </tr>\n",
       "  </tbody>\n",
       "</table>\n",
       "<p>248 rows × 6 columns</p>\n",
       "</div>"
      ],
      "text/plain": [
       "         Date      Close       Open       High        Low       Volume\n",
       "0      1/2/24    $48.17     $49.24     $49.30     $47.60   411,254,220\n",
       "1      1/3/24    $47.57     $47.49     $48.18     $47.32   320,896,170\n",
       "2      1/4/24    $48.00     $47.77     $48.50     $47.51   306,534,890\n",
       "3      1/5/24    $49.10     $48.46     $49.55     $48.31   415,039,270\n",
       "4      1/8/24    $52.25     $49.51     $52.28     $49.48   642,509,900\n",
       "..        ...        ...        ...        ...        ...          ...\n",
       "243  12/18/24   $128.91    $133.86    $136.70    $128.28   277,444,533\n",
       "244  12/19/24   $130.68    $131.76    $134.03    $129.55   209,719,210\n",
       "245  12/20/24   $134.70    $129.81    $135.28    $128.22   306,528,553\n",
       "246  12/23/24   $139.67    $136.28    $139.79    $135.12   176,053,506\n",
       "247  12/24/24   $140.22    $140.00    $141.90    $138.65   105,156,989\n",
       "\n",
       "[248 rows x 6 columns]"
      ]
     },
     "execution_count": 3,
     "metadata": {},
     "output_type": "execute_result"
    }
   ],
   "source": [
    "nvidia_stock = pd.read_csv(\"/kaggle/input/nvidia-corporation-2024-stock-market-dataset/NVIDIA 2024 Stock Market Data.csv\")\n",
    "nvidia_stock"
   ]
  },
  {
   "cell_type": "code",
   "execution_count": 4,
   "id": "2cae091e",
   "metadata": {
    "execution": {
     "iopub.execute_input": "2025-01-07T01:39:40.373786Z",
     "iopub.status.busy": "2025-01-07T01:39:40.373356Z",
     "iopub.status.idle": "2025-01-07T01:39:40.390788Z",
     "shell.execute_reply": "2025-01-07T01:39:40.389250Z"
    },
    "papermill": {
     "duration": 0.027573,
     "end_time": "2025-01-07T01:39:40.392914",
     "exception": false,
     "start_time": "2025-01-07T01:39:40.365341",
     "status": "completed"
    },
    "tags": []
   },
   "outputs": [
    {
     "data": {
      "text/html": [
       "<div>\n",
       "<style scoped>\n",
       "    .dataframe tbody tr th:only-of-type {\n",
       "        vertical-align: middle;\n",
       "    }\n",
       "\n",
       "    .dataframe tbody tr th {\n",
       "        vertical-align: top;\n",
       "    }\n",
       "\n",
       "    .dataframe thead th {\n",
       "        text-align: right;\n",
       "    }\n",
       "</style>\n",
       "<table border=\"1\" class=\"dataframe\">\n",
       "  <thead>\n",
       "    <tr style=\"text-align: right;\">\n",
       "      <th></th>\n",
       "      <th>date</th>\n",
       "      <th>close</th>\n",
       "      <th>open</th>\n",
       "      <th>high</th>\n",
       "      <th>low</th>\n",
       "      <th>volume</th>\n",
       "    </tr>\n",
       "  </thead>\n",
       "  <tbody>\n",
       "    <tr>\n",
       "      <th>0</th>\n",
       "      <td>1/2/24</td>\n",
       "      <td>$48.17</td>\n",
       "      <td>$49.24</td>\n",
       "      <td>$49.30</td>\n",
       "      <td>$47.60</td>\n",
       "      <td>411,254,220</td>\n",
       "    </tr>\n",
       "    <tr>\n",
       "      <th>1</th>\n",
       "      <td>1/3/24</td>\n",
       "      <td>$47.57</td>\n",
       "      <td>$47.49</td>\n",
       "      <td>$48.18</td>\n",
       "      <td>$47.32</td>\n",
       "      <td>320,896,170</td>\n",
       "    </tr>\n",
       "    <tr>\n",
       "      <th>2</th>\n",
       "      <td>1/4/24</td>\n",
       "      <td>$48.00</td>\n",
       "      <td>$47.77</td>\n",
       "      <td>$48.50</td>\n",
       "      <td>$47.51</td>\n",
       "      <td>306,534,890</td>\n",
       "    </tr>\n",
       "    <tr>\n",
       "      <th>3</th>\n",
       "      <td>1/5/24</td>\n",
       "      <td>$49.10</td>\n",
       "      <td>$48.46</td>\n",
       "      <td>$49.55</td>\n",
       "      <td>$48.31</td>\n",
       "      <td>415,039,270</td>\n",
       "    </tr>\n",
       "    <tr>\n",
       "      <th>4</th>\n",
       "      <td>1/8/24</td>\n",
       "      <td>$52.25</td>\n",
       "      <td>$49.51</td>\n",
       "      <td>$52.28</td>\n",
       "      <td>$49.48</td>\n",
       "      <td>642,509,900</td>\n",
       "    </tr>\n",
       "    <tr>\n",
       "      <th>...</th>\n",
       "      <td>...</td>\n",
       "      <td>...</td>\n",
       "      <td>...</td>\n",
       "      <td>...</td>\n",
       "      <td>...</td>\n",
       "      <td>...</td>\n",
       "    </tr>\n",
       "    <tr>\n",
       "      <th>243</th>\n",
       "      <td>12/18/24</td>\n",
       "      <td>$128.91</td>\n",
       "      <td>$133.86</td>\n",
       "      <td>$136.70</td>\n",
       "      <td>$128.28</td>\n",
       "      <td>277,444,533</td>\n",
       "    </tr>\n",
       "    <tr>\n",
       "      <th>244</th>\n",
       "      <td>12/19/24</td>\n",
       "      <td>$130.68</td>\n",
       "      <td>$131.76</td>\n",
       "      <td>$134.03</td>\n",
       "      <td>$129.55</td>\n",
       "      <td>209,719,210</td>\n",
       "    </tr>\n",
       "    <tr>\n",
       "      <th>245</th>\n",
       "      <td>12/20/24</td>\n",
       "      <td>$134.70</td>\n",
       "      <td>$129.81</td>\n",
       "      <td>$135.28</td>\n",
       "      <td>$128.22</td>\n",
       "      <td>306,528,553</td>\n",
       "    </tr>\n",
       "    <tr>\n",
       "      <th>246</th>\n",
       "      <td>12/23/24</td>\n",
       "      <td>$139.67</td>\n",
       "      <td>$136.28</td>\n",
       "      <td>$139.79</td>\n",
       "      <td>$135.12</td>\n",
       "      <td>176,053,506</td>\n",
       "    </tr>\n",
       "    <tr>\n",
       "      <th>247</th>\n",
       "      <td>12/24/24</td>\n",
       "      <td>$140.22</td>\n",
       "      <td>$140.00</td>\n",
       "      <td>$141.90</td>\n",
       "      <td>$138.65</td>\n",
       "      <td>105,156,989</td>\n",
       "    </tr>\n",
       "  </tbody>\n",
       "</table>\n",
       "<p>248 rows × 6 columns</p>\n",
       "</div>"
      ],
      "text/plain": [
       "         date      close       open       high        low       volume\n",
       "0      1/2/24    $48.17     $49.24     $49.30     $47.60   411,254,220\n",
       "1      1/3/24    $47.57     $47.49     $48.18     $47.32   320,896,170\n",
       "2      1/4/24    $48.00     $47.77     $48.50     $47.51   306,534,890\n",
       "3      1/5/24    $49.10     $48.46     $49.55     $48.31   415,039,270\n",
       "4      1/8/24    $52.25     $49.51     $52.28     $49.48   642,509,900\n",
       "..        ...        ...        ...        ...        ...          ...\n",
       "243  12/18/24   $128.91    $133.86    $136.70    $128.28   277,444,533\n",
       "244  12/19/24   $130.68    $131.76    $134.03    $129.55   209,719,210\n",
       "245  12/20/24   $134.70    $129.81    $135.28    $128.22   306,528,553\n",
       "246  12/23/24   $139.67    $136.28    $139.79    $135.12   176,053,506\n",
       "247  12/24/24   $140.22    $140.00    $141.90    $138.65   105,156,989\n",
       "\n",
       "[248 rows x 6 columns]"
      ]
     },
     "execution_count": 4,
     "metadata": {},
     "output_type": "execute_result"
    }
   ],
   "source": [
    "nvidia_stock.columns = nvidia_stock.columns.str.lower().str.replace(' ', '_')\n",
    "nvidia_stock"
   ]
  },
  {
   "cell_type": "code",
   "execution_count": 5,
   "id": "dfe532dd",
   "metadata": {
    "execution": {
     "iopub.execute_input": "2025-01-07T01:39:40.408629Z",
     "iopub.status.busy": "2025-01-07T01:39:40.408194Z",
     "iopub.status.idle": "2025-01-07T01:39:40.444926Z",
     "shell.execute_reply": "2025-01-07T01:39:40.443586Z"
    },
    "papermill": {
     "duration": 0.046489,
     "end_time": "2025-01-07T01:39:40.446706",
     "exception": false,
     "start_time": "2025-01-07T01:39:40.400217",
     "status": "completed"
    },
    "tags": []
   },
   "outputs": [
    {
     "name": "stderr",
     "output_type": "stream",
     "text": [
      "<ipython-input-5-50ee0394dfdd>:1: UserWarning: Could not infer format, so each element will be parsed individually, falling back to `dateutil`. To ensure parsing is consistent and as-expected, please specify a format.\n",
      "  nvidia_stock['date'] = pd.to_datetime(nvidia_stock['date'])\n"
     ]
    },
    {
     "data": {
      "text/html": [
       "<div>\n",
       "<style scoped>\n",
       "    .dataframe tbody tr th:only-of-type {\n",
       "        vertical-align: middle;\n",
       "    }\n",
       "\n",
       "    .dataframe tbody tr th {\n",
       "        vertical-align: top;\n",
       "    }\n",
       "\n",
       "    .dataframe thead th {\n",
       "        text-align: right;\n",
       "    }\n",
       "</style>\n",
       "<table border=\"1\" class=\"dataframe\">\n",
       "  <thead>\n",
       "    <tr style=\"text-align: right;\">\n",
       "      <th></th>\n",
       "      <th>date</th>\n",
       "      <th>close</th>\n",
       "      <th>open</th>\n",
       "      <th>high</th>\n",
       "      <th>low</th>\n",
       "      <th>volume</th>\n",
       "    </tr>\n",
       "  </thead>\n",
       "  <tbody>\n",
       "    <tr>\n",
       "      <th>0</th>\n",
       "      <td>2024-01-02</td>\n",
       "      <td>$48.17</td>\n",
       "      <td>$49.24</td>\n",
       "      <td>$49.30</td>\n",
       "      <td>$47.60</td>\n",
       "      <td>411,254,220</td>\n",
       "    </tr>\n",
       "    <tr>\n",
       "      <th>1</th>\n",
       "      <td>2024-01-03</td>\n",
       "      <td>$47.57</td>\n",
       "      <td>$47.49</td>\n",
       "      <td>$48.18</td>\n",
       "      <td>$47.32</td>\n",
       "      <td>320,896,170</td>\n",
       "    </tr>\n",
       "    <tr>\n",
       "      <th>2</th>\n",
       "      <td>2024-01-04</td>\n",
       "      <td>$48.00</td>\n",
       "      <td>$47.77</td>\n",
       "      <td>$48.50</td>\n",
       "      <td>$47.51</td>\n",
       "      <td>306,534,890</td>\n",
       "    </tr>\n",
       "    <tr>\n",
       "      <th>3</th>\n",
       "      <td>2024-01-05</td>\n",
       "      <td>$49.10</td>\n",
       "      <td>$48.46</td>\n",
       "      <td>$49.55</td>\n",
       "      <td>$48.31</td>\n",
       "      <td>415,039,270</td>\n",
       "    </tr>\n",
       "    <tr>\n",
       "      <th>4</th>\n",
       "      <td>2024-01-08</td>\n",
       "      <td>$52.25</td>\n",
       "      <td>$49.51</td>\n",
       "      <td>$52.28</td>\n",
       "      <td>$49.48</td>\n",
       "      <td>642,509,900</td>\n",
       "    </tr>\n",
       "    <tr>\n",
       "      <th>...</th>\n",
       "      <td>...</td>\n",
       "      <td>...</td>\n",
       "      <td>...</td>\n",
       "      <td>...</td>\n",
       "      <td>...</td>\n",
       "      <td>...</td>\n",
       "    </tr>\n",
       "    <tr>\n",
       "      <th>243</th>\n",
       "      <td>2024-12-18</td>\n",
       "      <td>$128.91</td>\n",
       "      <td>$133.86</td>\n",
       "      <td>$136.70</td>\n",
       "      <td>$128.28</td>\n",
       "      <td>277,444,533</td>\n",
       "    </tr>\n",
       "    <tr>\n",
       "      <th>244</th>\n",
       "      <td>2024-12-19</td>\n",
       "      <td>$130.68</td>\n",
       "      <td>$131.76</td>\n",
       "      <td>$134.03</td>\n",
       "      <td>$129.55</td>\n",
       "      <td>209,719,210</td>\n",
       "    </tr>\n",
       "    <tr>\n",
       "      <th>245</th>\n",
       "      <td>2024-12-20</td>\n",
       "      <td>$134.70</td>\n",
       "      <td>$129.81</td>\n",
       "      <td>$135.28</td>\n",
       "      <td>$128.22</td>\n",
       "      <td>306,528,553</td>\n",
       "    </tr>\n",
       "    <tr>\n",
       "      <th>246</th>\n",
       "      <td>2024-12-23</td>\n",
       "      <td>$139.67</td>\n",
       "      <td>$136.28</td>\n",
       "      <td>$139.79</td>\n",
       "      <td>$135.12</td>\n",
       "      <td>176,053,506</td>\n",
       "    </tr>\n",
       "    <tr>\n",
       "      <th>247</th>\n",
       "      <td>2024-12-24</td>\n",
       "      <td>$140.22</td>\n",
       "      <td>$140.00</td>\n",
       "      <td>$141.90</td>\n",
       "      <td>$138.65</td>\n",
       "      <td>105,156,989</td>\n",
       "    </tr>\n",
       "  </tbody>\n",
       "</table>\n",
       "<p>248 rows × 6 columns</p>\n",
       "</div>"
      ],
      "text/plain": [
       "          date      close       open       high        low       volume\n",
       "0   2024-01-02    $48.17     $49.24     $49.30     $47.60   411,254,220\n",
       "1   2024-01-03    $47.57     $47.49     $48.18     $47.32   320,896,170\n",
       "2   2024-01-04    $48.00     $47.77     $48.50     $47.51   306,534,890\n",
       "3   2024-01-05    $49.10     $48.46     $49.55     $48.31   415,039,270\n",
       "4   2024-01-08    $52.25     $49.51     $52.28     $49.48   642,509,900\n",
       "..         ...        ...        ...        ...        ...          ...\n",
       "243 2024-12-18   $128.91    $133.86    $136.70    $128.28   277,444,533\n",
       "244 2024-12-19   $130.68    $131.76    $134.03    $129.55   209,719,210\n",
       "245 2024-12-20   $134.70    $129.81    $135.28    $128.22   306,528,553\n",
       "246 2024-12-23   $139.67    $136.28    $139.79    $135.12   176,053,506\n",
       "247 2024-12-24   $140.22    $140.00    $141.90    $138.65   105,156,989\n",
       "\n",
       "[248 rows x 6 columns]"
      ]
     },
     "execution_count": 5,
     "metadata": {},
     "output_type": "execute_result"
    }
   ],
   "source": [
    "nvidia_stock['date'] = pd.to_datetime(nvidia_stock['date'])\n",
    "nvidia_stock"
   ]
  },
  {
   "cell_type": "code",
   "execution_count": 6,
   "id": "539161eb",
   "metadata": {
    "execution": {
     "iopub.execute_input": "2025-01-07T01:39:40.462782Z",
     "iopub.status.busy": "2025-01-07T01:39:40.462400Z",
     "iopub.status.idle": "2025-01-07T01:39:40.469688Z",
     "shell.execute_reply": "2025-01-07T01:39:40.468615Z"
    },
    "papermill": {
     "duration": 0.017301,
     "end_time": "2025-01-07T01:39:40.471551",
     "exception": false,
     "start_time": "2025-01-07T01:39:40.454250",
     "status": "completed"
    },
    "tags": []
   },
   "outputs": [
    {
     "data": {
      "text/plain": [
       "date      datetime64[ns]\n",
       "close             object\n",
       "open              object\n",
       "high              object\n",
       "low               object\n",
       "volume            object\n",
       "dtype: object"
      ]
     },
     "execution_count": 6,
     "metadata": {},
     "output_type": "execute_result"
    }
   ],
   "source": [
    "nvidia_stock.dtypes"
   ]
  },
  {
   "cell_type": "code",
   "execution_count": 7,
   "id": "18b89860",
   "metadata": {
    "execution": {
     "iopub.execute_input": "2025-01-07T01:39:40.488426Z",
     "iopub.status.busy": "2025-01-07T01:39:40.488005Z",
     "iopub.status.idle": "2025-01-07T01:39:40.503045Z",
     "shell.execute_reply": "2025-01-07T01:39:40.501908Z"
    },
    "papermill": {
     "duration": 0.025143,
     "end_time": "2025-01-07T01:39:40.504873",
     "exception": false,
     "start_time": "2025-01-07T01:39:40.479730",
     "status": "completed"
    },
    "tags": []
   },
   "outputs": [
    {
     "data": {
      "text/html": [
       "<div>\n",
       "<style scoped>\n",
       "    .dataframe tbody tr th:only-of-type {\n",
       "        vertical-align: middle;\n",
       "    }\n",
       "\n",
       "    .dataframe tbody tr th {\n",
       "        vertical-align: top;\n",
       "    }\n",
       "\n",
       "    .dataframe thead th {\n",
       "        text-align: right;\n",
       "    }\n",
       "</style>\n",
       "<table border=\"1\" class=\"dataframe\">\n",
       "  <thead>\n",
       "    <tr style=\"text-align: right;\">\n",
       "      <th></th>\n",
       "      <th>date</th>\n",
       "      <th>close</th>\n",
       "      <th>open</th>\n",
       "      <th>high</th>\n",
       "      <th>low</th>\n",
       "      <th>volume</th>\n",
       "    </tr>\n",
       "  </thead>\n",
       "  <tbody>\n",
       "    <tr>\n",
       "      <th>0</th>\n",
       "      <td>2024-01-02</td>\n",
       "      <td>$48.17</td>\n",
       "      <td>$49.24</td>\n",
       "      <td>$49.30</td>\n",
       "      <td>$47.60</td>\n",
       "      <td>411254220</td>\n",
       "    </tr>\n",
       "    <tr>\n",
       "      <th>1</th>\n",
       "      <td>2024-01-03</td>\n",
       "      <td>$47.57</td>\n",
       "      <td>$47.49</td>\n",
       "      <td>$48.18</td>\n",
       "      <td>$47.32</td>\n",
       "      <td>320896170</td>\n",
       "    </tr>\n",
       "    <tr>\n",
       "      <th>2</th>\n",
       "      <td>2024-01-04</td>\n",
       "      <td>$48.00</td>\n",
       "      <td>$47.77</td>\n",
       "      <td>$48.50</td>\n",
       "      <td>$47.51</td>\n",
       "      <td>306534890</td>\n",
       "    </tr>\n",
       "    <tr>\n",
       "      <th>3</th>\n",
       "      <td>2024-01-05</td>\n",
       "      <td>$49.10</td>\n",
       "      <td>$48.46</td>\n",
       "      <td>$49.55</td>\n",
       "      <td>$48.31</td>\n",
       "      <td>415039270</td>\n",
       "    </tr>\n",
       "    <tr>\n",
       "      <th>4</th>\n",
       "      <td>2024-01-08</td>\n",
       "      <td>$52.25</td>\n",
       "      <td>$49.51</td>\n",
       "      <td>$52.28</td>\n",
       "      <td>$49.48</td>\n",
       "      <td>642509900</td>\n",
       "    </tr>\n",
       "    <tr>\n",
       "      <th>...</th>\n",
       "      <td>...</td>\n",
       "      <td>...</td>\n",
       "      <td>...</td>\n",
       "      <td>...</td>\n",
       "      <td>...</td>\n",
       "      <td>...</td>\n",
       "    </tr>\n",
       "    <tr>\n",
       "      <th>243</th>\n",
       "      <td>2024-12-18</td>\n",
       "      <td>$128.91</td>\n",
       "      <td>$133.86</td>\n",
       "      <td>$136.70</td>\n",
       "      <td>$128.28</td>\n",
       "      <td>277444533</td>\n",
       "    </tr>\n",
       "    <tr>\n",
       "      <th>244</th>\n",
       "      <td>2024-12-19</td>\n",
       "      <td>$130.68</td>\n",
       "      <td>$131.76</td>\n",
       "      <td>$134.03</td>\n",
       "      <td>$129.55</td>\n",
       "      <td>209719210</td>\n",
       "    </tr>\n",
       "    <tr>\n",
       "      <th>245</th>\n",
       "      <td>2024-12-20</td>\n",
       "      <td>$134.70</td>\n",
       "      <td>$129.81</td>\n",
       "      <td>$135.28</td>\n",
       "      <td>$128.22</td>\n",
       "      <td>306528553</td>\n",
       "    </tr>\n",
       "    <tr>\n",
       "      <th>246</th>\n",
       "      <td>2024-12-23</td>\n",
       "      <td>$139.67</td>\n",
       "      <td>$136.28</td>\n",
       "      <td>$139.79</td>\n",
       "      <td>$135.12</td>\n",
       "      <td>176053506</td>\n",
       "    </tr>\n",
       "    <tr>\n",
       "      <th>247</th>\n",
       "      <td>2024-12-24</td>\n",
       "      <td>$140.22</td>\n",
       "      <td>$140.00</td>\n",
       "      <td>$141.90</td>\n",
       "      <td>$138.65</td>\n",
       "      <td>105156989</td>\n",
       "    </tr>\n",
       "  </tbody>\n",
       "</table>\n",
       "<p>248 rows × 6 columns</p>\n",
       "</div>"
      ],
      "text/plain": [
       "          date      close       open       high        low     volume\n",
       "0   2024-01-02    $48.17     $49.24     $49.30     $47.60   411254220\n",
       "1   2024-01-03    $47.57     $47.49     $48.18     $47.32   320896170\n",
       "2   2024-01-04    $48.00     $47.77     $48.50     $47.51   306534890\n",
       "3   2024-01-05    $49.10     $48.46     $49.55     $48.31   415039270\n",
       "4   2024-01-08    $52.25     $49.51     $52.28     $49.48   642509900\n",
       "..         ...        ...        ...        ...        ...        ...\n",
       "243 2024-12-18   $128.91    $133.86    $136.70    $128.28   277444533\n",
       "244 2024-12-19   $130.68    $131.76    $134.03    $129.55   209719210\n",
       "245 2024-12-20   $134.70    $129.81    $135.28    $128.22   306528553\n",
       "246 2024-12-23   $139.67    $136.28    $139.79    $135.12   176053506\n",
       "247 2024-12-24   $140.22    $140.00    $141.90    $138.65   105156989\n",
       "\n",
       "[248 rows x 6 columns]"
      ]
     },
     "execution_count": 7,
     "metadata": {},
     "output_type": "execute_result"
    }
   ],
   "source": [
    "# Replace commas and then convert the column to numeric\n",
    "nvidia_stock['volume'] = nvidia_stock['volume'].str.replace(',', '')\n",
    "nvidia_stock"
   ]
  },
  {
   "cell_type": "code",
   "execution_count": 8,
   "id": "5465b513",
   "metadata": {
    "execution": {
     "iopub.execute_input": "2025-01-07T01:39:40.522419Z",
     "iopub.status.busy": "2025-01-07T01:39:40.521976Z",
     "iopub.status.idle": "2025-01-07T01:39:40.538593Z",
     "shell.execute_reply": "2025-01-07T01:39:40.537529Z"
    },
    "papermill": {
     "duration": 0.027619,
     "end_time": "2025-01-07T01:39:40.540289",
     "exception": false,
     "start_time": "2025-01-07T01:39:40.512670",
     "status": "completed"
    },
    "tags": []
   },
   "outputs": [
    {
     "name": "stdout",
     "output_type": "stream",
     "text": [
      "Series([], Name: close, dtype: float64)\n",
      "Series([], Name: open, dtype: float64)\n",
      "Series([], Name: high, dtype: float64)\n",
      "Series([], Name: low, dtype: float64)\n"
     ]
    }
   ],
   "source": [
    "import pandas as pd\n",
    "\n",
    "# Attempt to replace the dollar sign and convert to float\n",
    "try:\n",
    "    nvidia_stock['close'] = nvidia_stock['close'].str.replace('$', '').astype(float)\n",
    "except Exception as e:\n",
    "    print(f\"Error: {e}\")\n",
    "try:\n",
    "    nvidia_stock['open'] = nvidia_stock['open'].str.replace('$', '').astype(float)\n",
    "except Exception as e:\n",
    "    print(f\"Error: {e}\")\n",
    "try:\n",
    "    nvidia_stock['high'] = nvidia_stock['high'].str.replace('$', '').astype(float)\n",
    "except Exception as e:\n",
    "    print(f\"Error: {e}\")\n",
    "try:\n",
    "    nvidia_stock['low'] = nvidia_stock['low'].str.replace('$', '').astype(float)\n",
    "except Exception as e:\n",
    "    print(f\"Error: {e}\")\n",
    "\n",
    "# Check if there are any entries that could not be converted\n",
    "print(nvidia_stock['close'][nvidia_stock['close'].apply(lambda x: isinstance(x, str))])\n",
    "print(nvidia_stock['open'][nvidia_stock['open'].apply(lambda x: isinstance(x, str))])\n",
    "print(nvidia_stock['high'][nvidia_stock['high'].apply(lambda x: isinstance(x, str))])\n",
    "print(nvidia_stock['low'][nvidia_stock['low'].apply(lambda x: isinstance(x, str))])\n"
   ]
  },
  {
   "cell_type": "code",
   "execution_count": 9,
   "id": "31dd61c8",
   "metadata": {
    "execution": {
     "iopub.execute_input": "2025-01-07T01:39:40.557008Z",
     "iopub.status.busy": "2025-01-07T01:39:40.556642Z",
     "iopub.status.idle": "2025-01-07T01:39:40.567231Z",
     "shell.execute_reply": "2025-01-07T01:39:40.566045Z"
    },
    "papermill": {
     "duration": 0.021128,
     "end_time": "2025-01-07T01:39:40.569066",
     "exception": false,
     "start_time": "2025-01-07T01:39:40.547938",
     "status": "completed"
    },
    "tags": []
   },
   "outputs": [
    {
     "data": {
      "text/plain": [
       "date      datetime64[ns]\n",
       "close            float64\n",
       "open             float64\n",
       "high             float64\n",
       "low              float64\n",
       "volume             int64\n",
       "dtype: object"
      ]
     },
     "execution_count": 9,
     "metadata": {},
     "output_type": "execute_result"
    }
   ],
   "source": [
    "# Convert the 'volume' column to numeric, coercing errors to NaN (if any non-convertible values exist)\n",
    "# 'coerce': Any value that cannot be converted to a numeric type (for instance, non-numeric strings) will be changed to NaN (Not a Number). This ensures that the conversion process does not fail and allows the operation to complete, but at the expense of losing the information contained in the non-convertible values.\n",
    "nvidia_stock['volume'] = pd.to_numeric(nvidia_stock['volume'])\n",
    "nvidia_stock['close'] = pd.to_numeric(nvidia_stock['close'])\n",
    "nvidia_stock['open'] = pd.to_numeric(nvidia_stock['open'])\n",
    "nvidia_stock['high'] = pd.to_numeric(nvidia_stock['high'])\n",
    "nvidia_stock['low'] = pd.to_numeric(nvidia_stock['low'])\n",
    "\n",
    "nvidia_stock.dtypes"
   ]
  },
  {
   "cell_type": "code",
   "execution_count": 10,
   "id": "72420195",
   "metadata": {
    "execution": {
     "iopub.execute_input": "2025-01-07T01:39:40.587258Z",
     "iopub.status.busy": "2025-01-07T01:39:40.586843Z",
     "iopub.status.idle": "2025-01-07T01:39:40.606908Z",
     "shell.execute_reply": "2025-01-07T01:39:40.605828Z"
    },
    "papermill": {
     "duration": 0.03062,
     "end_time": "2025-01-07T01:39:40.608738",
     "exception": false,
     "start_time": "2025-01-07T01:39:40.578118",
     "status": "completed"
    },
    "tags": []
   },
   "outputs": [
    {
     "data": {
      "text/html": [
       "<div>\n",
       "<style scoped>\n",
       "    .dataframe tbody tr th:only-of-type {\n",
       "        vertical-align: middle;\n",
       "    }\n",
       "\n",
       "    .dataframe tbody tr th {\n",
       "        vertical-align: top;\n",
       "    }\n",
       "\n",
       "    .dataframe thead th {\n",
       "        text-align: right;\n",
       "    }\n",
       "</style>\n",
       "<table border=\"1\" class=\"dataframe\">\n",
       "  <thead>\n",
       "    <tr style=\"text-align: right;\">\n",
       "      <th></th>\n",
       "      <th>date</th>\n",
       "      <th>close</th>\n",
       "      <th>open</th>\n",
       "      <th>high</th>\n",
       "      <th>low</th>\n",
       "      <th>volume</th>\n",
       "      <th>volume_byB</th>\n",
       "    </tr>\n",
       "  </thead>\n",
       "  <tbody>\n",
       "    <tr>\n",
       "      <th>0</th>\n",
       "      <td>2024-01-02</td>\n",
       "      <td>48.17</td>\n",
       "      <td>49.24</td>\n",
       "      <td>49.30</td>\n",
       "      <td>47.60</td>\n",
       "      <td>411254220</td>\n",
       "      <td>0.411254</td>\n",
       "    </tr>\n",
       "    <tr>\n",
       "      <th>1</th>\n",
       "      <td>2024-01-03</td>\n",
       "      <td>47.57</td>\n",
       "      <td>47.49</td>\n",
       "      <td>48.18</td>\n",
       "      <td>47.32</td>\n",
       "      <td>320896170</td>\n",
       "      <td>0.320896</td>\n",
       "    </tr>\n",
       "    <tr>\n",
       "      <th>2</th>\n",
       "      <td>2024-01-04</td>\n",
       "      <td>48.00</td>\n",
       "      <td>47.77</td>\n",
       "      <td>48.50</td>\n",
       "      <td>47.51</td>\n",
       "      <td>306534890</td>\n",
       "      <td>0.306535</td>\n",
       "    </tr>\n",
       "    <tr>\n",
       "      <th>3</th>\n",
       "      <td>2024-01-05</td>\n",
       "      <td>49.10</td>\n",
       "      <td>48.46</td>\n",
       "      <td>49.55</td>\n",
       "      <td>48.31</td>\n",
       "      <td>415039270</td>\n",
       "      <td>0.415039</td>\n",
       "    </tr>\n",
       "    <tr>\n",
       "      <th>4</th>\n",
       "      <td>2024-01-08</td>\n",
       "      <td>52.25</td>\n",
       "      <td>49.51</td>\n",
       "      <td>52.28</td>\n",
       "      <td>49.48</td>\n",
       "      <td>642509900</td>\n",
       "      <td>0.642510</td>\n",
       "    </tr>\n",
       "    <tr>\n",
       "      <th>...</th>\n",
       "      <td>...</td>\n",
       "      <td>...</td>\n",
       "      <td>...</td>\n",
       "      <td>...</td>\n",
       "      <td>...</td>\n",
       "      <td>...</td>\n",
       "      <td>...</td>\n",
       "    </tr>\n",
       "    <tr>\n",
       "      <th>243</th>\n",
       "      <td>2024-12-18</td>\n",
       "      <td>128.91</td>\n",
       "      <td>133.86</td>\n",
       "      <td>136.70</td>\n",
       "      <td>128.28</td>\n",
       "      <td>277444533</td>\n",
       "      <td>0.277445</td>\n",
       "    </tr>\n",
       "    <tr>\n",
       "      <th>244</th>\n",
       "      <td>2024-12-19</td>\n",
       "      <td>130.68</td>\n",
       "      <td>131.76</td>\n",
       "      <td>134.03</td>\n",
       "      <td>129.55</td>\n",
       "      <td>209719210</td>\n",
       "      <td>0.209719</td>\n",
       "    </tr>\n",
       "    <tr>\n",
       "      <th>245</th>\n",
       "      <td>2024-12-20</td>\n",
       "      <td>134.70</td>\n",
       "      <td>129.81</td>\n",
       "      <td>135.28</td>\n",
       "      <td>128.22</td>\n",
       "      <td>306528553</td>\n",
       "      <td>0.306529</td>\n",
       "    </tr>\n",
       "    <tr>\n",
       "      <th>246</th>\n",
       "      <td>2024-12-23</td>\n",
       "      <td>139.67</td>\n",
       "      <td>136.28</td>\n",
       "      <td>139.79</td>\n",
       "      <td>135.12</td>\n",
       "      <td>176053506</td>\n",
       "      <td>0.176054</td>\n",
       "    </tr>\n",
       "    <tr>\n",
       "      <th>247</th>\n",
       "      <td>2024-12-24</td>\n",
       "      <td>140.22</td>\n",
       "      <td>140.00</td>\n",
       "      <td>141.90</td>\n",
       "      <td>138.65</td>\n",
       "      <td>105156989</td>\n",
       "      <td>0.105157</td>\n",
       "    </tr>\n",
       "  </tbody>\n",
       "</table>\n",
       "<p>248 rows × 7 columns</p>\n",
       "</div>"
      ],
      "text/plain": [
       "          date   close    open    high     low     volume  volume_byB\n",
       "0   2024-01-02   48.17   49.24   49.30   47.60  411254220    0.411254\n",
       "1   2024-01-03   47.57   47.49   48.18   47.32  320896170    0.320896\n",
       "2   2024-01-04   48.00   47.77   48.50   47.51  306534890    0.306535\n",
       "3   2024-01-05   49.10   48.46   49.55   48.31  415039270    0.415039\n",
       "4   2024-01-08   52.25   49.51   52.28   49.48  642509900    0.642510\n",
       "..         ...     ...     ...     ...     ...        ...         ...\n",
       "243 2024-12-18  128.91  133.86  136.70  128.28  277444533    0.277445\n",
       "244 2024-12-19  130.68  131.76  134.03  129.55  209719210    0.209719\n",
       "245 2024-12-20  134.70  129.81  135.28  128.22  306528553    0.306529\n",
       "246 2024-12-23  139.67  136.28  139.79  135.12  176053506    0.176054\n",
       "247 2024-12-24  140.22  140.00  141.90  138.65  105156989    0.105157\n",
       "\n",
       "[248 rows x 7 columns]"
      ]
     },
     "execution_count": 10,
     "metadata": {},
     "output_type": "execute_result"
    }
   ],
   "source": [
    "nvidia_stock['volume_byB'] = nvidia_stock['volume'] / 1e9\n",
    "nvidia_stock"
   ]
  },
  {
   "cell_type": "code",
   "execution_count": 11,
   "id": "fcd2617d",
   "metadata": {
    "execution": {
     "iopub.execute_input": "2025-01-07T01:39:40.625924Z",
     "iopub.status.busy": "2025-01-07T01:39:40.625588Z",
     "iopub.status.idle": "2025-01-07T01:39:40.632706Z",
     "shell.execute_reply": "2025-01-07T01:39:40.631723Z"
    },
    "papermill": {
     "duration": 0.017629,
     "end_time": "2025-01-07T01:39:40.634395",
     "exception": false,
     "start_time": "2025-01-07T01:39:40.616766",
     "status": "completed"
    },
    "tags": []
   },
   "outputs": [
    {
     "data": {
      "text/plain": [
       "date          datetime64[ns]\n",
       "close                float64\n",
       "open                 float64\n",
       "high                 float64\n",
       "low                  float64\n",
       "volume                 int64\n",
       "volume_byB           float64\n",
       "dtype: object"
      ]
     },
     "execution_count": 11,
     "metadata": {},
     "output_type": "execute_result"
    }
   ],
   "source": [
    "nvidia_stock.dtypes"
   ]
  },
  {
   "cell_type": "markdown",
   "id": "e2398547",
   "metadata": {
    "papermill": {
     "duration": 0.007835,
     "end_time": "2025-01-07T01:39:40.650452",
     "exception": false,
     "start_time": "2025-01-07T01:39:40.642617",
     "status": "completed"
    },
    "tags": []
   },
   "source": [
    "## Summary"
   ]
  },
  {
   "cell_type": "code",
   "execution_count": 12,
   "id": "614aba92",
   "metadata": {
    "execution": {
     "iopub.execute_input": "2025-01-07T01:39:40.667970Z",
     "iopub.status.busy": "2025-01-07T01:39:40.667606Z",
     "iopub.status.idle": "2025-01-07T01:39:40.703796Z",
     "shell.execute_reply": "2025-01-07T01:39:40.702299Z"
    },
    "papermill": {
     "duration": 0.047383,
     "end_time": "2025-01-07T01:39:40.705918",
     "exception": false,
     "start_time": "2025-01-07T01:39:40.658535",
     "status": "completed"
    },
    "tags": []
   },
   "outputs": [
    {
     "name": "stdout",
     "output_type": "stream",
     "text": [
      "                                date       close       open        high  \\\n",
      "count                            248  248.000000  248.00000  248.000000   \n",
      "mean   2024-06-28 22:03:52.258064640  107.352137  107.41754  109.373992   \n",
      "min              2024-01-02 00:00:00   47.570000   47.49000   48.180000   \n",
      "25%              2024-04-01 18:00:00   87.687500   87.56000   89.167500   \n",
      "50%              2024-06-29 12:00:00  114.540000  115.18500  116.615000   \n",
      "75%              2024-09-26 06:00:00  129.430000  129.84750  131.672500   \n",
      "max              2024-12-24 00:00:00  148.880000  149.35000  152.890000   \n",
      "std                              NaN   26.911353   27.09345   27.394735   \n",
      "\n",
      "              low        volume  volume_byB  \n",
      "count  248.000000  2.480000e+02  248.000000  \n",
      "mean   105.156573  3.809906e+08    0.380991  \n",
      "min     47.320000  1.051570e+08    0.105157  \n",
      "25%     86.027500  2.565828e+08    0.256583  \n",
      "50%    111.440000  3.573289e+08    0.357329  \n",
      "75%    127.165000  4.767220e+08    0.476722  \n",
      "max    146.260000  1.142269e+09    1.142269  \n",
      "std     26.521472  1.605796e+08    0.160580  \n"
     ]
    }
   ],
   "source": [
    "print(nvidia_stock.describe())"
   ]
  },
  {
   "cell_type": "code",
   "execution_count": 13,
   "id": "1e02fa28",
   "metadata": {
    "execution": {
     "iopub.execute_input": "2025-01-07T01:39:40.723975Z",
     "iopub.status.busy": "2025-01-07T01:39:40.723623Z",
     "iopub.status.idle": "2025-01-07T01:39:41.153484Z",
     "shell.execute_reply": "2025-01-07T01:39:41.152266Z"
    },
    "papermill": {
     "duration": 0.441328,
     "end_time": "2025-01-07T01:39:41.155722",
     "exception": false,
     "start_time": "2025-01-07T01:39:40.714394",
     "status": "completed"
    },
    "tags": []
   },
   "outputs": [
    {
     "data": {
      "image/png": "[encoded data removed]",
      "text/plain": [
       "<Figure size 1200x600 with 1 Axes>"
      ]
     },
     "metadata": {},
     "output_type": "display_data"
    }
   ],
   "source": [
    "nvidia_stock.set_index('date')[['volume_byB']].plot(figsize=(12, 6))\n",
    "plt.title('NVIDIA Stock Trading Volume Over Time')\n",
    "plt.xlabel('Date')\n",
    "plt.ylabel('Volume (in Billions)')\n",
    "plt.show()"
   ]
  },
  {
   "cell_type": "markdown",
   "id": "aae85d1d",
   "metadata": {
    "papermill": {
     "duration": 0.009569,
     "end_time": "2025-01-07T01:39:41.176301",
     "exception": false,
     "start_time": "2025-01-07T01:39:41.166732",
     "status": "completed"
    },
    "tags": []
   },
   "source": [
    "## ML Modeling (LSTM)"
   ]
  },
  {
   "cell_type": "markdown",
   "id": "a8fdb5e9",
   "metadata": {
    "papermill": {
     "duration": 0.009399,
     "end_time": "2025-01-07T01:39:41.195734",
     "exception": false,
     "start_time": "2025-01-07T01:39:41.186335",
     "status": "completed"
    },
    "tags": []
   },
   "source": [
    "### Splitting"
   ]
  },
  {
   "cell_type": "code",
   "execution_count": 14,
   "id": "7b88b7f8",
   "metadata": {
    "execution": {
     "iopub.execute_input": "2025-01-07T01:39:41.216703Z",
     "iopub.status.busy": "2025-01-07T01:39:41.216309Z",
     "iopub.status.idle": "2025-01-07T01:39:41.227746Z",
     "shell.execute_reply": "2025-01-07T01:39:41.226609Z"
    },
    "papermill": {
     "duration": 0.024133,
     "end_time": "2025-01-07T01:39:41.229649",
     "exception": false,
     "start_time": "2025-01-07T01:39:41.205516",
     "status": "completed"
    },
    "tags": []
   },
   "outputs": [],
   "source": [
    "train_size = int(len(nvidia_stock) * 0.8)\n",
    "train, test = nvidia_stock[:train_size], nvidia_stock[train_size:]\n",
    "\n",
    "# Normalizing the volume data\n",
    "scaler = MinMaxScaler(feature_range=(0, 1))\n",
    "train_scaled = scaler.fit_transform(train[['volume_byB']])\n",
    "test_scaled = scaler.transform(test[['volume_byB']])"
   ]
  },
  {
   "cell_type": "markdown",
   "id": "01a726b4",
   "metadata": {
    "papermill": {
     "duration": 0.009916,
     "end_time": "2025-01-07T01:39:41.251598",
     "exception": false,
     "start_time": "2025-01-07T01:39:41.241682",
     "status": "completed"
    },
    "tags": []
   },
   "source": [
    "### Processing"
   ]
  },
  {
   "cell_type": "code",
   "execution_count": 15,
   "id": "219536dd",
   "metadata": {
    "execution": {
     "iopub.execute_input": "2025-01-07T01:39:41.273333Z",
     "iopub.status.busy": "2025-01-07T01:39:41.272896Z",
     "iopub.status.idle": "2025-01-07T01:39:41.280595Z",
     "shell.execute_reply": "2025-01-07T01:39:41.279491Z"
    },
    "papermill": {
     "duration": 0.020708,
     "end_time": "2025-01-07T01:39:41.282482",
     "exception": false,
     "start_time": "2025-01-07T01:39:41.261774",
     "status": "completed"
    },
    "tags": []
   },
   "outputs": [],
   "source": [
    "def create_dataset(data, time_step=1):\n",
    "    X, y = [], []\n",
    "    for i in range(len(data) - time_step - 1):\n",
    "        X.append(data[i:(i + time_step), 0])\n",
    "        y.append(data[i + time_step, 0])\n",
    "    return np.array(X), np.array(y)\n",
    "\n",
    "time_step = 30  # Using the past 30 days to predict the next day\n",
    "X_train, y_train = create_dataset(train_scaled, time_step)\n",
    "X_test, y_test = create_dataset(test_scaled, time_step)\n",
    "\n",
    "X_train = X_train.reshape(X_train.shape[0], X_train.shape[1], 1)\n",
    "X_test = X_test.reshape(X_test.shape[0], X_test.shape[1], 1)"
   ]
  },
  {
   "cell_type": "markdown",
   "id": "7fdb5260",
   "metadata": {
    "papermill": {
     "duration": 0.010268,
     "end_time": "2025-01-07T01:39:41.303529",
     "exception": false,
     "start_time": "2025-01-07T01:39:41.293261",
     "status": "completed"
    },
    "tags": []
   },
   "source": [
    "### LSTM Model Building"
   ]
  },
  {
   "cell_type": "code",
   "execution_count": 16,
   "id": "54e209e0",
   "metadata": {
    "execution": {
     "iopub.execute_input": "2025-01-07T01:39:41.325091Z",
     "iopub.status.busy": "2025-01-07T01:39:41.324740Z",
     "iopub.status.idle": "2025-01-07T01:39:44.963929Z",
     "shell.execute_reply": "2025-01-07T01:39:44.962847Z"
    },
    "papermill": {
     "duration": 3.652414,
     "end_time": "2025-01-07T01:39:44.966092",
     "exception": false,
     "start_time": "2025-01-07T01:39:41.313678",
     "status": "completed"
    },
    "tags": []
   },
   "outputs": [
    {
     "name": "stderr",
     "output_type": "stream",
     "text": [
      "/usr/local/lib/python3.10/dist-packages/keras/src/layers/core/dense.py:87: UserWarning: Do not pass an `input_shape`/`input_dim` argument to a layer. When using Sequential models, prefer using an `Input(shape)` object as the first layer in the model instead.\n",
      "  super().__init__(activity_regularizer=activity_regularizer, **kwargs)\n"
     ]
    },
    {
     "name": "stdout",
     "output_type": "stream",
     "text": [
      "Epoch 1/30\n",
      "\u001b[1m6/6\u001b[0m \u001b[32m━━━━━━━━━━━━━━━━━━━━\u001b[0m\u001b[37m\u001b[0m \u001b[1m1s\u001b[0m 35ms/step - loss: 0.0525 - val_loss: 0.0079\n",
      "Epoch 2/30\n",
      "\u001b[1m6/6\u001b[0m \u001b[32m━━━━━━━━━━━━━━━━━━━━\u001b[0m\u001b[37m\u001b[0m \u001b[1m0s\u001b[0m 8ms/step - loss: 0.0277 - val_loss: 0.0033\n",
      "Epoch 3/30\n",
      "\u001b[1m6/6\u001b[0m \u001b[32m━━━━━━━━━━━━━━━━━━━━\u001b[0m\u001b[37m\u001b[0m \u001b[1m0s\u001b[0m 9ms/step - loss: 0.0171 - val_loss: 0.0034\n",
      "Epoch 4/30\n",
      "\u001b[1m6/6\u001b[0m \u001b[32m━━━━━━━━━━━━━━━━━━━━\u001b[0m\u001b[37m\u001b[0m \u001b[1m0s\u001b[0m 9ms/step - loss: 0.0159 - val_loss: 0.0052\n",
      "Epoch 5/30\n",
      "\u001b[1m6/6\u001b[0m \u001b[32m━━━━━━━━━━━━━━━━━━━━\u001b[0m\u001b[37m\u001b[0m \u001b[1m0s\u001b[0m 8ms/step - loss: 0.0150 - val_loss: 0.0037\n",
      "Epoch 6/30\n",
      "\u001b[1m6/6\u001b[0m \u001b[32m━━━━━━━━━━━━━━━━━━━━\u001b[0m\u001b[37m\u001b[0m \u001b[1m0s\u001b[0m 7ms/step - loss: 0.0135 - val_loss: 0.0036\n",
      "Epoch 7/30\n",
      "\u001b[1m6/6\u001b[0m \u001b[32m━━━━━━━━━━━━━━━━━━━━\u001b[0m\u001b[37m\u001b[0m \u001b[1m0s\u001b[0m 7ms/step - loss: 0.0097 - val_loss: 0.0041\n",
      "Epoch 8/30\n",
      "\u001b[1m6/6\u001b[0m \u001b[32m━━━━━━━━━━━━━━━━━━━━\u001b[0m\u001b[37m\u001b[0m \u001b[1m0s\u001b[0m 7ms/step - loss: 0.0103 - val_loss: 0.0032\n",
      "Epoch 9/30\n",
      "\u001b[1m6/6\u001b[0m \u001b[32m━━━━━━━━━━━━━━━━━━━━\u001b[0m\u001b[37m\u001b[0m \u001b[1m0s\u001b[0m 7ms/step - loss: 0.0106 - val_loss: 0.0034\n",
      "Epoch 10/30\n",
      "\u001b[1m6/6\u001b[0m \u001b[32m━━━━━━━━━━━━━━━━━━━━\u001b[0m\u001b[37m\u001b[0m \u001b[1m0s\u001b[0m 7ms/step - loss: 0.0095 - val_loss: 0.0034\n",
      "Epoch 11/30\n",
      "\u001b[1m6/6\u001b[0m \u001b[32m━━━━━━━━━━━━━━━━━━━━\u001b[0m\u001b[37m\u001b[0m \u001b[1m0s\u001b[0m 7ms/step - loss: 0.0098 - val_loss: 0.0033\n",
      "Epoch 12/30\n",
      "\u001b[1m6/6\u001b[0m \u001b[32m━━━━━━━━━━━━━━━━━━━━\u001b[0m\u001b[37m\u001b[0m \u001b[1m0s\u001b[0m 7ms/step - loss: 0.0092 - val_loss: 0.0032\n",
      "Epoch 13/30\n",
      "\u001b[1m6/6\u001b[0m \u001b[32m━━━━━━━━━━━━━━━━━━━━\u001b[0m\u001b[37m\u001b[0m \u001b[1m0s\u001b[0m 7ms/step - loss: 0.0083 - val_loss: 0.0029\n",
      "Epoch 14/30\n",
      "\u001b[1m6/6\u001b[0m \u001b[32m━━━━━━━━━━━━━━━━━━━━\u001b[0m\u001b[37m\u001b[0m \u001b[1m0s\u001b[0m 7ms/step - loss: 0.0104 - val_loss: 0.0035\n",
      "Epoch 15/30\n",
      "\u001b[1m6/6\u001b[0m \u001b[32m━━━━━━━━━━━━━━━━━━━━\u001b[0m\u001b[37m\u001b[0m \u001b[1m0s\u001b[0m 7ms/step - loss: 0.0090 - val_loss: 0.0029\n",
      "Epoch 16/30\n",
      "\u001b[1m6/6\u001b[0m \u001b[32m━━━━━━━━━━━━━━━━━━━━\u001b[0m\u001b[37m\u001b[0m \u001b[1m0s\u001b[0m 7ms/step - loss: 0.0095 - val_loss: 0.0042\n",
      "Epoch 17/30\n",
      "\u001b[1m6/6\u001b[0m \u001b[32m━━━━━━━━━━━━━━━━━━━━\u001b[0m\u001b[37m\u001b[0m \u001b[1m0s\u001b[0m 7ms/step - loss: 0.0089 - val_loss: 0.0033\n",
      "Epoch 18/30\n",
      "\u001b[1m6/6\u001b[0m \u001b[32m━━━━━━━━━━━━━━━━━━━━\u001b[0m\u001b[37m\u001b[0m \u001b[1m0s\u001b[0m 7ms/step - loss: 0.0087 - val_loss: 0.0039\n",
      "Epoch 19/30\n",
      "\u001b[1m6/6\u001b[0m \u001b[32m━━━━━━━━━━━━━━━━━━━━\u001b[0m\u001b[37m\u001b[0m \u001b[1m0s\u001b[0m 7ms/step - loss: 0.0069 - val_loss: 0.0035\n",
      "Epoch 20/30\n",
      "\u001b[1m6/6\u001b[0m \u001b[32m━━━━━━━━━━━━━━━━━━━━\u001b[0m\u001b[37m\u001b[0m \u001b[1m0s\u001b[0m 7ms/step - loss: 0.0073 - val_loss: 0.0039\n",
      "Epoch 21/30\n",
      "\u001b[1m6/6\u001b[0m \u001b[32m━━━━━━━━━━━━━━━━━━━━\u001b[0m\u001b[37m\u001b[0m \u001b[1m0s\u001b[0m 8ms/step - loss: 0.0066 - val_loss: 0.0038\n",
      "Epoch 22/30\n",
      "\u001b[1m6/6\u001b[0m \u001b[32m━━━━━━━━━━━━━━━━━━━━\u001b[0m\u001b[37m\u001b[0m \u001b[1m0s\u001b[0m 9ms/step - loss: 0.0074 - val_loss: 0.0040\n",
      "Epoch 23/30\n",
      "\u001b[1m6/6\u001b[0m \u001b[32m━━━━━━━━━━━━━━━━━━━━\u001b[0m\u001b[37m\u001b[0m \u001b[1m0s\u001b[0m 7ms/step - loss: 0.0074 - val_loss: 0.0040\n",
      "Epoch 24/30\n",
      "\u001b[1m6/6\u001b[0m \u001b[32m━━━━━━━━━━━━━━━━━━━━\u001b[0m\u001b[37m\u001b[0m \u001b[1m0s\u001b[0m 7ms/step - loss: 0.0059 - val_loss: 0.0044\n",
      "Epoch 25/30\n",
      "\u001b[1m6/6\u001b[0m \u001b[32m━━━━━━━━━━━━━━━━━━━━\u001b[0m\u001b[37m\u001b[0m \u001b[1m0s\u001b[0m 7ms/step - loss: 0.0064 - val_loss: 0.0039\n",
      "Epoch 26/30\n",
      "\u001b[1m6/6\u001b[0m \u001b[32m━━━━━━━━━━━━━━━━━━━━\u001b[0m\u001b[37m\u001b[0m \u001b[1m0s\u001b[0m 7ms/step - loss: 0.0065 - val_loss: 0.0039\n",
      "Epoch 27/30\n",
      "\u001b[1m6/6\u001b[0m \u001b[32m━━━━━━━━━━━━━━━━━━━━\u001b[0m\u001b[37m\u001b[0m \u001b[1m0s\u001b[0m 7ms/step - loss: 0.0057 - val_loss: 0.0041\n",
      "Epoch 28/30\n",
      "\u001b[1m6/6\u001b[0m \u001b[32m━━━━━━━━━━━━━━━━━━━━\u001b[0m\u001b[37m\u001b[0m \u001b[1m0s\u001b[0m 7ms/step - loss: 0.0057 - val_loss: 0.0037\n",
      "Epoch 29/30\n",
      "\u001b[1m6/6\u001b[0m \u001b[32m━━━━━━━━━━━━━━━━━━━━\u001b[0m\u001b[37m\u001b[0m \u001b[1m0s\u001b[0m 7ms/step - loss: 0.0041 - val_loss: 0.0043\n",
      "Epoch 30/30\n",
      "\u001b[1m6/6\u001b[0m \u001b[32m━━━━━━━━━━━━━━━━━━━━\u001b[0m\u001b[37m\u001b[0m \u001b[1m0s\u001b[0m 7ms/step - loss: 0.0047 - val_loss: 0.0037\n"
     ]
    }
   ],
   "source": [
    "# # Simplifying the model if overfitting\n",
    "# model = Sequential()\n",
    "# model.add(LSTM(32, input_shape=(X_train.shape[1], 1)))  # Reduced number of units\n",
    "# model.add(Dense(1))\n",
    "\n",
    "# model.compile(optimizer='adam', loss='mean_squared_error')\n",
    "\n",
    "# Or, enhancing the model if underfitting\n",
    "model = Sequential([\n",
    "    Dense(128, activation='relu', input_shape=(X_train.shape[1],)),\n",
    "    Dense(128, activation='relu'),\n",
    "    Dense(1)\n",
    "])\n",
    "\n",
    "# Example of increasing epochs and adjusting learning rate\n",
    "from tensorflow.keras.optimizers import Adam\n",
    "\n",
    "optimizer = Adam(learning_rate=0.001)\n",
    "model.compile(optimizer=optimizer, loss='mean_squared_error')\n",
    "history = model.fit(X_train, y_train, epochs=30, batch_size=32, validation_data=(X_test, y_test))\n",
    "\n",
    "\n",
    "model.compile(optimizer='adam', loss='mean_squared_error')\n"
   ]
  },
  {
   "cell_type": "markdown",
   "id": "71afd783",
   "metadata": {
    "papermill": {
     "duration": 0.014664,
     "end_time": "2025-01-07T01:39:44.996523",
     "exception": false,
     "start_time": "2025-01-07T01:39:44.981859",
     "status": "completed"
    },
    "tags": []
   },
   "source": [
    "### Train LSTM"
   ]
  },
  {
   "cell_type": "code",
   "execution_count": 17,
   "id": "1e0b0e20",
   "metadata": {
    "execution": {
     "iopub.execute_input": "2025-01-07T01:39:45.028246Z",
     "iopub.status.busy": "2025-01-07T01:39:45.027849Z",
     "iopub.status.idle": "2025-01-07T01:39:45.032054Z",
     "shell.execute_reply": "2025-01-07T01:39:45.030907Z"
    },
    "papermill": {
     "duration": 0.022109,
     "end_time": "2025-01-07T01:39:45.034018",
     "exception": false,
     "start_time": "2025-01-07T01:39:45.011909",
     "status": "completed"
    },
    "tags": []
   },
   "outputs": [],
   "source": [
    "#Early Stopping\n",
    "#Use early stopping to halt the training process once the model performance stops improving on the validation data.\n",
    "\n",
    "# from tensorflow.keras.callbacks import EarlyStopping\n",
    "\n",
    "# # Setup early stopping\n",
    "# early_stop = EarlyStopping(monitor='val_loss', patience=10, restore_best_weights=True)\n",
    "\n",
    "# # Fit the model with early stopping\n",
    "# history = model.fit(X_train, y_train, epochs=100, batch_size=32, \n",
    "#                     validation_data=(X_test, y_test), callbacks=[early_stop], verbose=1)\n"
   ]
  },
  {
   "cell_type": "markdown",
   "id": "a55a9d91",
   "metadata": {
    "papermill": {
     "duration": 0.014754,
     "end_time": "2025-01-07T01:39:45.063719",
     "exception": false,
     "start_time": "2025-01-07T01:39:45.048965",
     "status": "completed"
    },
    "tags": []
   },
   "source": [
    "Overfitting: The training loss decreases continuously, while the validation loss decreases initially but then increases.\n",
    "Underfitting: Both training and validation losses are high, and they decrease very slowly or plateau early."
   ]
  },
  {
   "cell_type": "code",
   "execution_count": 18,
   "id": "7bde56e2",
   "metadata": {
    "execution": {
     "iopub.execute_input": "2025-01-07T01:39:45.094778Z",
     "iopub.status.busy": "2025-01-07T01:39:45.094407Z",
     "iopub.status.idle": "2025-01-07T01:39:45.397978Z",
     "shell.execute_reply": "2025-01-07T01:39:45.396325Z"
    },
    "papermill": {
     "duration": 0.3218,
     "end_time": "2025-01-07T01:39:45.400454",
     "exception": false,
     "start_time": "2025-01-07T01:39:45.078654",
     "status": "completed"
    },
    "tags": []
   },
   "outputs": [
    {
     "data": {
      "image/png": "[encoded data removed]",
      "text/plain": [
       "<Figure size 1000x500 with 1 Axes>"
      ]
     },
     "metadata": {},
     "output_type": "display_data"
    }
   ],
   "source": [
    "import matplotlib.pyplot as plt\n",
    "\n",
    "# Plot training & validation loss values\n",
    "plt.figure(figsize=(10, 5))\n",
    "plt.plot(history.history['loss'], label='Train Loss')\n",
    "if 'val_loss' in history.history:\n",
    "    plt.plot(history.history['val_loss'], label='Validation Loss')\n",
    "plt.title('Model Loss Progress During Training')\n",
    "plt.ylabel('Loss')\n",
    "plt.xlabel('Epoch')\n",
    "plt.legend(['Train', 'Validation'], loc='upper right')\n",
    "plt.show()\n"
   ]
  },
  {
   "cell_type": "markdown",
   "id": "32910f31",
   "metadata": {
    "papermill": {
     "duration": 0.019196,
     "end_time": "2025-01-07T01:39:45.438484",
     "exception": false,
     "start_time": "2025-01-07T01:39:45.419288",
     "status": "completed"
    },
    "tags": []
   },
   "source": [
    "When the training and validation loss functions are far apart and not reducing, it usually indicates an issue with the model, such as overfitting or underfitting. Overfitting happens when your model learns the details and noise in the training data to an extent that it negatively impacts the performance of the model on new data (i.e., the validation data). Underfitting occurs when the model is too simple to learn the underlying pattern of the data.\n",
    "\n",
    "Reasons for Overfitting or Underfitting\n",
    "Overfitting:\n",
    "The model is too complex with too many parameters.\n",
    "Insufficient amount of training data.\n",
    "Too many training epochs leading to learning detailed noise in the training dataset.\n",
    "Underfitting:\n",
    "The model is too simple to capture the underlying trend of the data.\n",
    "Insufficient training epochs.\n",
    "Poor choice of model hyperparameters."
   ]
  },
  {
   "cell_type": "markdown",
   "id": "0086371a",
   "metadata": {
    "papermill": {
     "duration": 0.015847,
     "end_time": "2025-01-07T01:39:45.470616",
     "exception": false,
     "start_time": "2025-01-07T01:39:45.454769",
     "status": "completed"
    },
    "tags": []
   },
   "source": [
    "### Model Metrics Evaluation"
   ]
  },
  {
   "cell_type": "code",
   "execution_count": 19,
   "id": "e7d93851",
   "metadata": {
    "execution": {
     "iopub.execute_input": "2025-01-07T01:39:45.515321Z",
     "iopub.status.busy": "2025-01-07T01:39:45.514928Z",
     "iopub.status.idle": "2025-01-07T01:39:45.636934Z",
     "shell.execute_reply": "2025-01-07T01:39:45.635594Z"
    },
    "papermill": {
     "duration": 0.145401,
     "end_time": "2025-01-07T01:39:45.638970",
     "exception": false,
     "start_time": "2025-01-07T01:39:45.493569",
     "status": "completed"
    },
    "tags": []
   },
   "outputs": [
    {
     "name": "stdout",
     "output_type": "stream",
     "text": [
      "\u001b[1m1/1\u001b[0m \u001b[32m━━━━━━━━━━━━━━━━━━━━\u001b[0m\u001b[37m\u001b[0m \u001b[1m0s\u001b[0m 58ms/step\n",
      "Root Mean Square Error (RMSE): 0.0670424205099719\n",
      "Mean Absolute Percentage Error (MAPE): 31.447103166826217\n"
     ]
    }
   ],
   "source": [
    "from sklearn.metrics import mean_squared_error\n",
    "\n",
    "def calculate_mape(actual, predicted):\n",
    "    actual, predicted = np.array(actual), np.array(predicted)\n",
    "    return np.mean(np.abs((actual - predicted) / actual)) * 100\n",
    "\n",
    "# Making predictions on test data\n",
    "predicted_volume = model.predict(X_test)\n",
    "predicted_volume = scaler.inverse_transform(predicted_volume)\n",
    "\n",
    "rmse = np.sqrt(mean_squared_error(test['volume_byB'][time_step + 1:], predicted_volume))\n",
    "print(\"Root Mean Square Error (RMSE):\", rmse)\n",
    "\n",
    "mape = calculate_mape(test['volume_byB'][time_step + 1:], predicted_volume)\n",
    "print(\"Mean Absolute Percentage Error (MAPE):\", mape)"
   ]
  },
  {
   "cell_type": "markdown",
   "id": "77c5359d",
   "metadata": {
    "papermill": {
     "duration": 0.025186,
     "end_time": "2025-01-07T01:39:45.681002",
     "exception": false,
     "start_time": "2025-01-07T01:39:45.655816",
     "status": "completed"
    },
    "tags": []
   },
   "source": [
    "Interpretation: An RMSE value of 0.073 means that, on average, the model’s predictions deviate from the actual values by 0.073 units on the scale of the target variable. **The lower the RMSE, the better, as it indicates smaller residuals (errors between observed and predicted values)**. The absolute value should be compared against the range or distribution of the target variables to assess its impact. If your target variable ranges over a wide scale (say 0 to 1 or more), an RMSE of 0.073 could be quite good.\n",
    "\n",
    "Interpretation: A MAPE of 34.66% suggests that the model predictions deviate from the actual values by an average of 34.66% per data point. **High MAPE values indicate less accurate models**. This metric is particularly useful when you want to know how big the error is relative to the size of the numbers in your data. A 34.66% MAPE can be considered high for many applications, indicating that there might be significant errors in some of the model’s predictions or that the model may not perform consistently across the data range."
   ]
  },
  {
   "cell_type": "code",
   "execution_count": 20,
   "id": "cb3d478f",
   "metadata": {
    "execution": {
     "iopub.execute_input": "2025-01-07T01:39:45.723600Z",
     "iopub.status.busy": "2025-01-07T01:39:45.723052Z",
     "iopub.status.idle": "2025-01-07T01:39:45.945998Z",
     "shell.execute_reply": "2025-01-07T01:39:45.944525Z"
    },
    "papermill": {
     "duration": 0.24529,
     "end_time": "2025-01-07T01:39:45.948190",
     "exception": false,
     "start_time": "2025-01-07T01:39:45.702900",
     "status": "completed"
    },
    "tags": []
   },
   "outputs": [
    {
     "name": "stdout",
     "output_type": "stream",
     "text": [
      "\u001b[1m6/6\u001b[0m \u001b[32m━━━━━━━━━━━━━━━━━━━━\u001b[0m\u001b[37m\u001b[0m \u001b[1m0s\u001b[0m 2ms/step \n",
      "\u001b[1m1/1\u001b[0m \u001b[32m━━━━━━━━━━━━━━━━━━━━\u001b[0m\u001b[37m\u001b[0m \u001b[1m0s\u001b[0m 21ms/step\n",
      "Train Score: 0.07 RMSE\n",
      "Test Score: 0.06 RMSE\n"
     ]
    }
   ],
   "source": [
    "# Making predictions\n",
    "train_predict = model.predict(X_train)\n",
    "test_predict = model.predict(X_test)\n",
    "\n",
    "# Invert predictions\n",
    "train_predict = scaler.inverse_transform(train_predict)\n",
    "Y_train_inv = scaler.inverse_transform([y_train])\n",
    "test_predict = scaler.inverse_transform(test_predict)\n",
    "Y_test_inv = scaler.inverse_transform([y_test])\n",
    "\n",
    "# Calculate RMSE\n",
    "from sklearn.metrics import mean_squared_error\n",
    "trainScore = np.sqrt(mean_squared_error(Y_train_inv[0], train_predict[:,0]))\n",
    "print(f'Train Score: {trainScore:.2f} RMSE')\n",
    "testScore = np.sqrt(mean_squared_error(Y_test_inv[0], test_predict[:,0]))\n",
    "print(f'Test Score: {testScore:.2f} RMSE')"
   ]
  },
  {
   "cell_type": "markdown",
   "id": "92688097",
   "metadata": {
    "papermill": {
     "duration": 0.016046,
     "end_time": "2025-01-07T01:39:45.989596",
     "exception": false,
     "start_time": "2025-01-07T01:39:45.973550",
     "status": "completed"
    },
    "tags": []
   },
   "source": [
    "Interpretation of the Results:\n",
    "\n",
    "Train Score: 0.06 RMSE - This score indicates that, on average, the model's predictions on the training data deviate from the actual observed values by 0.06. This suggests that the model fits the training data quite well, assuming the scale of the data is such that a difference of 0.06 is small.\n",
    "\n",
    "Test Score: 0.06 RMSE - This score shows that the model also performs similarly on the test data, with the average deviation of the predictions from the actual values being 0.06. This is particularly important as it suggests that the model generalizes well to new, unseen data, maintaining the same level of performance as observed in the training phase."
   ]
  },
  {
   "cell_type": "markdown",
   "id": "bfdcb0a0",
   "metadata": {
    "papermill": {
     "duration": 0.01624,
     "end_time": "2025-01-07T01:39:46.022251",
     "exception": false,
     "start_time": "2025-01-07T01:39:46.006011",
     "status": "completed"
    },
    "tags": []
   },
   "source": [
    "Overfitting would be indicated by a low training RMSE and a much higher test RMSE."
   ]
  },
  {
   "cell_type": "code",
   "execution_count": 21,
   "id": "ff3ffc39",
   "metadata": {
    "execution": {
     "iopub.execute_input": "2025-01-07T01:39:46.058450Z",
     "iopub.status.busy": "2025-01-07T01:39:46.057908Z",
     "iopub.status.idle": "2025-01-07T01:39:46.456061Z",
     "shell.execute_reply": "2025-01-07T01:39:46.454678Z"
    },
    "papermill": {
     "duration": 0.420198,
     "end_time": "2025-01-07T01:39:46.459421",
     "exception": false,
     "start_time": "2025-01-07T01:39:46.039223",
     "status": "completed"
    },
    "tags": []
   },
   "outputs": [
    {
     "data": {
      "image/png": "[encoded data removed]",
      "text/plain": [
       "<Figure size 1800x600 with 1 Axes>"
      ]
     },
     "metadata": {},
     "output_type": "display_data"
    }
   ],
   "source": [
    "# Plotting the results\n",
    "plt.figure(figsize=(18, 6))\n",
    "plt.plot(test['date'][time_step + 1:], predicted_volume, color='red', label='Predicted Volume')\n",
    "plt.plot(test['date'][time_step + 1:], test['volume_byB'][time_step + 1:], color='blue', label='Actual Volume')\n",
    "plt.title('NVIDIA Stock Trading Volume Prediction')\n",
    "plt.xlabel('Date')\n",
    "plt.ylabel('Volume (in Billions)')\n",
    "plt.legend()\n",
    "plt.show()"
   ]
  },
  {
   "cell_type": "code",
   "execution_count": null,
   "id": "c24e2558",
   "metadata": {
    "papermill": {
     "duration": 0.019757,
     "end_time": "2025-01-07T01:39:46.499665",
     "exception": false,
     "start_time": "2025-01-07T01:39:46.479908",
     "status": "completed"
    },
    "tags": []
   },
   "outputs": [],
   "source": []
  }
 ],
 "metadata": {
  "kaggle": {
   "accelerator": "none",
   "dataSources": [
    {
     "datasetId": 6374997,
     "sourceId": 10299577,
     "sourceType": "datasetVersion"
    }
   ],
   "dockerImageVersionId": 30822,
   "isGpuEnabled": false,
   "isInternetEnabled": true,
   "language": "python",
   "sourceType": "notebook"
  },
  "kernelspec": {
   "display_name": "Python 3",
   "language": "python",
   "name": "python3"
  },
  "language_info": {
   "codemirror_mode": {
    "name": "ipython",
    "version": 3
   },
   "file_extension": ".py",
   "mimetype": "text/x-python",
   "name": "python",
   "nbconvert_exporter": "python",
   "pygments_lexer": "ipython3",
   "version": "3.10.12"
  },
  "papermill": {
   "default_parameters": {},
   "duration": 22.361386,
   "end_time": "2025-01-07T01:39:48.245331",
   "environment_variables": {},
   "exception": null,
   "input_path": "__notebook__.ipynb",
   "output_path": "__notebook__.ipynb",
   "parameters": {},
   "start_time": "2025-01-07T01:39:25.883945",
   "version": "2.6.0"
  }
 },
 "nbformat": 4,
 "nbformat_minor": 5
}
