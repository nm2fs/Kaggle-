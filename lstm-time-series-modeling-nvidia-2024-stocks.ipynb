{
 "cells": [
  {
   "cell_type": "markdown",
   "id": "8c5accd4",
   "metadata": {
    "papermill": {
     "duration": 0.006862,
     "end_time": "2025-01-05T04:18:35.798320",
     "exception": false,
     "start_time": "2025-01-05T04:18:35.791458",
     "status": "completed"
    },
    "tags": []
   },
   "source": [
    "# LSTM Time Series Modeling NVIDIA 2024 Stocks Using TensorFlow:"
   ]
  },
  {
   "cell_type": "code",
   "execution_count": 1,
   "id": "bb2628c4",
   "metadata": {
    "execution": {
     "iopub.execute_input": "2025-01-05T04:18:35.812874Z",
     "iopub.status.busy": "2025-01-05T04:18:35.812437Z",
     "iopub.status.idle": "2025-01-05T04:18:47.553353Z",
     "shell.execute_reply": "2025-01-05T04:18:47.552257Z"
    },
    "papermill": {
     "duration": 11.750368,
     "end_time": "2025-01-05T04:18:47.555416",
     "exception": false,
     "start_time": "2025-01-05T04:18:35.805048",
     "status": "completed"
    },
    "tags": []
   },
   "outputs": [],
   "source": [
    "import pandas as pd\n",
    "import numpy as np\n",
    "from sklearn.preprocessing import MinMaxScaler\n",
    "from sklearn.model_selection import train_test_split\n",
    "from tensorflow.keras.models import Sequential\n",
    "from tensorflow.keras.layers import LSTM, Dense, Dropout\n",
    "import matplotlib.pyplot as plt"
   ]
  },
  {
   "cell_type": "code",
   "execution_count": 2,
   "id": "ff8cd3bd",
   "metadata": {
    "_cell_guid": "b1076dfc-b9ad-4769-8c92-a6c4dae69d19",
    "_uuid": "8f2839f25d086af736a60e9eeb907d3b93b6e0e5",
    "execution": {
     "iopub.execute_input": "2025-01-05T04:18:47.571098Z",
     "iopub.status.busy": "2025-01-05T04:18:47.570323Z",
     "iopub.status.idle": "2025-01-05T04:18:47.582915Z",
     "shell.execute_reply": "2025-01-05T04:18:47.581723Z"
    },
    "papermill": {
     "duration": 0.021611,
     "end_time": "2025-01-05T04:18:47.584630",
     "exception": false,
     "start_time": "2025-01-05T04:18:47.563019",
     "status": "completed"
    },
    "tags": []
   },
   "outputs": [
    {
     "name": "stdout",
     "output_type": "stream",
     "text": [
      "/kaggle/input/nvidia-corporation-2024-stock-market-dataset/NVIDIA 2024 Stock Market Data.csv\n"
     ]
    }
   ],
   "source": [
    "import os\n",
    "for dirname, _, filenames in os.walk('/kaggle/input'):\n",
    "    for filename in filenames:\n",
    "        print(os.path.join(dirname, filename))\n",
    "\n",
    "# You can write up to 20GB to the current directory (/kaggle/working/) that gets preserved as output when you create a version using \"Save & Run All\" \n",
    "# You can also write temporary files to /kaggle/temp/, but they won't be saved outside of the current session"
   ]
  },
  {
   "cell_type": "code",
   "execution_count": 3,
   "id": "fb2ebdb1",
   "metadata": {
    "execution": {
     "iopub.execute_input": "2025-01-05T04:18:47.599178Z",
     "iopub.status.busy": "2025-01-05T04:18:47.598854Z",
     "iopub.status.idle": "2025-01-05T04:18:47.637597Z",
     "shell.execute_reply": "2025-01-05T04:18:47.636411Z"
    },
    "papermill": {
     "duration": 0.048098,
     "end_time": "2025-01-05T04:18:47.639387",
     "exception": false,
     "start_time": "2025-01-05T04:18:47.591289",
     "status": "completed"
    },
    "tags": []
   },
   "outputs": [
    {
     "data": {
      "text/html": [
       "<div>\n",
       "<style scoped>\n",
       "    .dataframe tbody tr th:only-of-type {\n",
       "        vertical-align: middle;\n",
       "    }\n",
       "\n",
       "    .dataframe tbody tr th {\n",
       "        vertical-align: top;\n",
       "    }\n",
       "\n",
       "    .dataframe thead th {\n",
       "        text-align: right;\n",
       "    }\n",
       "</style>\n",
       "<table border=\"1\" class=\"dataframe\">\n",
       "  <thead>\n",
       "    <tr style=\"text-align: right;\">\n",
       "      <th></th>\n",
       "      <th>Date</th>\n",
       "      <th>Close</th>\n",
       "      <th>Open</th>\n",
       "      <th>High</th>\n",
       "      <th>Low</th>\n",
       "      <th>Volume</th>\n",
       "    </tr>\n",
       "  </thead>\n",
       "  <tbody>\n",
       "    <tr>\n",
       "      <th>0</th>\n",
       "      <td>1/2/24</td>\n",
       "      <td>$48.17</td>\n",
       "      <td>$49.24</td>\n",
       "      <td>$49.30</td>\n",
       "      <td>$47.60</td>\n",
       "      <td>411,254,220</td>\n",
       "    </tr>\n",
       "    <tr>\n",
       "      <th>1</th>\n",
       "      <td>1/3/24</td>\n",
       "      <td>$47.57</td>\n",
       "      <td>$47.49</td>\n",
       "      <td>$48.18</td>\n",
       "      <td>$47.32</td>\n",
       "      <td>320,896,170</td>\n",
       "    </tr>\n",
       "    <tr>\n",
       "      <th>2</th>\n",
       "      <td>1/4/24</td>\n",
       "      <td>$48.00</td>\n",
       "      <td>$47.77</td>\n",
       "      <td>$48.50</td>\n",
       "      <td>$47.51</td>\n",
       "      <td>306,534,890</td>\n",
       "    </tr>\n",
       "    <tr>\n",
       "      <th>3</th>\n",
       "      <td>1/5/24</td>\n",
       "      <td>$49.10</td>\n",
       "      <td>$48.46</td>\n",
       "      <td>$49.55</td>\n",
       "      <td>$48.31</td>\n",
       "      <td>415,039,270</td>\n",
       "    </tr>\n",
       "    <tr>\n",
       "      <th>4</th>\n",
       "      <td>1/8/24</td>\n",
       "      <td>$52.25</td>\n",
       "      <td>$49.51</td>\n",
       "      <td>$52.28</td>\n",
       "      <td>$49.48</td>\n",
       "      <td>642,509,900</td>\n",
       "    </tr>\n",
       "    <tr>\n",
       "      <th>...</th>\n",
       "      <td>...</td>\n",
       "      <td>...</td>\n",
       "      <td>...</td>\n",
       "      <td>...</td>\n",
       "      <td>...</td>\n",
       "      <td>...</td>\n",
       "    </tr>\n",
       "    <tr>\n",
       "      <th>243</th>\n",
       "      <td>12/18/24</td>\n",
       "      <td>$128.91</td>\n",
       "      <td>$133.86</td>\n",
       "      <td>$136.70</td>\n",
       "      <td>$128.28</td>\n",
       "      <td>277,444,533</td>\n",
       "    </tr>\n",
       "    <tr>\n",
       "      <th>244</th>\n",
       "      <td>12/19/24</td>\n",
       "      <td>$130.68</td>\n",
       "      <td>$131.76</td>\n",
       "      <td>$134.03</td>\n",
       "      <td>$129.55</td>\n",
       "      <td>209,719,210</td>\n",
       "    </tr>\n",
       "    <tr>\n",
       "      <th>245</th>\n",
       "      <td>12/20/24</td>\n",
       "      <td>$134.70</td>\n",
       "      <td>$129.81</td>\n",
       "      <td>$135.28</td>\n",
       "      <td>$128.22</td>\n",
       "      <td>306,528,553</td>\n",
       "    </tr>\n",
       "    <tr>\n",
       "      <th>246</th>\n",
       "      <td>12/23/24</td>\n",
       "      <td>$139.67</td>\n",
       "      <td>$136.28</td>\n",
       "      <td>$139.79</td>\n",
       "      <td>$135.12</td>\n",
       "      <td>176,053,506</td>\n",
       "    </tr>\n",
       "    <tr>\n",
       "      <th>247</th>\n",
       "      <td>12/24/24</td>\n",
       "      <td>$140.22</td>\n",
       "      <td>$140.00</td>\n",
       "      <td>$141.90</td>\n",
       "      <td>$138.65</td>\n",
       "      <td>105,156,989</td>\n",
       "    </tr>\n",
       "  </tbody>\n",
       "</table>\n",
       "<p>248 rows × 6 columns</p>\n",
       "</div>"
      ],
      "text/plain": [
       "         Date      Close       Open       High        Low       Volume\n",
       "0      1/2/24    $48.17     $49.24     $49.30     $47.60   411,254,220\n",
       "1      1/3/24    $47.57     $47.49     $48.18     $47.32   320,896,170\n",
       "2      1/4/24    $48.00     $47.77     $48.50     $47.51   306,534,890\n",
       "3      1/5/24    $49.10     $48.46     $49.55     $48.31   415,039,270\n",
       "4      1/8/24    $52.25     $49.51     $52.28     $49.48   642,509,900\n",
       "..        ...        ...        ...        ...        ...          ...\n",
       "243  12/18/24   $128.91    $133.86    $136.70    $128.28   277,444,533\n",
       "244  12/19/24   $130.68    $131.76    $134.03    $129.55   209,719,210\n",
       "245  12/20/24   $134.70    $129.81    $135.28    $128.22   306,528,553\n",
       "246  12/23/24   $139.67    $136.28    $139.79    $135.12   176,053,506\n",
       "247  12/24/24   $140.22    $140.00    $141.90    $138.65   105,156,989\n",
       "\n",
       "[248 rows x 6 columns]"
      ]
     },
     "execution_count": 3,
     "metadata": {},
     "output_type": "execute_result"
    }
   ],
   "source": [
    "nvidia_stock = pd.read_csv(\"/kaggle/input/nvidia-corporation-2024-stock-market-dataset/NVIDIA 2024 Stock Market Data.csv\")\n",
    "nvidia_stock"
   ]
  },
  {
   "cell_type": "code",
   "execution_count": 4,
   "id": "9663ce9d",
   "metadata": {
    "execution": {
     "iopub.execute_input": "2025-01-05T04:18:47.654992Z",
     "iopub.status.busy": "2025-01-05T04:18:47.654651Z",
     "iopub.status.idle": "2025-01-05T04:18:47.669055Z",
     "shell.execute_reply": "2025-01-05T04:18:47.668206Z"
    },
    "papermill": {
     "duration": 0.02447,
     "end_time": "2025-01-05T04:18:47.670922",
     "exception": false,
     "start_time": "2025-01-05T04:18:47.646452",
     "status": "completed"
    },
    "tags": []
   },
   "outputs": [
    {
     "data": {
      "text/html": [
       "<div>\n",
       "<style scoped>\n",
       "    .dataframe tbody tr th:only-of-type {\n",
       "        vertical-align: middle;\n",
       "    }\n",
       "\n",
       "    .dataframe tbody tr th {\n",
       "        vertical-align: top;\n",
       "    }\n",
       "\n",
       "    .dataframe thead th {\n",
       "        text-align: right;\n",
       "    }\n",
       "</style>\n",
       "<table border=\"1\" class=\"dataframe\">\n",
       "  <thead>\n",
       "    <tr style=\"text-align: right;\">\n",
       "      <th></th>\n",
       "      <th>date</th>\n",
       "      <th>close</th>\n",
       "      <th>open</th>\n",
       "      <th>high</th>\n",
       "      <th>low</th>\n",
       "      <th>volume</th>\n",
       "    </tr>\n",
       "  </thead>\n",
       "  <tbody>\n",
       "    <tr>\n",
       "      <th>0</th>\n",
       "      <td>1/2/24</td>\n",
       "      <td>$48.17</td>\n",
       "      <td>$49.24</td>\n",
       "      <td>$49.30</td>\n",
       "      <td>$47.60</td>\n",
       "      <td>411,254,220</td>\n",
       "    </tr>\n",
       "    <tr>\n",
       "      <th>1</th>\n",
       "      <td>1/3/24</td>\n",
       "      <td>$47.57</td>\n",
       "      <td>$47.49</td>\n",
       "      <td>$48.18</td>\n",
       "      <td>$47.32</td>\n",
       "      <td>320,896,170</td>\n",
       "    </tr>\n",
       "    <tr>\n",
       "      <th>2</th>\n",
       "      <td>1/4/24</td>\n",
       "      <td>$48.00</td>\n",
       "      <td>$47.77</td>\n",
       "      <td>$48.50</td>\n",
       "      <td>$47.51</td>\n",
       "      <td>306,534,890</td>\n",
       "    </tr>\n",
       "    <tr>\n",
       "      <th>3</th>\n",
       "      <td>1/5/24</td>\n",
       "      <td>$49.10</td>\n",
       "      <td>$48.46</td>\n",
       "      <td>$49.55</td>\n",
       "      <td>$48.31</td>\n",
       "      <td>415,039,270</td>\n",
       "    </tr>\n",
       "    <tr>\n",
       "      <th>4</th>\n",
       "      <td>1/8/24</td>\n",
       "      <td>$52.25</td>\n",
       "      <td>$49.51</td>\n",
       "      <td>$52.28</td>\n",
       "      <td>$49.48</td>\n",
       "      <td>642,509,900</td>\n",
       "    </tr>\n",
       "    <tr>\n",
       "      <th>...</th>\n",
       "      <td>...</td>\n",
       "      <td>...</td>\n",
       "      <td>...</td>\n",
       "      <td>...</td>\n",
       "      <td>...</td>\n",
       "      <td>...</td>\n",
       "    </tr>\n",
       "    <tr>\n",
       "      <th>243</th>\n",
       "      <td>12/18/24</td>\n",
       "      <td>$128.91</td>\n",
       "      <td>$133.86</td>\n",
       "      <td>$136.70</td>\n",
       "      <td>$128.28</td>\n",
       "      <td>277,444,533</td>\n",
       "    </tr>\n",
       "    <tr>\n",
       "      <th>244</th>\n",
       "      <td>12/19/24</td>\n",
       "      <td>$130.68</td>\n",
       "      <td>$131.76</td>\n",
       "      <td>$134.03</td>\n",
       "      <td>$129.55</td>\n",
       "      <td>209,719,210</td>\n",
       "    </tr>\n",
       "    <tr>\n",
       "      <th>245</th>\n",
       "      <td>12/20/24</td>\n",
       "      <td>$134.70</td>\n",
       "      <td>$129.81</td>\n",
       "      <td>$135.28</td>\n",
       "      <td>$128.22</td>\n",
       "      <td>306,528,553</td>\n",
       "    </tr>\n",
       "    <tr>\n",
       "      <th>246</th>\n",
       "      <td>12/23/24</td>\n",
       "      <td>$139.67</td>\n",
       "      <td>$136.28</td>\n",
       "      <td>$139.79</td>\n",
       "      <td>$135.12</td>\n",
       "      <td>176,053,506</td>\n",
       "    </tr>\n",
       "    <tr>\n",
       "      <th>247</th>\n",
       "      <td>12/24/24</td>\n",
       "      <td>$140.22</td>\n",
       "      <td>$140.00</td>\n",
       "      <td>$141.90</td>\n",
       "      <td>$138.65</td>\n",
       "      <td>105,156,989</td>\n",
       "    </tr>\n",
       "  </tbody>\n",
       "</table>\n",
       "<p>248 rows × 6 columns</p>\n",
       "</div>"
      ],
      "text/plain": [
       "         date      close       open       high        low       volume\n",
       "0      1/2/24    $48.17     $49.24     $49.30     $47.60   411,254,220\n",
       "1      1/3/24    $47.57     $47.49     $48.18     $47.32   320,896,170\n",
       "2      1/4/24    $48.00     $47.77     $48.50     $47.51   306,534,890\n",
       "3      1/5/24    $49.10     $48.46     $49.55     $48.31   415,039,270\n",
       "4      1/8/24    $52.25     $49.51     $52.28     $49.48   642,509,900\n",
       "..        ...        ...        ...        ...        ...          ...\n",
       "243  12/18/24   $128.91    $133.86    $136.70    $128.28   277,444,533\n",
       "244  12/19/24   $130.68    $131.76    $134.03    $129.55   209,719,210\n",
       "245  12/20/24   $134.70    $129.81    $135.28    $128.22   306,528,553\n",
       "246  12/23/24   $139.67    $136.28    $139.79    $135.12   176,053,506\n",
       "247  12/24/24   $140.22    $140.00    $141.90    $138.65   105,156,989\n",
       "\n",
       "[248 rows x 6 columns]"
      ]
     },
     "execution_count": 4,
     "metadata": {},
     "output_type": "execute_result"
    }
   ],
   "source": [
    "nvidia_stock.columns = nvidia_stock.columns.str.lower().str.replace(' ', '_')\n",
    "nvidia_stock"
   ]
  },
  {
   "cell_type": "code",
   "execution_count": 5,
   "id": "e442ee05",
   "metadata": {
    "execution": {
     "iopub.execute_input": "2025-01-05T04:18:47.685753Z",
     "iopub.status.busy": "2025-01-05T04:18:47.685317Z",
     "iopub.status.idle": "2025-01-05T04:18:47.720739Z",
     "shell.execute_reply": "2025-01-05T04:18:47.719551Z"
    },
    "papermill": {
     "duration": 0.044918,
     "end_time": "2025-01-05T04:18:47.722722",
     "exception": false,
     "start_time": "2025-01-05T04:18:47.677804",
     "status": "completed"
    },
    "tags": []
   },
   "outputs": [
    {
     "name": "stderr",
     "output_type": "stream",
     "text": [
      "<ipython-input-5-50ee0394dfdd>:1: UserWarning: Could not infer format, so each element will be parsed individually, falling back to `dateutil`. To ensure parsing is consistent and as-expected, please specify a format.\n",
      "  nvidia_stock['date'] = pd.to_datetime(nvidia_stock['date'])\n"
     ]
    },
    {
     "data": {
      "text/html": [
       "<div>\n",
       "<style scoped>\n",
       "    .dataframe tbody tr th:only-of-type {\n",
       "        vertical-align: middle;\n",
       "    }\n",
       "\n",
       "    .dataframe tbody tr th {\n",
       "        vertical-align: top;\n",
       "    }\n",
       "\n",
       "    .dataframe thead th {\n",
       "        text-align: right;\n",
       "    }\n",
       "</style>\n",
       "<table border=\"1\" class=\"dataframe\">\n",
       "  <thead>\n",
       "    <tr style=\"text-align: right;\">\n",
       "      <th></th>\n",
       "      <th>date</th>\n",
       "      <th>close</th>\n",
       "      <th>open</th>\n",
       "      <th>high</th>\n",
       "      <th>low</th>\n",
       "      <th>volume</th>\n",
       "    </tr>\n",
       "  </thead>\n",
       "  <tbody>\n",
       "    <tr>\n",
       "      <th>0</th>\n",
       "      <td>2024-01-02</td>\n",
       "      <td>$48.17</td>\n",
       "      <td>$49.24</td>\n",
       "      <td>$49.30</td>\n",
       "      <td>$47.60</td>\n",
       "      <td>411,254,220</td>\n",
       "    </tr>\n",
       "    <tr>\n",
       "      <th>1</th>\n",
       "      <td>2024-01-03</td>\n",
       "      <td>$47.57</td>\n",
       "      <td>$47.49</td>\n",
       "      <td>$48.18</td>\n",
       "      <td>$47.32</td>\n",
       "      <td>320,896,170</td>\n",
       "    </tr>\n",
       "    <tr>\n",
       "      <th>2</th>\n",
       "      <td>2024-01-04</td>\n",
       "      <td>$48.00</td>\n",
       "      <td>$47.77</td>\n",
       "      <td>$48.50</td>\n",
       "      <td>$47.51</td>\n",
       "      <td>306,534,890</td>\n",
       "    </tr>\n",
       "    <tr>\n",
       "      <th>3</th>\n",
       "      <td>2024-01-05</td>\n",
       "      <td>$49.10</td>\n",
       "      <td>$48.46</td>\n",
       "      <td>$49.55</td>\n",
       "      <td>$48.31</td>\n",
       "      <td>415,039,270</td>\n",
       "    </tr>\n",
       "    <tr>\n",
       "      <th>4</th>\n",
       "      <td>2024-01-08</td>\n",
       "      <td>$52.25</td>\n",
       "      <td>$49.51</td>\n",
       "      <td>$52.28</td>\n",
       "      <td>$49.48</td>\n",
       "      <td>642,509,900</td>\n",
       "    </tr>\n",
       "    <tr>\n",
       "      <th>...</th>\n",
       "      <td>...</td>\n",
       "      <td>...</td>\n",
       "      <td>...</td>\n",
       "      <td>...</td>\n",
       "      <td>...</td>\n",
       "      <td>...</td>\n",
       "    </tr>\n",
       "    <tr>\n",
       "      <th>243</th>\n",
       "      <td>2024-12-18</td>\n",
       "      <td>$128.91</td>\n",
       "      <td>$133.86</td>\n",
       "      <td>$136.70</td>\n",
       "      <td>$128.28</td>\n",
       "      <td>277,444,533</td>\n",
       "    </tr>\n",
       "    <tr>\n",
       "      <th>244</th>\n",
       "      <td>2024-12-19</td>\n",
       "      <td>$130.68</td>\n",
       "      <td>$131.76</td>\n",
       "      <td>$134.03</td>\n",
       "      <td>$129.55</td>\n",
       "      <td>209,719,210</td>\n",
       "    </tr>\n",
       "    <tr>\n",
       "      <th>245</th>\n",
       "      <td>2024-12-20</td>\n",
       "      <td>$134.70</td>\n",
       "      <td>$129.81</td>\n",
       "      <td>$135.28</td>\n",
       "      <td>$128.22</td>\n",
       "      <td>306,528,553</td>\n",
       "    </tr>\n",
       "    <tr>\n",
       "      <th>246</th>\n",
       "      <td>2024-12-23</td>\n",
       "      <td>$139.67</td>\n",
       "      <td>$136.28</td>\n",
       "      <td>$139.79</td>\n",
       "      <td>$135.12</td>\n",
       "      <td>176,053,506</td>\n",
       "    </tr>\n",
       "    <tr>\n",
       "      <th>247</th>\n",
       "      <td>2024-12-24</td>\n",
       "      <td>$140.22</td>\n",
       "      <td>$140.00</td>\n",
       "      <td>$141.90</td>\n",
       "      <td>$138.65</td>\n",
       "      <td>105,156,989</td>\n",
       "    </tr>\n",
       "  </tbody>\n",
       "</table>\n",
       "<p>248 rows × 6 columns</p>\n",
       "</div>"
      ],
      "text/plain": [
       "          date      close       open       high        low       volume\n",
       "0   2024-01-02    $48.17     $49.24     $49.30     $47.60   411,254,220\n",
       "1   2024-01-03    $47.57     $47.49     $48.18     $47.32   320,896,170\n",
       "2   2024-01-04    $48.00     $47.77     $48.50     $47.51   306,534,890\n",
       "3   2024-01-05    $49.10     $48.46     $49.55     $48.31   415,039,270\n",
       "4   2024-01-08    $52.25     $49.51     $52.28     $49.48   642,509,900\n",
       "..         ...        ...        ...        ...        ...          ...\n",
       "243 2024-12-18   $128.91    $133.86    $136.70    $128.28   277,444,533\n",
       "244 2024-12-19   $130.68    $131.76    $134.03    $129.55   209,719,210\n",
       "245 2024-12-20   $134.70    $129.81    $135.28    $128.22   306,528,553\n",
       "246 2024-12-23   $139.67    $136.28    $139.79    $135.12   176,053,506\n",
       "247 2024-12-24   $140.22    $140.00    $141.90    $138.65   105,156,989\n",
       "\n",
       "[248 rows x 6 columns]"
      ]
     },
     "execution_count": 5,
     "metadata": {},
     "output_type": "execute_result"
    }
   ],
   "source": [
    "nvidia_stock['date'] = pd.to_datetime(nvidia_stock['date'])\n",
    "nvidia_stock"
   ]
  },
  {
   "cell_type": "code",
   "execution_count": 6,
   "id": "05cb38c9",
   "metadata": {
    "execution": {
     "iopub.execute_input": "2025-01-05T04:18:47.738845Z",
     "iopub.status.busy": "2025-01-05T04:18:47.738448Z",
     "iopub.status.idle": "2025-01-05T04:18:47.745837Z",
     "shell.execute_reply": "2025-01-05T04:18:47.744700Z"
    },
    "papermill": {
     "duration": 0.017584,
     "end_time": "2025-01-05T04:18:47.747792",
     "exception": false,
     "start_time": "2025-01-05T04:18:47.730208",
     "status": "completed"
    },
    "tags": []
   },
   "outputs": [
    {
     "data": {
      "text/plain": [
       "date      datetime64[ns]\n",
       "close             object\n",
       "open              object\n",
       "high              object\n",
       "low               object\n",
       "volume            object\n",
       "dtype: object"
      ]
     },
     "execution_count": 6,
     "metadata": {},
     "output_type": "execute_result"
    }
   ],
   "source": [
    "nvidia_stock.dtypes"
   ]
  },
  {
   "cell_type": "code",
   "execution_count": 7,
   "id": "6c092558",
   "metadata": {
    "execution": {
     "iopub.execute_input": "2025-01-05T04:18:47.763506Z",
     "iopub.status.busy": "2025-01-05T04:18:47.763181Z",
     "iopub.status.idle": "2025-01-05T04:18:47.776950Z",
     "shell.execute_reply": "2025-01-05T04:18:47.776031Z"
    },
    "papermill": {
     "duration": 0.02336,
     "end_time": "2025-01-05T04:18:47.778463",
     "exception": false,
     "start_time": "2025-01-05T04:18:47.755103",
     "status": "completed"
    },
    "tags": []
   },
   "outputs": [
    {
     "data": {
      "text/html": [
       "<div>\n",
       "<style scoped>\n",
       "    .dataframe tbody tr th:only-of-type {\n",
       "        vertical-align: middle;\n",
       "    }\n",
       "\n",
       "    .dataframe tbody tr th {\n",
       "        vertical-align: top;\n",
       "    }\n",
       "\n",
       "    .dataframe thead th {\n",
       "        text-align: right;\n",
       "    }\n",
       "</style>\n",
       "<table border=\"1\" class=\"dataframe\">\n",
       "  <thead>\n",
       "    <tr style=\"text-align: right;\">\n",
       "      <th></th>\n",
       "      <th>date</th>\n",
       "      <th>close</th>\n",
       "      <th>open</th>\n",
       "      <th>high</th>\n",
       "      <th>low</th>\n",
       "      <th>volume</th>\n",
       "    </tr>\n",
       "  </thead>\n",
       "  <tbody>\n",
       "    <tr>\n",
       "      <th>0</th>\n",
       "      <td>2024-01-02</td>\n",
       "      <td>$48.17</td>\n",
       "      <td>$49.24</td>\n",
       "      <td>$49.30</td>\n",
       "      <td>$47.60</td>\n",
       "      <td>411254220</td>\n",
       "    </tr>\n",
       "    <tr>\n",
       "      <th>1</th>\n",
       "      <td>2024-01-03</td>\n",
       "      <td>$47.57</td>\n",
       "      <td>$47.49</td>\n",
       "      <td>$48.18</td>\n",
       "      <td>$47.32</td>\n",
       "      <td>320896170</td>\n",
       "    </tr>\n",
       "    <tr>\n",
       "      <th>2</th>\n",
       "      <td>2024-01-04</td>\n",
       "      <td>$48.00</td>\n",
       "      <td>$47.77</td>\n",
       "      <td>$48.50</td>\n",
       "      <td>$47.51</td>\n",
       "      <td>306534890</td>\n",
       "    </tr>\n",
       "    <tr>\n",
       "      <th>3</th>\n",
       "      <td>2024-01-05</td>\n",
       "      <td>$49.10</td>\n",
       "      <td>$48.46</td>\n",
       "      <td>$49.55</td>\n",
       "      <td>$48.31</td>\n",
       "      <td>415039270</td>\n",
       "    </tr>\n",
       "    <tr>\n",
       "      <th>4</th>\n",
       "      <td>2024-01-08</td>\n",
       "      <td>$52.25</td>\n",
       "      <td>$49.51</td>\n",
       "      <td>$52.28</td>\n",
       "      <td>$49.48</td>\n",
       "      <td>642509900</td>\n",
       "    </tr>\n",
       "    <tr>\n",
       "      <th>...</th>\n",
       "      <td>...</td>\n",
       "      <td>...</td>\n",
       "      <td>...</td>\n",
       "      <td>...</td>\n",
       "      <td>...</td>\n",
       "      <td>...</td>\n",
       "    </tr>\n",
       "    <tr>\n",
       "      <th>243</th>\n",
       "      <td>2024-12-18</td>\n",
       "      <td>$128.91</td>\n",
       "      <td>$133.86</td>\n",
       "      <td>$136.70</td>\n",
       "      <td>$128.28</td>\n",
       "      <td>277444533</td>\n",
       "    </tr>\n",
       "    <tr>\n",
       "      <th>244</th>\n",
       "      <td>2024-12-19</td>\n",
       "      <td>$130.68</td>\n",
       "      <td>$131.76</td>\n",
       "      <td>$134.03</td>\n",
       "      <td>$129.55</td>\n",
       "      <td>209719210</td>\n",
       "    </tr>\n",
       "    <tr>\n",
       "      <th>245</th>\n",
       "      <td>2024-12-20</td>\n",
       "      <td>$134.70</td>\n",
       "      <td>$129.81</td>\n",
       "      <td>$135.28</td>\n",
       "      <td>$128.22</td>\n",
       "      <td>306528553</td>\n",
       "    </tr>\n",
       "    <tr>\n",
       "      <th>246</th>\n",
       "      <td>2024-12-23</td>\n",
       "      <td>$139.67</td>\n",
       "      <td>$136.28</td>\n",
       "      <td>$139.79</td>\n",
       "      <td>$135.12</td>\n",
       "      <td>176053506</td>\n",
       "    </tr>\n",
       "    <tr>\n",
       "      <th>247</th>\n",
       "      <td>2024-12-24</td>\n",
       "      <td>$140.22</td>\n",
       "      <td>$140.00</td>\n",
       "      <td>$141.90</td>\n",
       "      <td>$138.65</td>\n",
       "      <td>105156989</td>\n",
       "    </tr>\n",
       "  </tbody>\n",
       "</table>\n",
       "<p>248 rows × 6 columns</p>\n",
       "</div>"
      ],
      "text/plain": [
       "          date      close       open       high        low     volume\n",
       "0   2024-01-02    $48.17     $49.24     $49.30     $47.60   411254220\n",
       "1   2024-01-03    $47.57     $47.49     $48.18     $47.32   320896170\n",
       "2   2024-01-04    $48.00     $47.77     $48.50     $47.51   306534890\n",
       "3   2024-01-05    $49.10     $48.46     $49.55     $48.31   415039270\n",
       "4   2024-01-08    $52.25     $49.51     $52.28     $49.48   642509900\n",
       "..         ...        ...        ...        ...        ...        ...\n",
       "243 2024-12-18   $128.91    $133.86    $136.70    $128.28   277444533\n",
       "244 2024-12-19   $130.68    $131.76    $134.03    $129.55   209719210\n",
       "245 2024-12-20   $134.70    $129.81    $135.28    $128.22   306528553\n",
       "246 2024-12-23   $139.67    $136.28    $139.79    $135.12   176053506\n",
       "247 2024-12-24   $140.22    $140.00    $141.90    $138.65   105156989\n",
       "\n",
       "[248 rows x 6 columns]"
      ]
     },
     "execution_count": 7,
     "metadata": {},
     "output_type": "execute_result"
    }
   ],
   "source": [
    "# Replace commas and then convert the column to numeric\n",
    "nvidia_stock['volume'] = nvidia_stock['volume'].str.replace(',', '')\n",
    "nvidia_stock"
   ]
  },
  {
   "cell_type": "code",
   "execution_count": 8,
   "id": "8baa860f",
   "metadata": {
    "execution": {
     "iopub.execute_input": "2025-01-05T04:18:47.794969Z",
     "iopub.status.busy": "2025-01-05T04:18:47.794635Z",
     "iopub.status.idle": "2025-01-05T04:18:47.810043Z",
     "shell.execute_reply": "2025-01-05T04:18:47.808993Z"
    },
    "papermill": {
     "duration": 0.025424,
     "end_time": "2025-01-05T04:18:47.811665",
     "exception": false,
     "start_time": "2025-01-05T04:18:47.786241",
     "status": "completed"
    },
    "tags": []
   },
   "outputs": [
    {
     "name": "stdout",
     "output_type": "stream",
     "text": [
      "Series([], Name: close, dtype: float64)\n",
      "Series([], Name: open, dtype: float64)\n",
      "Series([], Name: high, dtype: float64)\n",
      "Series([], Name: low, dtype: float64)\n"
     ]
    }
   ],
   "source": [
    "import pandas as pd\n",
    "\n",
    "# Attempt to replace the dollar sign and convert to float\n",
    "try:\n",
    "    nvidia_stock['close'] = nvidia_stock['close'].str.replace('$', '').astype(float)\n",
    "except Exception as e:\n",
    "    print(f\"Error: {e}\")\n",
    "try:\n",
    "    nvidia_stock['open'] = nvidia_stock['open'].str.replace('$', '').astype(float)\n",
    "except Exception as e:\n",
    "    print(f\"Error: {e}\")\n",
    "try:\n",
    "    nvidia_stock['high'] = nvidia_stock['high'].str.replace('$', '').astype(float)\n",
    "except Exception as e:\n",
    "    print(f\"Error: {e}\")\n",
    "try:\n",
    "    nvidia_stock['low'] = nvidia_stock['low'].str.replace('$', '').astype(float)\n",
    "except Exception as e:\n",
    "    print(f\"Error: {e}\")\n",
    "\n",
    "# Check if there are any entries that could not be converted\n",
    "print(nvidia_stock['close'][nvidia_stock['close'].apply(lambda x: isinstance(x, str))])\n",
    "print(nvidia_stock['open'][nvidia_stock['open'].apply(lambda x: isinstance(x, str))])\n",
    "print(nvidia_stock['high'][nvidia_stock['high'].apply(lambda x: isinstance(x, str))])\n",
    "print(nvidia_stock['low'][nvidia_stock['low'].apply(lambda x: isinstance(x, str))])\n"
   ]
  },
  {
   "cell_type": "code",
   "execution_count": 9,
   "id": "5f164007",
   "metadata": {
    "execution": {
     "iopub.execute_input": "2025-01-05T04:18:47.829292Z",
     "iopub.status.busy": "2025-01-05T04:18:47.828947Z",
     "iopub.status.idle": "2025-01-05T04:18:47.839847Z",
     "shell.execute_reply": "2025-01-05T04:18:47.837981Z"
    },
    "papermill": {
     "duration": 0.023174,
     "end_time": "2025-01-05T04:18:47.842446",
     "exception": false,
     "start_time": "2025-01-05T04:18:47.819272",
     "status": "completed"
    },
    "tags": []
   },
   "outputs": [
    {
     "data": {
      "text/plain": [
       "date      datetime64[ns]\n",
       "close            float64\n",
       "open             float64\n",
       "high             float64\n",
       "low              float64\n",
       "volume             int64\n",
       "dtype: object"
      ]
     },
     "execution_count": 9,
     "metadata": {},
     "output_type": "execute_result"
    }
   ],
   "source": [
    "# Convert the 'volume' column to numeric, coercing errors to NaN (if any non-convertible values exist)\n",
    "# 'coerce': Any value that cannot be converted to a numeric type (for instance, non-numeric strings) will be changed to NaN (Not a Number). This ensures that the conversion process does not fail and allows the operation to complete, but at the expense of losing the information contained in the non-convertible values.\n",
    "nvidia_stock['volume'] = pd.to_numeric(nvidia_stock['volume'])\n",
    "nvidia_stock['close'] = pd.to_numeric(nvidia_stock['close'])\n",
    "nvidia_stock['open'] = pd.to_numeric(nvidia_stock['open'])\n",
    "nvidia_stock['high'] = pd.to_numeric(nvidia_stock['high'])\n",
    "nvidia_stock['low'] = pd.to_numeric(nvidia_stock['low'])\n",
    "\n",
    "nvidia_stock.dtypes"
   ]
  },
  {
   "cell_type": "code",
   "execution_count": 10,
   "id": "765975d3",
   "metadata": {
    "execution": {
     "iopub.execute_input": "2025-01-05T04:18:47.864023Z",
     "iopub.status.busy": "2025-01-05T04:18:47.863540Z",
     "iopub.status.idle": "2025-01-05T04:18:47.890395Z",
     "shell.execute_reply": "2025-01-05T04:18:47.888724Z"
    },
    "papermill": {
     "duration": 0.040586,
     "end_time": "2025-01-05T04:18:47.892431",
     "exception": false,
     "start_time": "2025-01-05T04:18:47.851845",
     "status": "completed"
    },
    "tags": []
   },
   "outputs": [
    {
     "data": {
      "text/html": [
       "<div>\n",
       "<style scoped>\n",
       "    .dataframe tbody tr th:only-of-type {\n",
       "        vertical-align: middle;\n",
       "    }\n",
       "\n",
       "    .dataframe tbody tr th {\n",
       "        vertical-align: top;\n",
       "    }\n",
       "\n",
       "    .dataframe thead th {\n",
       "        text-align: right;\n",
       "    }\n",
       "</style>\n",
       "<table border=\"1\" class=\"dataframe\">\n",
       "  <thead>\n",
       "    <tr style=\"text-align: right;\">\n",
       "      <th></th>\n",
       "      <th>date</th>\n",
       "      <th>close</th>\n",
       "      <th>open</th>\n",
       "      <th>high</th>\n",
       "      <th>low</th>\n",
       "      <th>volume</th>\n",
       "      <th>volume_byB</th>\n",
       "    </tr>\n",
       "  </thead>\n",
       "  <tbody>\n",
       "    <tr>\n",
       "      <th>0</th>\n",
       "      <td>2024-01-02</td>\n",
       "      <td>48.17</td>\n",
       "      <td>49.24</td>\n",
       "      <td>49.30</td>\n",
       "      <td>47.60</td>\n",
       "      <td>411254220</td>\n",
       "      <td>0.411254</td>\n",
       "    </tr>\n",
       "    <tr>\n",
       "      <th>1</th>\n",
       "      <td>2024-01-03</td>\n",
       "      <td>47.57</td>\n",
       "      <td>47.49</td>\n",
       "      <td>48.18</td>\n",
       "      <td>47.32</td>\n",
       "      <td>320896170</td>\n",
       "      <td>0.320896</td>\n",
       "    </tr>\n",
       "    <tr>\n",
       "      <th>2</th>\n",
       "      <td>2024-01-04</td>\n",
       "      <td>48.00</td>\n",
       "      <td>47.77</td>\n",
       "      <td>48.50</td>\n",
       "      <td>47.51</td>\n",
       "      <td>306534890</td>\n",
       "      <td>0.306535</td>\n",
       "    </tr>\n",
       "    <tr>\n",
       "      <th>3</th>\n",
       "      <td>2024-01-05</td>\n",
       "      <td>49.10</td>\n",
       "      <td>48.46</td>\n",
       "      <td>49.55</td>\n",
       "      <td>48.31</td>\n",
       "      <td>415039270</td>\n",
       "      <td>0.415039</td>\n",
       "    </tr>\n",
       "    <tr>\n",
       "      <th>4</th>\n",
       "      <td>2024-01-08</td>\n",
       "      <td>52.25</td>\n",
       "      <td>49.51</td>\n",
       "      <td>52.28</td>\n",
       "      <td>49.48</td>\n",
       "      <td>642509900</td>\n",
       "      <td>0.642510</td>\n",
       "    </tr>\n",
       "    <tr>\n",
       "      <th>...</th>\n",
       "      <td>...</td>\n",
       "      <td>...</td>\n",
       "      <td>...</td>\n",
       "      <td>...</td>\n",
       "      <td>...</td>\n",
       "      <td>...</td>\n",
       "      <td>...</td>\n",
       "    </tr>\n",
       "    <tr>\n",
       "      <th>243</th>\n",
       "      <td>2024-12-18</td>\n",
       "      <td>128.91</td>\n",
       "      <td>133.86</td>\n",
       "      <td>136.70</td>\n",
       "      <td>128.28</td>\n",
       "      <td>277444533</td>\n",
       "      <td>0.277445</td>\n",
       "    </tr>\n",
       "    <tr>\n",
       "      <th>244</th>\n",
       "      <td>2024-12-19</td>\n",
       "      <td>130.68</td>\n",
       "      <td>131.76</td>\n",
       "      <td>134.03</td>\n",
       "      <td>129.55</td>\n",
       "      <td>209719210</td>\n",
       "      <td>0.209719</td>\n",
       "    </tr>\n",
       "    <tr>\n",
       "      <th>245</th>\n",
       "      <td>2024-12-20</td>\n",
       "      <td>134.70</td>\n",
       "      <td>129.81</td>\n",
       "      <td>135.28</td>\n",
       "      <td>128.22</td>\n",
       "      <td>306528553</td>\n",
       "      <td>0.306529</td>\n",
       "    </tr>\n",
       "    <tr>\n",
       "      <th>246</th>\n",
       "      <td>2024-12-23</td>\n",
       "      <td>139.67</td>\n",
       "      <td>136.28</td>\n",
       "      <td>139.79</td>\n",
       "      <td>135.12</td>\n",
       "      <td>176053506</td>\n",
       "      <td>0.176054</td>\n",
       "    </tr>\n",
       "    <tr>\n",
       "      <th>247</th>\n",
       "      <td>2024-12-24</td>\n",
       "      <td>140.22</td>\n",
       "      <td>140.00</td>\n",
       "      <td>141.90</td>\n",
       "      <td>138.65</td>\n",
       "      <td>105156989</td>\n",
       "      <td>0.105157</td>\n",
       "    </tr>\n",
       "  </tbody>\n",
       "</table>\n",
       "<p>248 rows × 7 columns</p>\n",
       "</div>"
      ],
      "text/plain": [
       "          date   close    open    high     low     volume  volume_byB\n",
       "0   2024-01-02   48.17   49.24   49.30   47.60  411254220    0.411254\n",
       "1   2024-01-03   47.57   47.49   48.18   47.32  320896170    0.320896\n",
       "2   2024-01-04   48.00   47.77   48.50   47.51  306534890    0.306535\n",
       "3   2024-01-05   49.10   48.46   49.55   48.31  415039270    0.415039\n",
       "4   2024-01-08   52.25   49.51   52.28   49.48  642509900    0.642510\n",
       "..         ...     ...     ...     ...     ...        ...         ...\n",
       "243 2024-12-18  128.91  133.86  136.70  128.28  277444533    0.277445\n",
       "244 2024-12-19  130.68  131.76  134.03  129.55  209719210    0.209719\n",
       "245 2024-12-20  134.70  129.81  135.28  128.22  306528553    0.306529\n",
       "246 2024-12-23  139.67  136.28  139.79  135.12  176053506    0.176054\n",
       "247 2024-12-24  140.22  140.00  141.90  138.65  105156989    0.105157\n",
       "\n",
       "[248 rows x 7 columns]"
      ]
     },
     "execution_count": 10,
     "metadata": {},
     "output_type": "execute_result"
    }
   ],
   "source": [
    "nvidia_stock['volume_byB'] = nvidia_stock['volume'] / 1e9\n",
    "nvidia_stock"
   ]
  },
  {
   "cell_type": "code",
   "execution_count": 11,
   "id": "f2ffd69b",
   "metadata": {
    "execution": {
     "iopub.execute_input": "2025-01-05T04:18:47.911461Z",
     "iopub.status.busy": "2025-01-05T04:18:47.911106Z",
     "iopub.status.idle": "2025-01-05T04:18:47.920274Z",
     "shell.execute_reply": "2025-01-05T04:18:47.918492Z"
    },
    "papermill": {
     "duration": 0.022324,
     "end_time": "2025-01-05T04:18:47.923340",
     "exception": false,
     "start_time": "2025-01-05T04:18:47.901016",
     "status": "completed"
    },
    "tags": []
   },
   "outputs": [
    {
     "data": {
      "text/plain": [
       "date          datetime64[ns]\n",
       "close                float64\n",
       "open                 float64\n",
       "high                 float64\n",
       "low                  float64\n",
       "volume                 int64\n",
       "volume_byB           float64\n",
       "dtype: object"
      ]
     },
     "execution_count": 11,
     "metadata": {},
     "output_type": "execute_result"
    }
   ],
   "source": [
    "nvidia_stock.dtypes"
   ]
  },
  {
   "cell_type": "markdown",
   "id": "93b7eb7e",
   "metadata": {
    "papermill": {
     "duration": 0.007961,
     "end_time": "2025-01-05T04:18:47.940886",
     "exception": false,
     "start_time": "2025-01-05T04:18:47.932925",
     "status": "completed"
    },
    "tags": []
   },
   "source": [
    "## Summary"
   ]
  },
  {
   "cell_type": "code",
   "execution_count": 12,
   "id": "8e7fbb3d",
   "metadata": {
    "execution": {
     "iopub.execute_input": "2025-01-05T04:18:47.958444Z",
     "iopub.status.busy": "2025-01-05T04:18:47.958094Z",
     "iopub.status.idle": "2025-01-05T04:18:47.991277Z",
     "shell.execute_reply": "2025-01-05T04:18:47.990034Z"
    },
    "papermill": {
     "duration": 0.044206,
     "end_time": "2025-01-05T04:18:47.993095",
     "exception": false,
     "start_time": "2025-01-05T04:18:47.948889",
     "status": "completed"
    },
    "tags": []
   },
   "outputs": [
    {
     "name": "stdout",
     "output_type": "stream",
     "text": [
      "                                date       close       open        high  \\\n",
      "count                            248  248.000000  248.00000  248.000000   \n",
      "mean   2024-06-28 22:03:52.258064640  107.352137  107.41754  109.373992   \n",
      "min              2024-01-02 00:00:00   47.570000   47.49000   48.180000   \n",
      "25%              2024-04-01 18:00:00   87.687500   87.56000   89.167500   \n",
      "50%              2024-06-29 12:00:00  114.540000  115.18500  116.615000   \n",
      "75%              2024-09-26 06:00:00  129.430000  129.84750  131.672500   \n",
      "max              2024-12-24 00:00:00  148.880000  149.35000  152.890000   \n",
      "std                              NaN   26.911353   27.09345   27.394735   \n",
      "\n",
      "              low        volume  volume_byB  \n",
      "count  248.000000  2.480000e+02  248.000000  \n",
      "mean   105.156573  3.809906e+08    0.380991  \n",
      "min     47.320000  1.051570e+08    0.105157  \n",
      "25%     86.027500  2.565828e+08    0.256583  \n",
      "50%    111.440000  3.573289e+08    0.357329  \n",
      "75%    127.165000  4.767220e+08    0.476722  \n",
      "max    146.260000  1.142269e+09    1.142269  \n",
      "std     26.521472  1.605796e+08    0.160580  \n"
     ]
    }
   ],
   "source": [
    "print(nvidia_stock.describe())"
   ]
  },
  {
   "cell_type": "code",
   "execution_count": 13,
   "id": "87746cd7",
   "metadata": {
    "execution": {
     "iopub.execute_input": "2025-01-05T04:18:48.010707Z",
     "iopub.status.busy": "2025-01-05T04:18:48.010314Z",
     "iopub.status.idle": "2025-01-05T04:18:48.391791Z",
     "shell.execute_reply": "2025-01-05T04:18:48.390705Z"
    },
    "papermill": {
     "duration": 0.392617,
     "end_time": "2025-01-05T04:18:48.393826",
     "exception": false,
     "start_time": "2025-01-05T04:18:48.001209",
     "status": "completed"
    },
    "tags": []
   },
   "outputs": [
    {
     "data": {
      "image/png": "[encoded data removed]",
      "text/plain": [
       "<Figure size 1200x600 with 1 Axes>"
      ]
     },
     "metadata": {},
     "output_type": "display_data"
    }
   ],
   "source": [
    "nvidia_stock.set_index('date')[['volume_byB']].plot(figsize=(12, 6))\n",
    "plt.title('NVIDIA Stock Trading Volume Over Time')\n",
    "plt.xlabel('Date')\n",
    "plt.ylabel('Volume (in Billions)')\n",
    "plt.show()"
   ]
  },
  {
   "cell_type": "markdown",
   "id": "64ff87e6",
   "metadata": {
    "papermill": {
     "duration": 0.009292,
     "end_time": "2025-01-05T04:18:48.413122",
     "exception": false,
     "start_time": "2025-01-05T04:18:48.403830",
     "status": "completed"
    },
    "tags": []
   },
   "source": [
    "## ML Modeling (LSTM)"
   ]
  },
  {
   "cell_type": "markdown",
   "id": "f0b164e7",
   "metadata": {
    "papermill": {
     "duration": 0.009696,
     "end_time": "2025-01-05T04:18:48.432264",
     "exception": false,
     "start_time": "2025-01-05T04:18:48.422568",
     "status": "completed"
    },
    "tags": []
   },
   "source": [
    "### Splitting"
   ]
  },
  {
   "cell_type": "code",
   "execution_count": 14,
   "id": "c664718e",
   "metadata": {
    "execution": {
     "iopub.execute_input": "2025-01-05T04:18:48.453650Z",
     "iopub.status.busy": "2025-01-05T04:18:48.453220Z",
     "iopub.status.idle": "2025-01-05T04:18:48.464532Z",
     "shell.execute_reply": "2025-01-05T04:18:48.463409Z"
    },
    "papermill": {
     "duration": 0.024389,
     "end_time": "2025-01-05T04:18:48.466434",
     "exception": false,
     "start_time": "2025-01-05T04:18:48.442045",
     "status": "completed"
    },
    "tags": []
   },
   "outputs": [],
   "source": [
    "train_size = int(len(nvidia_stock) * 0.8)\n",
    "train, test = nvidia_stock[:train_size], nvidia_stock[train_size:]\n",
    "\n",
    "# Normalizing the volume data\n",
    "scaler = MinMaxScaler(feature_range=(0, 1))\n",
    "train_scaled = scaler.fit_transform(train[['volume_byB']])\n",
    "test_scaled = scaler.transform(test[['volume_byB']])"
   ]
  },
  {
   "cell_type": "markdown",
   "id": "7db5a41a",
   "metadata": {
    "papermill": {
     "duration": 0.009621,
     "end_time": "2025-01-05T04:18:48.486021",
     "exception": false,
     "start_time": "2025-01-05T04:18:48.476400",
     "status": "completed"
    },
    "tags": []
   },
   "source": [
    "### Processing"
   ]
  },
  {
   "cell_type": "code",
   "execution_count": 15,
   "id": "6ee736fc",
   "metadata": {
    "execution": {
     "iopub.execute_input": "2025-01-05T04:18:48.509098Z",
     "iopub.status.busy": "2025-01-05T04:18:48.508762Z",
     "iopub.status.idle": "2025-01-05T04:18:48.515410Z",
     "shell.execute_reply": "2025-01-05T04:18:48.514560Z"
    },
    "papermill": {
     "duration": 0.020872,
     "end_time": "2025-01-05T04:18:48.517173",
     "exception": false,
     "start_time": "2025-01-05T04:18:48.496301",
     "status": "completed"
    },
    "tags": []
   },
   "outputs": [],
   "source": [
    "def create_dataset(data, time_step=1):\n",
    "    X, y = [], []\n",
    "    for i in range(len(data) - time_step - 1):\n",
    "        X.append(data[i:(i + time_step), 0])\n",
    "        y.append(data[i + time_step, 0])\n",
    "    return np.array(X), np.array(y)\n",
    "\n",
    "time_step = 30  # Using the past 30 days to predict the next day\n",
    "X_train, y_train = create_dataset(train_scaled, time_step)\n",
    "X_test, y_test = create_dataset(test_scaled, time_step)\n",
    "\n",
    "X_train = X_train.reshape(X_train.shape[0], X_train.shape[1], 1)\n",
    "X_test = X_test.reshape(X_test.shape[0], X_test.shape[1], 1)"
   ]
  },
  {
   "cell_type": "markdown",
   "id": "936f1673",
   "metadata": {
    "papermill": {
     "duration": 0.009323,
     "end_time": "2025-01-05T04:18:48.536506",
     "exception": false,
     "start_time": "2025-01-05T04:18:48.527183",
     "status": "completed"
    },
    "tags": []
   },
   "source": [
    "### LSTM Model Building"
   ]
  },
  {
   "cell_type": "code",
   "execution_count": 16,
   "id": "c66f4fd1",
   "metadata": {
    "execution": {
     "iopub.execute_input": "2025-01-05T04:18:48.557339Z",
     "iopub.status.busy": "2025-01-05T04:18:48.557021Z",
     "iopub.status.idle": "2025-01-05T04:18:52.232927Z",
     "shell.execute_reply": "2025-01-05T04:18:52.231652Z"
    },
    "papermill": {
     "duration": 3.68873,
     "end_time": "2025-01-05T04:18:52.234977",
     "exception": false,
     "start_time": "2025-01-05T04:18:48.546247",
     "status": "completed"
    },
    "tags": []
   },
   "outputs": [
    {
     "name": "stderr",
     "output_type": "stream",
     "text": [
      "/usr/local/lib/python3.10/dist-packages/keras/src/layers/core/dense.py:87: UserWarning: Do not pass an `input_shape`/`input_dim` argument to a layer. When using Sequential models, prefer using an `Input(shape)` object as the first layer in the model instead.\n",
      "  super().__init__(activity_regularizer=activity_regularizer, **kwargs)\n"
     ]
    },
    {
     "name": "stdout",
     "output_type": "stream",
     "text": [
      "Epoch 1/30\n",
      "\u001b[1m6/6\u001b[0m \u001b[32m━━━━━━━━━━━━━━━━━━━━\u001b[0m\u001b[37m\u001b[0m \u001b[1m1s\u001b[0m 35ms/step - loss: 0.0845 - val_loss: 0.0101\n",
      "Epoch 2/30\n",
      "\u001b[1m6/6\u001b[0m \u001b[32m━━━━━━━━━━━━━━━━━━━━\u001b[0m\u001b[37m\u001b[0m \u001b[1m0s\u001b[0m 7ms/step - loss: 0.0504 - val_loss: 0.0037\n",
      "Epoch 3/30\n",
      "\u001b[1m6/6\u001b[0m \u001b[32m━━━━━━━━━━━━━━━━━━━━\u001b[0m\u001b[37m\u001b[0m \u001b[1m0s\u001b[0m 7ms/step - loss: 0.0203 - val_loss: 0.0023\n",
      "Epoch 4/30\n",
      "\u001b[1m6/6\u001b[0m \u001b[32m━━━━━━━━━━━━━━━━━━━━\u001b[0m\u001b[37m\u001b[0m \u001b[1m0s\u001b[0m 7ms/step - loss: 0.0269 - val_loss: 0.0029\n",
      "Epoch 5/30\n",
      "\u001b[1m6/6\u001b[0m \u001b[32m━━━━━━━━━━━━━━━━━━━━\u001b[0m\u001b[37m\u001b[0m \u001b[1m0s\u001b[0m 7ms/step - loss: 0.0170 - val_loss: 0.0037\n",
      "Epoch 6/30\n",
      "\u001b[1m6/6\u001b[0m \u001b[32m━━━━━━━━━━━━━━━━━━━━\u001b[0m\u001b[37m\u001b[0m \u001b[1m0s\u001b[0m 7ms/step - loss: 0.0157 - val_loss: 0.0027\n",
      "Epoch 7/30\n",
      "\u001b[1m6/6\u001b[0m \u001b[32m━━━━━━━━━━━━━━━━━━━━\u001b[0m\u001b[37m\u001b[0m \u001b[1m0s\u001b[0m 7ms/step - loss: 0.0143 - val_loss: 0.0029\n",
      "Epoch 8/30\n",
      "\u001b[1m6/6\u001b[0m \u001b[32m━━━━━━━━━━━━━━━━━━━━\u001b[0m\u001b[37m\u001b[0m \u001b[1m0s\u001b[0m 8ms/step - loss: 0.0133 - val_loss: 0.0034\n",
      "Epoch 9/30\n",
      "\u001b[1m6/6\u001b[0m \u001b[32m━━━━━━━━━━━━━━━━━━━━\u001b[0m\u001b[37m\u001b[0m \u001b[1m0s\u001b[0m 7ms/step - loss: 0.0103 - val_loss: 0.0031\n",
      "Epoch 10/30\n",
      "\u001b[1m6/6\u001b[0m \u001b[32m━━━━━━━━━━━━━━━━━━━━\u001b[0m\u001b[37m\u001b[0m \u001b[1m0s\u001b[0m 7ms/step - loss: 0.0089 - val_loss: 0.0035\n",
      "Epoch 11/30\n",
      "\u001b[1m6/6\u001b[0m \u001b[32m━━━━━━━━━━━━━━━━━━━━\u001b[0m\u001b[37m\u001b[0m \u001b[1m0s\u001b[0m 7ms/step - loss: 0.0113 - val_loss: 0.0034\n",
      "Epoch 12/30\n",
      "\u001b[1m6/6\u001b[0m \u001b[32m━━━━━━━━━━━━━━━━━━━━\u001b[0m\u001b[37m\u001b[0m \u001b[1m0s\u001b[0m 7ms/step - loss: 0.0102 - val_loss: 0.0029\n",
      "Epoch 13/30\n",
      "\u001b[1m6/6\u001b[0m \u001b[32m━━━━━━━━━━━━━━━━━━━━\u001b[0m\u001b[37m\u001b[0m \u001b[1m0s\u001b[0m 8ms/step - loss: 0.0127 - val_loss: 0.0032\n",
      "Epoch 14/30\n",
      "\u001b[1m6/6\u001b[0m \u001b[32m━━━━━━━━━━━━━━━━━━━━\u001b[0m\u001b[37m\u001b[0m \u001b[1m0s\u001b[0m 8ms/step - loss: 0.0091 - val_loss: 0.0031\n",
      "Epoch 15/30\n",
      "\u001b[1m6/6\u001b[0m \u001b[32m━━━━━━━━━━━━━━━━━━━━\u001b[0m\u001b[37m\u001b[0m \u001b[1m0s\u001b[0m 7ms/step - loss: 0.0089 - val_loss: 0.0032\n",
      "Epoch 16/30\n",
      "\u001b[1m6/6\u001b[0m \u001b[32m━━━━━━━━━━━━━━━━━━━━\u001b[0m\u001b[37m\u001b[0m \u001b[1m0s\u001b[0m 8ms/step - loss: 0.0087 - val_loss: 0.0029\n",
      "Epoch 17/30\n",
      "\u001b[1m6/6\u001b[0m \u001b[32m━━━━━━━━━━━━━━━━━━━━\u001b[0m\u001b[37m\u001b[0m \u001b[1m0s\u001b[0m 8ms/step - loss: 0.0104 - val_loss: 0.0032\n",
      "Epoch 18/30\n",
      "\u001b[1m6/6\u001b[0m \u001b[32m━━━━━━━━━━━━━━━━━━━━\u001b[0m\u001b[37m\u001b[0m \u001b[1m0s\u001b[0m 8ms/step - loss: 0.0090 - val_loss: 0.0029\n",
      "Epoch 19/30\n",
      "\u001b[1m6/6\u001b[0m \u001b[32m━━━━━━━━━━━━━━━━━━━━\u001b[0m\u001b[37m\u001b[0m \u001b[1m0s\u001b[0m 7ms/step - loss: 0.0085 - val_loss: 0.0034\n",
      "Epoch 20/30\n",
      "\u001b[1m6/6\u001b[0m \u001b[32m━━━━━━━━━━━━━━━━━━━━\u001b[0m\u001b[37m\u001b[0m \u001b[1m0s\u001b[0m 9ms/step - loss: 0.0090 - val_loss: 0.0031\n",
      "Epoch 21/30\n",
      "\u001b[1m6/6\u001b[0m \u001b[32m━━━━━━━━━━━━━━━━━━━━\u001b[0m\u001b[37m\u001b[0m \u001b[1m0s\u001b[0m 7ms/step - loss: 0.0093 - val_loss: 0.0031\n",
      "Epoch 22/30\n",
      "\u001b[1m6/6\u001b[0m \u001b[32m━━━━━━━━━━━━━━━━━━━━\u001b[0m\u001b[37m\u001b[0m \u001b[1m0s\u001b[0m 7ms/step - loss: 0.0067 - val_loss: 0.0035\n",
      "Epoch 23/30\n",
      "\u001b[1m6/6\u001b[0m \u001b[32m━━━━━━━━━━━━━━━━━━━━\u001b[0m\u001b[37m\u001b[0m \u001b[1m0s\u001b[0m 9ms/step - loss: 0.0071 - val_loss: 0.0032\n",
      "Epoch 24/30\n",
      "\u001b[1m6/6\u001b[0m \u001b[32m━━━━━━━━━━━━━━━━━━━━\u001b[0m\u001b[37m\u001b[0m \u001b[1m0s\u001b[0m 7ms/step - loss: 0.0071 - val_loss: 0.0041\n",
      "Epoch 25/30\n",
      "\u001b[1m6/6\u001b[0m \u001b[32m━━━━━━━━━━━━━━━━━━━━\u001b[0m\u001b[37m\u001b[0m \u001b[1m0s\u001b[0m 8ms/step - loss: 0.0075 - val_loss: 0.0034\n",
      "Epoch 26/30\n",
      "\u001b[1m6/6\u001b[0m \u001b[32m━━━━━━━━━━━━━━━━━━━━\u001b[0m\u001b[37m\u001b[0m \u001b[1m0s\u001b[0m 8ms/step - loss: 0.0076 - val_loss: 0.0038\n",
      "Epoch 27/30\n",
      "\u001b[1m6/6\u001b[0m \u001b[32m━━━━━━━━━━━━━━━━━━━━\u001b[0m\u001b[37m\u001b[0m \u001b[1m0s\u001b[0m 7ms/step - loss: 0.0070 - val_loss: 0.0036\n",
      "Epoch 28/30\n",
      "\u001b[1m6/6\u001b[0m \u001b[32m━━━━━━━━━━━━━━━━━━━━\u001b[0m\u001b[37m\u001b[0m \u001b[1m0s\u001b[0m 7ms/step - loss: 0.0061 - val_loss: 0.0038\n",
      "Epoch 29/30\n",
      "\u001b[1m6/6\u001b[0m \u001b[32m━━━━━━━━━━━━━━━━━━━━\u001b[0m\u001b[37m\u001b[0m \u001b[1m0s\u001b[0m 7ms/step - loss: 0.0059 - val_loss: 0.0037\n",
      "Epoch 30/30\n",
      "\u001b[1m6/6\u001b[0m \u001b[32m━━━━━━━━━━━━━━━━━━━━\u001b[0m\u001b[37m\u001b[0m \u001b[1m0s\u001b[0m 7ms/step - loss: 0.0057 - val_loss: 0.0039\n"
     ]
    }
   ],
   "source": [
    "# # Simplifying the model if overfitting\n",
    "# model = Sequential()\n",
    "# model.add(LSTM(32, input_shape=(X_train.shape[1], 1)))  # Reduced number of units\n",
    "# model.add(Dense(1))\n",
    "\n",
    "# model.compile(optimizer='adam', loss='mean_squared_error')\n",
    "\n",
    "# Or, enhancing the model if underfitting\n",
    "model = Sequential([\n",
    "    Dense(128, activation='relu', input_shape=(X_train.shape[1],)),\n",
    "    Dense(128, activation='relu'),\n",
    "    Dense(1)\n",
    "])\n",
    "\n",
    "# Example of increasing epochs and adjusting learning rate\n",
    "from tensorflow.keras.optimizers import Adam\n",
    "\n",
    "optimizer = Adam(learning_rate=0.001)\n",
    "model.compile(optimizer=optimizer, loss='mean_squared_error')\n",
    "history = model.fit(X_train, y_train, epochs=30, batch_size=32, validation_data=(X_test, y_test))\n",
    "\n",
    "\n",
    "model.compile(optimizer='adam', loss='mean_squared_error')\n"
   ]
  },
  {
   "cell_type": "markdown",
   "id": "590367e8",
   "metadata": {
    "papermill": {
     "duration": 0.015241,
     "end_time": "2025-01-05T04:18:52.265474",
     "exception": false,
     "start_time": "2025-01-05T04:18:52.250233",
     "status": "completed"
    },
    "tags": []
   },
   "source": [
    "### Train LSTM"
   ]
  },
  {
   "cell_type": "code",
   "execution_count": 17,
   "id": "a51a57fe",
   "metadata": {
    "execution": {
     "iopub.execute_input": "2025-01-05T04:18:52.298611Z",
     "iopub.status.busy": "2025-01-05T04:18:52.298202Z",
     "iopub.status.idle": "2025-01-05T04:18:52.302702Z",
     "shell.execute_reply": "2025-01-05T04:18:52.301324Z"
    },
    "papermill": {
     "duration": 0.022567,
     "end_time": "2025-01-05T04:18:52.304846",
     "exception": false,
     "start_time": "2025-01-05T04:18:52.282279",
     "status": "completed"
    },
    "tags": []
   },
   "outputs": [],
   "source": [
    "#Early Stopping\n",
    "#Use early stopping to halt the training process once the model performance stops improving on the validation data.\n",
    "\n",
    "# from tensorflow.keras.callbacks import EarlyStopping\n",
    "\n",
    "# # Setup early stopping\n",
    "# early_stop = EarlyStopping(monitor='val_loss', patience=10, restore_best_weights=True)\n",
    "\n",
    "# # Fit the model with early stopping\n",
    "# history = model.fit(X_train, y_train, epochs=100, batch_size=32, \n",
    "#                     validation_data=(X_test, y_test), callbacks=[early_stop], verbose=1)\n"
   ]
  },
  {
   "cell_type": "markdown",
   "id": "51062a1d",
   "metadata": {
    "papermill": {
     "duration": 0.014999,
     "end_time": "2025-01-05T04:18:52.336195",
     "exception": false,
     "start_time": "2025-01-05T04:18:52.321196",
     "status": "completed"
    },
    "tags": []
   },
   "source": [
    "Overfitting: The training loss decreases continuously, while the validation loss decreases initially but then increases.\n",
    "Underfitting: Both training and validation losses are high, and they decrease very slowly or plateau early."
   ]
  },
  {
   "cell_type": "code",
   "execution_count": 18,
   "id": "93ad869d",
   "metadata": {
    "execution": {
     "iopub.execute_input": "2025-01-05T04:18:52.367443Z",
     "iopub.status.busy": "2025-01-05T04:18:52.367121Z",
     "iopub.status.idle": "2025-01-05T04:18:52.600038Z",
     "shell.execute_reply": "2025-01-05T04:18:52.598964Z"
    },
    "papermill": {
     "duration": 0.250526,
     "end_time": "2025-01-05T04:18:52.601877",
     "exception": false,
     "start_time": "2025-01-05T04:18:52.351351",
     "status": "completed"
    },
    "tags": []
   },
   "outputs": [
    {
     "data": {
      "image/png": "[encoded data removed]",
      "text/plain": [
       "<Figure size 1000x500 with 1 Axes>"
      ]
     },
     "metadata": {},
     "output_type": "display_data"
    }
   ],
   "source": [
    "import matplotlib.pyplot as plt\n",
    "\n",
    "# Plot training & validation loss values\n",
    "plt.figure(figsize=(10, 5))\n",
    "plt.plot(history.history['loss'], label='Train Loss')\n",
    "if 'val_loss' in history.history:\n",
    "    plt.plot(history.history['val_loss'], label='Validation Loss')\n",
    "plt.title('Model Loss Progress During Training')\n",
    "plt.ylabel('Loss')\n",
    "plt.xlabel('Epoch')\n",
    "plt.legend(['Train', 'Validation'], loc='upper right')\n",
    "plt.show()\n"
   ]
  },
  {
   "cell_type": "markdown",
   "id": "b78dd352",
   "metadata": {
    "papermill": {
     "duration": 0.015513,
     "end_time": "2025-01-05T04:18:52.633734",
     "exception": false,
     "start_time": "2025-01-05T04:18:52.618221",
     "status": "completed"
    },
    "tags": []
   },
   "source": [
    "When the training and validation loss functions are far apart and not reducing, it usually indicates an issue with the model, such as overfitting or underfitting. Overfitting happens when your model learns the details and noise in the training data to an extent that it negatively impacts the performance of the model on new data (i.e., the validation data). Underfitting occurs when the model is too simple to learn the underlying pattern of the data.\n",
    "\n",
    "Reasons for Overfitting or Underfitting\n",
    "Overfitting:\n",
    "The model is too complex with too many parameters.\n",
    "Insufficient amount of training data.\n",
    "Too many training epochs leading to learning detailed noise in the training dataset.\n",
    "Underfitting:\n",
    "The model is too simple to capture the underlying trend of the data.\n",
    "Insufficient training epochs.\n",
    "Poor choice of model hyperparameters."
   ]
  },
  {
   "cell_type": "markdown",
   "id": "89e59fe9",
   "metadata": {
    "papermill": {
     "duration": 0.015172,
     "end_time": "2025-01-05T04:18:52.664955",
     "exception": false,
     "start_time": "2025-01-05T04:18:52.649783",
     "status": "completed"
    },
    "tags": []
   },
   "source": [
    "### Model Metrics Evaluation"
   ]
  },
  {
   "cell_type": "code",
   "execution_count": 19,
   "id": "71d49b71",
   "metadata": {
    "execution": {
     "iopub.execute_input": "2025-01-05T04:18:52.696941Z",
     "iopub.status.busy": "2025-01-05T04:18:52.696539Z",
     "iopub.status.idle": "2025-01-05T04:18:52.806603Z",
     "shell.execute_reply": "2025-01-05T04:18:52.805496Z"
    },
    "papermill": {
     "duration": 0.128015,
     "end_time": "2025-01-05T04:18:52.808349",
     "exception": false,
     "start_time": "2025-01-05T04:18:52.680334",
     "status": "completed"
    },
    "tags": []
   },
   "outputs": [
    {
     "name": "stdout",
     "output_type": "stream",
     "text": [
      "\u001b[1m1/1\u001b[0m \u001b[32m━━━━━━━━━━━━━━━━━━━━\u001b[0m\u001b[37m\u001b[0m \u001b[1m0s\u001b[0m 52ms/step\n",
      "Root Mean Square Error (RMSE): 0.07022898803805169\n",
      "Mean Absolute Percentage Error (MAPE): 32.329423218681455\n"
     ]
    }
   ],
   "source": [
    "from sklearn.metrics import mean_squared_error\n",
    "\n",
    "def calculate_mape(actual, predicted):\n",
    "    actual, predicted = np.array(actual), np.array(predicted)\n",
    "    return np.mean(np.abs((actual - predicted) / actual)) * 100\n",
    "\n",
    "# Making predictions on test data\n",
    "predicted_volume = model.predict(X_test)\n",
    "predicted_volume = scaler.inverse_transform(predicted_volume)\n",
    "\n",
    "rmse = np.sqrt(mean_squared_error(test['volume_byB'][time_step + 1:], predicted_volume))\n",
    "print(\"Root Mean Square Error (RMSE):\", rmse)\n",
    "\n",
    "mape = calculate_mape(test['volume_byB'][time_step + 1:], predicted_volume)\n",
    "print(\"Mean Absolute Percentage Error (MAPE):\", mape)"
   ]
  },
  {
   "cell_type": "markdown",
   "id": "2a5dd911",
   "metadata": {
    "papermill": {
     "duration": 0.015399,
     "end_time": "2025-01-05T04:18:52.839604",
     "exception": false,
     "start_time": "2025-01-05T04:18:52.824205",
     "status": "completed"
    },
    "tags": []
   },
   "source": [
    "Interpretation: An RMSE value of 0.059 means that, on average, the model’s predictions deviate from the actual values by 0.059 units on the scale of the target variable. The lower the RMSE, the better, as it indicates smaller residuals (errors between observed and predicted values). The absolute value should be compared against the range or distribution of the target variables to assess its impact. If your target variable ranges over a wide scale (say 0 to 1 or more), an RMSE of 0.059 could be quite good.\n",
    "\n",
    "Interpretation: A MAPE of 26.797% suggests that the model predictions deviate from the actual values by an average of 26.797% per data point. High MAPE values indicate less accurate models. This metric is particularly useful when you want to know how big the error is relative to the size of the numbers in your data. A 26.797% MAPE can be considered high for many applications, indicating that there might be significant errors in some of the model’s predictions or that the model may not perform consistently across the data range."
   ]
  },
  {
   "cell_type": "code",
   "execution_count": 20,
   "id": "03372ef1",
   "metadata": {
    "execution": {
     "iopub.execute_input": "2025-01-05T04:18:52.873607Z",
     "iopub.status.busy": "2025-01-05T04:18:52.873228Z",
     "iopub.status.idle": "2025-01-05T04:18:53.070946Z",
     "shell.execute_reply": "2025-01-05T04:18:53.069754Z"
    },
    "papermill": {
     "duration": 0.217912,
     "end_time": "2025-01-05T04:18:53.072871",
     "exception": false,
     "start_time": "2025-01-05T04:18:52.854959",
     "status": "completed"
    },
    "tags": []
   },
   "outputs": [
    {
     "name": "stdout",
     "output_type": "stream",
     "text": [
      "\u001b[1m6/6\u001b[0m \u001b[32m━━━━━━━━━━━━━━━━━━━━\u001b[0m\u001b[37m\u001b[0m \u001b[1m0s\u001b[0m 2ms/step \n",
      "\u001b[1m1/1\u001b[0m \u001b[32m━━━━━━━━━━━━━━━━━━━━\u001b[0m\u001b[37m\u001b[0m \u001b[1m0s\u001b[0m 21ms/step\n",
      "Train Score: 0.07 RMSE\n",
      "Test Score: 0.06 RMSE\n"
     ]
    }
   ],
   "source": [
    "# Making predictions\n",
    "train_predict = model.predict(X_train)\n",
    "test_predict = model.predict(X_test)\n",
    "\n",
    "# Invert predictions\n",
    "train_predict = scaler.inverse_transform(train_predict)\n",
    "Y_train_inv = scaler.inverse_transform([y_train])\n",
    "test_predict = scaler.inverse_transform(test_predict)\n",
    "Y_test_inv = scaler.inverse_transform([y_test])\n",
    "\n",
    "# Calculate RMSE\n",
    "from sklearn.metrics import mean_squared_error\n",
    "trainScore = np.sqrt(mean_squared_error(Y_train_inv[0], train_predict[:,0]))\n",
    "print(f'Train Score: {trainScore:.2f} RMSE')\n",
    "testScore = np.sqrt(mean_squared_error(Y_test_inv[0], test_predict[:,0]))\n",
    "print(f'Test Score: {testScore:.2f} RMSE')"
   ]
  },
  {
   "cell_type": "markdown",
   "id": "1dccbdb3",
   "metadata": {
    "papermill": {
     "duration": 0.01655,
     "end_time": "2025-01-05T04:18:53.106423",
     "exception": false,
     "start_time": "2025-01-05T04:18:53.089873",
     "status": "completed"
    },
    "tags": []
   },
   "source": [
    "Overfitting would be indicated by a low training RMSE and a much higher test RMSE."
   ]
  },
  {
   "cell_type": "code",
   "execution_count": 21,
   "id": "a0b0c95f",
   "metadata": {
    "execution": {
     "iopub.execute_input": "2025-01-05T04:18:53.140047Z",
     "iopub.status.busy": "2025-01-05T04:18:53.139673Z",
     "iopub.status.idle": "2025-01-05T04:18:53.491948Z",
     "shell.execute_reply": "2025-01-05T04:18:53.490666Z"
    },
    "papermill": {
     "duration": 0.371084,
     "end_time": "2025-01-05T04:18:53.493858",
     "exception": false,
     "start_time": "2025-01-05T04:18:53.122774",
     "status": "completed"
    },
    "tags": []
   },
   "outputs": [
    {
     "data": {
      "image/png": "[encoded data removed]",
      "text/plain": [
       "<Figure size 1200x600 with 1 Axes>"
      ]
     },
     "metadata": {},
     "output_type": "display_data"
    }
   ],
   "source": [
    "# Plotting the results\n",
    "plt.figure(figsize=(12, 6))\n",
    "plt.plot(test['date'][time_step + 1:], predicted_volume, color='red', label='Predicted Volume')\n",
    "plt.plot(test['date'][time_step + 1:], test['volume_byB'][time_step + 1:], color='blue', label='Actual Volume')\n",
    "plt.title('NVIDIA Stock Trading Volume Prediction')\n",
    "plt.xlabel('Date')\n",
    "plt.ylabel('Volume (in Billions)')\n",
    "plt.legend()\n",
    "plt.show()"
   ]
  },
  {
   "cell_type": "code",
   "execution_count": null,
   "id": "0bb62950",
   "metadata": {
    "papermill": {
     "duration": 0.019537,
     "end_time": "2025-01-05T04:18:53.531450",
     "exception": false,
     "start_time": "2025-01-05T04:18:53.511913",
     "status": "completed"
    },
    "tags": []
   },
   "outputs": [],
   "source": []
  }
 ],
 "metadata": {
  "kaggle": {
   "accelerator": "none",
   "dataSources": [
    {
     "datasetId": 6374997,
     "sourceId": 10299577,
     "sourceType": "datasetVersion"
    }
   ],
   "dockerImageVersionId": 30822,
   "isGpuEnabled": false,
   "isInternetEnabled": true,
   "language": "python",
   "sourceType": "notebook"
  },
  "kernelspec": {
   "display_name": "Python 3",
   "language": "python",
   "name": "python3"
  },
  "language_info": {
   "codemirror_mode": {
    "name": "ipython",
    "version": 3
   },
   "file_extension": ".py",
   "mimetype": "text/x-python",
   "name": "python",
   "nbconvert_exporter": "python",
   "pygments_lexer": "ipython3",
   "version": "3.10.12"
  },
  "papermill": {
   "default_parameters": {},
   "duration": 22.58727,
   "end_time": "2025-01-05T04:18:56.072041",
   "environment_variables": {},
   "exception": null,
   "input_path": "__notebook__.ipynb",
   "output_path": "__notebook__.ipynb",
   "parameters": {},
   "start_time": "2025-01-05T04:18:33.484771",
   "version": "2.6.0"
  }
 },
 "nbformat": 4,
 "nbformat_minor": 5
}
